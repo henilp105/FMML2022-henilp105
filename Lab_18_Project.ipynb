{
  "nbformat": 4,
  "nbformat_minor": 0,
  "metadata": {
    "colab": {
      "name": "Lab-18 Project.ipynb",
      "provenance": [],
      "collapsed_sections": [],
      "include_colab_link": true
    },
    "kernelspec": {
      "name": "python3",
      "display_name": "Python 3"
    },
    "language_info": {
      "name": "python"
    },
    "accelerator": "GPU",
    "gpuClass": "standard"
  },
  "cells": [
    {
      "cell_type": "markdown",
      "metadata": {
        "id": "view-in-github",
        "colab_type": "text"
      },
      "source": [
        "<a href=\"https://colab.research.google.com/github/henilp105/FMML2022-henilp105/blob/main/Lab_18_Project.ipynb\" target=\"_parent\"><img src=\"https://colab.research.google.com/assets/colab-badge.svg\" alt=\"Open In Colab\"/></a>"
      ]
    },
    {
      "cell_type": "markdown",
      "source": [
        "This Entire Experiment has been executed by Henil Panchal .\n",
        "\n",
        "FMML 2022 ID: fmml20211022@ihub-data.iiit.ac.in\n",
        "\n",
        "Many to Many RNNs\n",
        "\n",
        "These types of networks take a sequence as an input and give a sequence as an output. It can be used in problems like machine translation, named entity recognition, POS tagging and others.\n",
        "\n",
        "In this project you would work on different types of RNNs on the task of POS tagging. "
      ],
      "metadata": {
        "id": "wR1-tzFtmx5S"
      }
    },
    {
      "cell_type": "code",
      "source": [
        "import nltk\n",
        "nltk.download('treebank')\n",
        "nltk.download('brown')\n",
        "nltk.download('universal_tagset')"
      ],
      "metadata": {
        "id": "Mc4T5BKsIjz7",
        "outputId": "ebea175a-921e-47a6-fe6a-ca7a5ba6432f",
        "colab": {
          "base_uri": "https://localhost:8080/"
        }
      },
      "execution_count": 2,
      "outputs": [
        {
          "output_type": "stream",
          "name": "stderr",
          "text": [
            "[nltk_data] Downloading package treebank to /root/nltk_data...\n",
            "[nltk_data]   Unzipping corpora/treebank.zip.\n",
            "[nltk_data] Downloading package brown to /root/nltk_data...\n",
            "[nltk_data]   Unzipping corpora/brown.zip.\n",
            "[nltk_data] Downloading package universal_tagset to /root/nltk_data...\n",
            "[nltk_data]   Unzipping taggers/universal_tagset.zip.\n"
          ]
        },
        {
          "output_type": "execute_result",
          "data": {
            "text/plain": [
              "True"
            ]
          },
          "metadata": {},
          "execution_count": 2
        }
      ]
    },
    {
      "cell_type": "code",
      "execution_count": 3,
      "metadata": {
        "id": "waY0Fb_AmVB1"
      },
      "outputs": [],
      "source": [
        "## We will use Treebank from NLTK as dataset\n",
        "from nltk.corpus import treebank\n",
        "from nltk.corpus import brown"
      ]
    },
    {
      "cell_type": "code",
      "source": [
        "# load POS tagged corpora from NLTK\n",
        "treebank_corpus = treebank.tagged_sents(tagset='universal')\n",
        "brown_corpus = brown.tagged_sents(tagset='universal')\n",
        "tagged_sentences = treebank_corpus + brown_corpus\n"
      ],
      "metadata": {
        "id": "gSTdU2tqIYmw"
      },
      "execution_count": 4,
      "outputs": []
    },
    {
      "cell_type": "code",
      "source": [
        "print(\"Number of sentences: \" + str(len(tagged_sentences)))\n",
        "tagged_sentences[0]"
      ],
      "metadata": {
        "id": "Zdp_-ESKLTnv",
        "outputId": "bce85898-b164-4634-b88e-a97193252dbc",
        "colab": {
          "base_uri": "https://localhost:8080/"
        }
      },
      "execution_count": 5,
      "outputs": [
        {
          "output_type": "stream",
          "name": "stdout",
          "text": [
            "Number of sentences: 61254\n"
          ]
        },
        {
          "output_type": "execute_result",
          "data": {
            "text/plain": [
              "[('Pierre', 'NOUN'),\n",
              " ('Vinken', 'NOUN'),\n",
              " (',', '.'),\n",
              " ('61', 'NUM'),\n",
              " ('years', 'NOUN'),\n",
              " ('old', 'ADJ'),\n",
              " (',', '.'),\n",
              " ('will', 'VERB'),\n",
              " ('join', 'VERB'),\n",
              " ('the', 'DET'),\n",
              " ('board', 'NOUN'),\n",
              " ('as', 'ADP'),\n",
              " ('a', 'DET'),\n",
              " ('nonexecutive', 'ADJ'),\n",
              " ('director', 'NOUN'),\n",
              " ('Nov.', 'NOUN'),\n",
              " ('29', 'NUM'),\n",
              " ('.', '.')]"
            ]
          },
          "metadata": {},
          "execution_count": 5
        }
      ]
    },
    {
      "cell_type": "markdown",
      "source": [
        "This is a many-to-many problem, each data point will be a different sentence of the corpora.\n",
        "\n",
        "Each data point will have multiple words in the input sequence. This is what we will refer to as X.\n",
        "\n",
        "Each word will have its correpsonding tag in the output sequence. This what we will refer to as Y.\n",
        "\n"
      ],
      "metadata": {
        "id": "2i3S452lmwqN"
      }
    },
    {
      "cell_type": "code",
      "source": [
        "X = [] # store input sequence\n",
        "Y = [] # store output sequence\n",
        "\n",
        "for sentence in tagged_sentences:\n",
        "    X_sentence = []\n",
        "    Y_sentence = []\n",
        "    for entity in sentence:         \n",
        "        X_sentence.append(entity[0])  # entity[0] contains the word\n",
        "        Y_sentence.append(entity[1])  # entity[1] contains corresponding tag\n",
        "        \n",
        "    X.append(X_sentence)\n",
        "    Y.append(Y_sentence)\n"
      ],
      "metadata": {
        "id": "dSUwl-pWL-4E"
      },
      "execution_count": 6,
      "outputs": []
    },
    {
      "cell_type": "code",
      "source": [
        "num_words = len(set([word.lower() for sentence in X for word in sentence]))\n",
        "num_tags   = len(set([word.lower() for sentence in Y for word in sentence]))\n"
      ],
      "metadata": {
        "id": "L-CLIg5oMBeu"
      },
      "execution_count": 7,
      "outputs": []
    },
    {
      "cell_type": "code",
      "source": [
        "print(\"Total number of tagged sentences: {}\".format(len(X)))\n",
        "print(\"Vocabulary size: {}\".format(num_words))\n",
        "print(\"Total number of tags: {}\".format(num_tags))"
      ],
      "metadata": {
        "id": "izQ9_aO1MD0o",
        "outputId": "d9cde575-b5b3-45c1-9913-606e4f0dfc83",
        "colab": {
          "base_uri": "https://localhost:8080/"
        }
      },
      "execution_count": 8,
      "outputs": [
        {
          "output_type": "stream",
          "name": "stdout",
          "text": [
            "Total number of tagged sentences: 61254\n",
            "Vocabulary size: 53232\n",
            "Total number of tags: 12\n"
          ]
        }
      ]
    },
    {
      "cell_type": "code",
      "source": [
        "## Task - 1\n",
        "## Vectorize each sentence and pad each sequence to a fixed length\n",
        "print('sample X: ', X[0], '\\n')\n",
        "print('sample Y: ', Y[0], '\\n')"
      ],
      "metadata": {
        "id": "jaj5o3tlMKMM",
        "outputId": "0e1d88c7-f81f-4470-d473-a26bb4f40d67",
        "colab": {
          "base_uri": "https://localhost:8080/"
        }
      },
      "execution_count": 9,
      "outputs": [
        {
          "output_type": "stream",
          "name": "stdout",
          "text": [
            "sample X:  ['Pierre', 'Vinken', ',', '61', 'years', 'old', ',', 'will', 'join', 'the', 'board', 'as', 'a', 'nonexecutive', 'director', 'Nov.', '29', '.'] \n",
            "\n",
            "sample Y:  ['NOUN', 'NOUN', '.', 'NUM', 'NOUN', 'ADJ', '.', 'VERB', 'VERB', 'DET', 'NOUN', 'ADP', 'DET', 'ADJ', 'NOUN', 'NOUN', 'NUM', '.'] \n",
            "\n"
          ]
        }
      ]
    },
    {
      "cell_type": "code",
      "source": [
        "\n",
        "print(\"1st input sequence length  : {}\".format(len(X[0])))\n",
        "print(\"1st output sequence length : {}\".format(len(Y[0])))"
      ],
      "metadata": {
        "id": "otvSmuTE7Qcz",
        "outputId": "e20603f3-71e6-4661-c80c-4eb38a1d3df8",
        "colab": {
          "base_uri": "https://localhost:8080/"
        }
      },
      "execution_count": 10,
      "outputs": [
        {
          "output_type": "stream",
          "name": "stdout",
          "text": [
            "1st input sequence length  : 18\n",
            "1st output sequence length : 18\n"
          ]
        }
      ]
    },
    {
      "cell_type": "code",
      "source": [
        "from keras.preprocessing.sequence import pad_sequences\n",
        "from keras.utils.np_utils import to_categorical\n",
        "from keras.preprocessing.text import Tokenizer"
      ],
      "metadata": {
        "id": "C_rGKjQcM6a4"
      },
      "execution_count": 11,
      "outputs": []
    },
    {
      "cell_type": "code",
      "source": [
        "word_tokenizer = Tokenizer()                      # instantiate tokeniser\n",
        "word_tokenizer.fit_on_texts(X)                    # fit tokeniser on data\n",
        "X_encoded = word_tokenizer.texts_to_sequences(X)  # use the tokeniser to encode input sequence                                        # fit tokeniser on data\n",
        "                                              "
      ],
      "metadata": {
        "id": "xHyfAoHIM2kT"
      },
      "execution_count": 12,
      "outputs": []
    },
    {
      "cell_type": "code",
      "source": [
        "## Task - 2 \n",
        "## Convert Y to categorical and pad it as input\n",
        "tag_tokenizer = Tokenizer()\n",
        "tag_tokenizer.fit_on_texts(Y)\n",
        "Y_encoded = tag_tokenizer.texts_to_sequences(Y)\n"
      ],
      "metadata": {
        "id": "W8E9jODFMqa4"
      },
      "execution_count": 13,
      "outputs": []
    },
    {
      "cell_type": "code",
      "source": [
        "## Padding\n",
        "#X_encoded is the encoded form X from Task-1\n",
        "MAX_SEQ_LENGTH = 100  # sequences greater than 100 in length will be truncated\n",
        "\n",
        "X_padded = pad_sequences(X_encoded, maxlen=MAX_SEQ_LENGTH, padding=\"pre\", truncating=\"post\")\n",
        "Y_padded = pad_sequences(Y_encoded, maxlen=MAX_SEQ_LENGTH, padding=\"pre\", truncating=\"post\") # Pad for Y\n",
        "X, Y = X_padded, Y_padded\n"
      ],
      "metadata": {
        "id": "IXc87UyONM1v"
      },
      "execution_count": 14,
      "outputs": []
    },
    {
      "cell_type": "code",
      "source": [
        "# Change Y to categorical"
      ],
      "metadata": {
        "id": "H58Fbv1TNZ7N"
      },
      "execution_count": 15,
      "outputs": []
    },
    {
      "cell_type": "code",
      "source": [
        "Y = to_categorical(Y)\n",
        "\n",
        "print(Y.shape)"
      ],
      "metadata": {
        "id": "ea02auP98DJc",
        "outputId": "011763c9-e840-4fd9-d37b-14def0146216",
        "colab": {
          "base_uri": "https://localhost:8080/"
        }
      },
      "execution_count": 16,
      "outputs": [
        {
          "output_type": "stream",
          "name": "stdout",
          "text": [
            "(61254, 100, 13)\n"
          ]
        }
      ]
    },
    {
      "cell_type": "code",
      "source": [
        "from sklearn.model_selection import train_test_split\n",
        "from sklearn.utils import shuffle\n"
      ],
      "metadata": {
        "id": "pzym9XOSNen5"
      },
      "execution_count": 17,
      "outputs": []
    },
    {
      "cell_type": "code",
      "source": [
        "### Split data in training and testing \n",
        "TEST_SIZE = 0.15\n",
        "X_train, X_test, Y_train, Y_test = train_test_split(X, Y, test_size=TEST_SIZE, random_state=4)\n"
      ],
      "metadata": {
        "id": "bmk6GtXZMhoR"
      },
      "execution_count": 18,
      "outputs": []
    },
    {
      "cell_type": "code",
      "source": [
        "print(\"TRAINING DATA\")\n",
        "print('Shape of input sequences: {}'.format(X_train.shape))\n",
        "print('Shape of output sequences: {}'.format(Y_train.shape))\n",
        "print(\"-\"*50)\n",
        "print(\"TESTING DATA\")\n",
        "print('Shape of input sequences: {}'.format(X_test.shape))\n",
        "print('Shape of output sequences: {}'.format(Y_test.shape))\n"
      ],
      "metadata": {
        "id": "zoOtnDLuMpcE",
        "outputId": "b5b128f3-e41f-4c4f-f956-2588162107cc",
        "colab": {
          "base_uri": "https://localhost:8080/"
        }
      },
      "execution_count": 19,
      "outputs": [
        {
          "output_type": "stream",
          "name": "stdout",
          "text": [
            "TRAINING DATA\n",
            "Shape of input sequences: (52065, 100)\n",
            "Shape of output sequences: (52065, 100, 13)\n",
            "--------------------------------------------------\n",
            "TESTING DATA\n",
            "Shape of input sequences: (9189, 100)\n",
            "Shape of output sequences: (9189, 100, 13)\n"
          ]
        }
      ]
    },
    {
      "cell_type": "code",
      "source": [
        "NUM_CLASSES = Y.shape[2]"
      ],
      "metadata": {
        "id": "QZJ8foUQNoZs"
      },
      "execution_count": 20,
      "outputs": []
    },
    {
      "cell_type": "code",
      "source": [
        "from keras.models import Sequential\n",
        "from keras.layers import Embedding\n",
        "from keras.layers import Dense, Input\n",
        "from keras.layers import TimeDistributed\n",
        "from keras.layers import LSTM, GRU, Bidirectional, SimpleRNN, RNN\n",
        "from keras.models import Model"
      ],
      "metadata": {
        "id": "t9uxggfrNvzI"
      },
      "execution_count": 21,
      "outputs": []
    },
    {
      "cell_type": "code",
      "source": [
        "X[0]"
      ],
      "metadata": {
        "id": "ZBEE_iP7PsIJ",
        "outputId": "769e780e-0497-4a34-ab52-c49aa619372c",
        "colab": {
          "base_uri": "https://localhost:8080/"
        }
      },
      "execution_count": 22,
      "outputs": [
        {
          "output_type": "execute_result",
          "data": {
            "text/plain": [
              "array([    0,     0,     0,     0,     0,     0,     0,     0,     0,\n",
              "           0,     0,     0,     0,     0,     0,     0,     0,     0,\n",
              "           0,     0,     0,     0,     0,     0,     0,     0,     0,\n",
              "           0,     0,     0,     0,     0,     0,     0,     0,     0,\n",
              "           0,     0,     0,     0,     0,     0,     0,     0,     0,\n",
              "           0,     0,     0,     0,     0,     0,     0,     0,     0,\n",
              "           0,     0,     0,     0,     0,     0,     0,     0,     0,\n",
              "           0,     0,     0,     0,     0,     0,     0,     0,     0,\n",
              "           0,     0,     0,     0,     0,     0,     0,     0,     0,\n",
              "           0,  5594, 21728,     2,  9068,   105,   158,     2,    53,\n",
              "        1748,     1,   344,    18,     7, 13148,   880,  2681,  4000,\n",
              "           3], dtype=int32)"
            ]
          },
          "metadata": {},
          "execution_count": 22
        }
      ]
    },
    {
      "cell_type": "code",
      "source": [
        "### Task - 3 Complete the two lines"
      ],
      "metadata": {
        "id": "VM0MaaO9BdxE"
      },
      "execution_count": 23,
      "outputs": []
    },
    {
      "cell_type": "code",
      "source": [
        "rnn_model = Sequential()\n",
        "\n",
        "# create embedding layer - usually the first layer in text problems\n",
        "rnn_model.add(Embedding(num_words + 1,         # vocabulary size - number of unique words in data\n",
        "                        output_dim    =  300,          # length of vector with which each word is represented\n",
        "                        input_length  =  MAX_SEQ_LENGTH,          # length of input sequence\n",
        "                        trainable     =  False                    # False - don't update the embeddings\n",
        "))\n",
        "\n",
        "# add an any RNN layer which contains 64 RNN cells\n",
        "rnn_model.add(SimpleRNN(64, return_sequences=True))\n",
        "\n",
        "# add time distributed (output at each sequence) layer\n",
        "rnn_model.add(TimeDistributed(Dense(NUM_CLASSES, activation='softmax')))"
      ],
      "metadata": {
        "id": "80yPeIRGNrOf"
      },
      "execution_count": 24,
      "outputs": []
    },
    {
      "cell_type": "code",
      "source": [
        "rnn_model.compile(loss      =  'categorical_crossentropy',\n",
        "                  optimizer =  'adam',\n",
        "                  metrics   =  ['acc'])\n"
      ],
      "metadata": {
        "id": "pS0uwKlCNu3R"
      },
      "execution_count": 25,
      "outputs": []
    },
    {
      "cell_type": "code",
      "source": [
        "rnn_model.summary()\n"
      ],
      "metadata": {
        "id": "a90HE-aROobD",
        "outputId": "78d9772b-c56a-469d-c4f3-484798610494",
        "colab": {
          "base_uri": "https://localhost:8080/"
        }
      },
      "execution_count": 26,
      "outputs": [
        {
          "output_type": "stream",
          "name": "stdout",
          "text": [
            "Model: \"sequential\"\n",
            "_________________________________________________________________\n",
            " Layer (type)                Output Shape              Param #   \n",
            "=================================================================\n",
            " embedding (Embedding)       (None, 100, 300)          15969900  \n",
            "                                                                 \n",
            " simple_rnn (SimpleRNN)      (None, 100, 64)           23360     \n",
            "                                                                 \n",
            " time_distributed (TimeDistr  (None, 100, 13)          845       \n",
            " ibuted)                                                         \n",
            "                                                                 \n",
            "=================================================================\n",
            "Total params: 15,994,105\n",
            "Trainable params: 24,205\n",
            "Non-trainable params: 15,969,900\n",
            "_________________________________________________________________\n"
          ]
        }
      ]
    },
    {
      "cell_type": "code",
      "source": [
        "rnn_training = rnn_model.fit(X_train, Y_train, batch_size=256, epochs=10)\n"
      ],
      "metadata": {
        "id": "xRuJr-oaOp3q",
        "outputId": "dbb7f9e9-4845-4795-91ff-58df0dc7f0d3",
        "colab": {
          "base_uri": "https://localhost:8080/"
        }
      },
      "execution_count": 27,
      "outputs": [
        {
          "output_type": "stream",
          "name": "stdout",
          "text": [
            "Epoch 1/10\n",
            "204/204 [==============================] - 22s 88ms/step - loss: 0.6283 - acc: 0.8232\n",
            "Epoch 2/10\n",
            "204/204 [==============================] - 18s 89ms/step - loss: 0.4037 - acc: 0.8834\n",
            "Epoch 3/10\n",
            "204/204 [==============================] - 19s 95ms/step - loss: 0.3146 - acc: 0.9049\n",
            "Epoch 4/10\n",
            "204/204 [==============================] - 18s 88ms/step - loss: 0.2589 - acc: 0.9204\n",
            "Epoch 5/10\n",
            "204/204 [==============================] - 18s 89ms/step - loss: 0.2251 - acc: 0.9293\n",
            "Epoch 6/10\n",
            "204/204 [==============================] - 18s 90ms/step - loss: 0.2021 - acc: 0.9354\n",
            "Epoch 7/10\n",
            "204/204 [==============================] - 18s 90ms/step - loss: 0.1859 - acc: 0.9403\n",
            "Epoch 8/10\n",
            "204/204 [==============================] - 18s 88ms/step - loss: 0.1735 - acc: 0.9442\n",
            "Epoch 9/10\n",
            "204/204 [==============================] - 18s 87ms/step - loss: 0.1636 - acc: 0.9471\n",
            "Epoch 10/10\n",
            "204/204 [==============================] - 18s 88ms/step - loss: 0.1556 - acc: 0.9493\n"
          ]
        }
      ]
    },
    {
      "cell_type": "code",
      "source": [
        "from matplotlib import pyplot as plt"
      ],
      "metadata": {
        "id": "dV9RiL92ArQO"
      },
      "execution_count": 28,
      "outputs": []
    },
    {
      "cell_type": "code",
      "source": [
        "plt.plot(rnn_training.history['acc'])\n",
        "plt.title('model accuracy')\n",
        "plt.ylabel('accuracy')\n",
        "plt.xlabel('epoch')\n",
        "plt.legend(['train', 'test'], loc=\"lower right\")\n",
        "plt.show()\n"
      ],
      "metadata": {
        "id": "XO7E0Z9QOt0o",
        "outputId": "712721b0-40e8-498f-9197-0f749e3ad417",
        "colab": {
          "base_uri": "https://localhost:8080/",
          "height": 295
        }
      },
      "execution_count": 29,
      "outputs": [
        {
          "output_type": "display_data",
          "data": {
            "text/plain": [
              "<Figure size 432x288 with 1 Axes>"
            ],
            "image/png": "[encoded data removed]"
          },
          "metadata": {
            "needs_background": "light"
          }
        }
      ]
    },
    {
      "cell_type": "code",
      "source": [
        "loss, accuracy = rnn_model.evaluate(X_test, Y_test, verbose = 1)\n",
        "print(\"Loss: {0},\\nAccuracy: {1}\".format(loss, accuracy))"
      ],
      "metadata": {
        "id": "StG9D6m-Gj1Y",
        "outputId": "50efccbb-f762-44f0-b0b7-04cefb3e4501",
        "colab": {
          "base_uri": "https://localhost:8080/"
        }
      },
      "execution_count": 30,
      "outputs": [
        {
          "output_type": "stream",
          "name": "stdout",
          "text": [
            "288/288 [==============================] - 3s 9ms/step - loss: 0.1518 - acc: 0.9506\n",
            "Loss: 0.15180397033691406,\n",
            "Accuracy: 0.9506388306617737\n"
          ]
        }
      ]
    },
    {
      "cell_type": "code",
      "source": [
        "## Task - 4 How did turning the trainable parameter in Embedding layer into True effect the performance?"
      ],
      "metadata": {
        "id": "mwUWYtbWBxzD"
      },
      "execution_count": 31,
      "outputs": []
    },
    {
      "cell_type": "markdown",
      "source": [
        "Task - 4 How did turning the trainable parameter in Embedding layer into True effect the performance?\n",
        "\n",
        "\n",
        "answer: the embedding was updated\n"
      ],
      "metadata": {
        "id": "q7DTuaNU8in5"
      }
    },
    {
      "cell_type": "markdown",
      "source": [
        ""
      ],
      "metadata": {
        "id": "3hiCwFPk8fi6"
      }
    },
    {
      "cell_type": "code",
      "source": [
        "## Task - 5 How else can you improve the accuracy? \n",
        "## ANSWER: the accuracy can be improved by using different models or types of feature extractions"
      ],
      "metadata": {
        "id": "EkBr6IuKHKUy"
      },
      "execution_count": 32,
      "outputs": []
    },
    {
      "cell_type": "code",
      "source": [
        "## Task - 6 Use other RNNs present in Keras like LSTM, GRU, BiLSTMs, BiGRU and compare any three models with RNNs "
      ],
      "metadata": {
        "id": "Eg4KYjksGIw1"
      },
      "execution_count": 33,
      "outputs": []
    },
    {
      "cell_type": "code",
      "source": [
        "from keras.models import Sequential\n",
        "from keras.layers import LSTM, Dense, Dropout, Embedding, Masking\n",
        "\n",
        "lstm_model = Sequential()\n",
        "lstm_model.add(Embedding(num_words + 1, output_dim    = 200, input_length  = MAX_SEQ_LENGTH,  trainable = True ))           \n",
        "lstm_model.add(LSTM(64, return_sequences=True))\n",
        "lstm_model.add(TimeDistributed(Dense(NUM_CLASSES, activation='softmax')))\n",
        "lstm_model.add(Masking(mask_value=0.0))  ##Masking layer for pre-trained embeddings\n",
        "\n",
        "lstm_model.compile(\n",
        "    optimizer='adam', loss='categorical_crossentropy', metrics=['accuracy'])"
      ],
      "metadata": {
        "id": "HfsPE2qu9BWV"
      },
      "execution_count": 34,
      "outputs": []
    },
    {
      "cell_type": "code",
      "source": [
        "lstm_model.summary()"
      ],
      "metadata": {
        "id": "KCrYhVUz-Njr",
        "outputId": "981fdca4-e578-40ac-cea7-ca99d0db5997",
        "colab": {
          "base_uri": "https://localhost:8080/"
        }
      },
      "execution_count": 35,
      "outputs": [
        {
          "output_type": "stream",
          "name": "stdout",
          "text": [
            "Model: \"sequential_1\"\n",
            "_________________________________________________________________\n",
            " Layer (type)                Output Shape              Param #   \n",
            "=================================================================\n",
            " embedding_1 (Embedding)     (None, 100, 200)          10646600  \n",
            "                                                                 \n",
            " lstm (LSTM)                 (None, 100, 64)           67840     \n",
            "                                                                 \n",
            " time_distributed_1 (TimeDis  (None, 100, 13)          845       \n",
            " tributed)                                                       \n",
            "                                                                 \n",
            " masking (Masking)           (None, 100, 13)           0         \n",
            "                                                                 \n",
            "=================================================================\n",
            "Total params: 10,715,285\n",
            "Trainable params: 10,715,285\n",
            "Non-trainable params: 0\n",
            "_________________________________________________________________\n"
          ]
        }
      ]
    },
    {
      "cell_type": "code",
      "source": [
        "lstm_training = lstm_model.fit(X_train, Y_train, batch_size=128, epochs=10)"
      ],
      "metadata": {
        "id": "CC_3vh-L-ZAo",
        "outputId": "a4b2ef80-94bb-459f-cbd6-3a0b109af004",
        "colab": {
          "base_uri": "https://localhost:8080/"
        }
      },
      "execution_count": 36,
      "outputs": [
        {
          "output_type": "stream",
          "name": "stdout",
          "text": [
            "Epoch 1/10\n",
            "407/407 [==============================] - 10s 15ms/step - loss: 0.3582 - accuracy: 0.9071\n",
            "Epoch 2/10\n",
            "407/407 [==============================] - 6s 14ms/step - loss: 0.0413 - accuracy: 0.9884\n",
            "Epoch 3/10\n",
            "407/407 [==============================] - 6s 14ms/step - loss: 0.0247 - accuracy: 0.9916\n",
            "Epoch 4/10\n",
            "407/407 [==============================] - 6s 14ms/step - loss: 0.0201 - accuracy: 0.9928\n",
            "Epoch 5/10\n",
            "407/407 [==============================] - 6s 14ms/step - loss: 0.0175 - accuracy: 0.9938\n",
            "Epoch 6/10\n",
            "407/407 [==============================] - 6s 14ms/step - loss: 0.0156 - accuracy: 0.9944\n",
            "Epoch 7/10\n",
            "407/407 [==============================] - 6s 14ms/step - loss: 0.0142 - accuracy: 0.9950\n",
            "Epoch 8/10\n",
            "407/407 [==============================] - 6s 14ms/step - loss: 0.0130 - accuracy: 0.9954\n",
            "Epoch 9/10\n",
            "407/407 [==============================] - 6s 14ms/step - loss: 0.0119 - accuracy: 0.9958\n",
            "Epoch 10/10\n",
            "407/407 [==============================] - 6s 14ms/step - loss: 0.0109 - accuracy: 0.9962\n"
          ]
        }
      ]
    },
    {
      "cell_type": "code",
      "source": [
        "# plotting the values\n",
        "plt.plot(lstm_training.history['accuracy'])\n",
        "plt.title('model accuracy')\n",
        "plt.ylabel('accuracy')\n",
        "plt.xlabel('epoch')\n",
        "plt.legend(['train', 'test'], loc=\"lower right\")\n",
        "plt.show()\n"
      ],
      "metadata": {
        "id": "vKMlXzab-eT6",
        "outputId": "9bd017fe-b841-43aa-f89c-2d152883656f",
        "colab": {
          "base_uri": "https://localhost:8080/",
          "height": 295
        }
      },
      "execution_count": 37,
      "outputs": [
        {
          "output_type": "display_data",
          "data": {
            "text/plain": [
              "<Figure size 432x288 with 1 Axes>"
            ],
            "image/png": "[encoded data removed]"
          },
          "metadata": {
            "needs_background": "light"
          }
        }
      ]
    }
  ]
}