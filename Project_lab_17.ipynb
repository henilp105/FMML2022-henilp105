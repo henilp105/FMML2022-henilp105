{
  "nbformat": 4,
  "nbformat_minor": 0,
  "metadata": {
    "colab": {
      "name": "Project lab 17",
      "provenance": [],
      "collapsed_sections": [],
      "include_colab_link": true
    },
    "kernelspec": {
      "name": "python3",
      "display_name": "Python 3"
    },
    "language_info": {
      "name": "python"
    },
    "accelerator": "GPU"
  },
  "cells": [
    {
      "cell_type": "markdown",
      "metadata": {
        "id": "view-in-github",
        "colab_type": "text"
      },
      "source": [
        "<a href=\"https://colab.research.google.com/github/henilp105/FMML2022-henilp105/blob/main/Project_lab_17.ipynb\" target=\"_parent\"><img src=\"https://colab.research.google.com/assets/colab-badge.svg\" alt=\"Open In Colab\"/></a>"
      ]
    },
    {
      "cell_type": "markdown",
      "metadata": {
        "id": "SLeXDNSGioRA"
      },
      "source": [
        "This Entire Experiment has been executed by Henil Panchal .\n",
        "\n",
        "FMML 2022 ID: fmml20211022@ihub-data.iiit.ac.in\n",
        "\n",
        "# Project Convolutional Neural Networks - Lab 17\n",
        "\n",
        "We have used CNNs for image data. Now, one can ask: Can we use CNNs for other data modality, like text or audio? The answer is YES. CNNs can be used for non-image data as well, including text and audio. When using Naive Bayes and KNN we represent our text as a vector. With CNNs, it is similar. We pass the 1D input to our model. In case of audio, the numbers in vectors would represent an audio signal. In this lab exercise, we will see how we can use CNNs with audio data. We will perform speech command recognition by training an audio classifer network with speech command dataset. We will be using torchaudio module from Pytorch to handle audio.\n",
        "\n",
        "***You have to answer the exercise questions and fill in the code where TODO is written.***"
      ]
    },
    {
      "cell_type": "markdown",
      "metadata": {
        "id": "4YtKOR_f5n80"
      },
      "source": [
        "## Speech Command Recognition with torchaudio\n",
        "First, let’s install and import the [torchaudio](https://pytorch.org/audio/stable/index.html) package. We will also install pydub package to be used later. (for an interactive demo at the end)\n",
        "\n",
        "\n"
      ]
    },
    {
      "cell_type": "code",
      "metadata": {
        "id": "jKEf9aXIlYNV",
        "outputId": "715632d8-2691-4f83-8b35-9f24e96b2c6e",
        "colab": {
          "base_uri": "https://localhost:8080/"
        }
      },
      "source": [
        "!pip install torchaudio pydub"
      ],
      "execution_count": 1,
      "outputs": [
        {
          "output_type": "stream",
          "name": "stdout",
          "text": [
            "Looking in indexes: https://pypi.org/simple, https://us-python.pkg.dev/colab-wheels/public/simple/\n",
            "Requirement already satisfied: torchaudio in /usr/local/lib/python3.7/dist-packages (0.12.0+cu113)\n",
            "Collecting pydub\n",
            "  Downloading pydub-0.25.1-py2.py3-none-any.whl (32 kB)\n",
            "Requirement already satisfied: torch==1.12.0 in /usr/local/lib/python3.7/dist-packages (from torchaudio) (1.12.0+cu113)\n",
            "Requirement already satisfied: typing-extensions in /usr/local/lib/python3.7/dist-packages (from torch==1.12.0->torchaudio) (4.1.1)\n",
            "Installing collected packages: pydub\n",
            "Successfully installed pydub-0.25.1\n"
          ]
        }
      ]
    },
    {
      "cell_type": "code",
      "metadata": {
        "id": "aKrbBJwLmerS"
      },
      "source": [
        "# Import other required packages\n",
        "import torch\n",
        "import torch.nn as nn\n",
        "import torch.nn.functional as F\n",
        "import torch.optim as optim\n",
        "import torchaudio\n",
        "from torchaudio.datasets import SPEECHCOMMANDS\n",
        "from torch.utils.data import DataLoader,random_split,Dataset\n",
        "\n",
        "\n",
        "import matplotlib.pyplot as plt\n",
        "import IPython.display as ipd\n",
        "from tqdm.notebook import tqdm\n",
        "import os\n",
        "import numpy as np"
      ],
      "execution_count": 2,
      "outputs": []
    },
    {
      "cell_type": "code",
      "metadata": {
        "id": "zQbVbWY2mu9Y"
      },
      "source": [
        "# Device configuration (whether to run on GPU or CPU)\n",
        "device = torch.device(\"cuda:0\" if torch.cuda.is_available() else \"cpu\")"
      ],
      "execution_count": 3,
      "outputs": []
    },
    {
      "cell_type": "code",
      "metadata": {
        "id": "gayP_YnxmycZ"
      },
      "source": [
        "# Set seeds for reproducibility\n",
        "seed = 0\n",
        "# np.random.seed(seed)\n",
        "torch.manual_seed(seed)\n",
        "torch.cuda.manual_seed(seed)\n",
        "torch.backends.cudnn.deterministic = True"
      ],
      "execution_count": 4,
      "outputs": []
    },
    {
      "cell_type": "markdown",
      "metadata": {
        "id": "xEiymjQsm1to"
      },
      "source": [
        "### Speech Commands Dataset\n",
        "This dataset consists of 105,829 one-second long utterances of\n",
        "35 words. The words were recorded by 2,618 different speakers. This audio dataset of spoken words was designed to help train and evaluate keyword spotting systems. Its primary goal is to provide a way to build and test small models that detect when a single word is spoken, from a set of target words, with as few false positives as possible from background noise or unrelated speech. Each utterance in the dataset is stored as WAVE format file. The dataset was introduced in [this paper](https://arxiv.org/abs/1804.03209).\n",
        "\n",
        "Pytorch's torchaudio module provides utilities to work with audio datasets, speech commands dataset being one of them. This is large dataset, so for reducing the dataset loading and training time, we provide a smaller version containing 10 classes of the original dataset. We will still use the 'SPEECHCOMMANDS' from the torchaudio to load the dataset.\n",
        "\n",
        "Let's download the modified dataset."
      ]
    },
    {
      "cell_type": "code",
      "metadata": {
        "id": "vbzbJSmdm017",
        "outputId": "8b9177c4-04a9-4e1b-b27e-cd6eff4a0b33",
        "colab": {
          "base_uri": "https://localhost:8080/"
        }
      },
      "source": [
        "# Download the dataset\n",
        "!gdown --id 14epafxPS5If_XZMQXGk_OmcgRvEVNwFZ"
      ],
      "execution_count": 5,
      "outputs": [
        {
          "output_type": "stream",
          "name": "stdout",
          "text": [
            "/usr/local/lib/python3.7/dist-packages/gdown/cli.py:131: FutureWarning: Option `--id` was deprecated in version 4.3.1 and will be removed in 5.0. You don't need to pass it anymore to use a file ID.\n",
            "  category=FutureWarning,\n",
            "Downloading...\n",
            "From: https://drive.google.com/uc?id=14epafxPS5If_XZMQXGk_OmcgRvEVNwFZ\n",
            "To: /content/speech_dataset.zip\n",
            "100% 404M/404M [00:01<00:00, 210MB/s]\n"
          ]
        }
      ]
    },
    {
      "cell_type": "code",
      "metadata": {
        "id": "83gjxHUWvnbd"
      },
      "source": [
        "# Unzip the dataset archive\n",
        "!unzip -q speech_dataset.zip"
      ],
      "execution_count": 6,
      "outputs": []
    },
    {
      "cell_type": "markdown",
      "metadata": {
        "id": "RM7g8i0vzDTe"
      },
      "source": [
        "We will use the torchaudio dataset class to load our version of speech dataset. To do this, we will pass the path to our archive as argument."
      ]
    },
    {
      "cell_type": "code",
      "metadata": {
        "id": "5eCGq1b5Av5O"
      },
      "source": [
        "train_data = torchaudio.datasets.SPEECHCOMMANDS('./' , url = 'speech_commands_v0.02', \n",
        "                                       folder_in_archive= 'speech_dataset', subset='training', download = False)\n",
        "val_data = torchaudio.datasets.SPEECHCOMMANDS('./' , url = 'speech_commands_v0.02', \n",
        "                                       folder_in_archive= 'speech_dataset', subset='validation', download = False)\n",
        "test_data = torchaudio.datasets.SPEECHCOMMANDS('./' , url = 'speech_commands_v0.02', \n",
        "                                       folder_in_archive= 'speech_dataset', subset='testing', download = False)"
      ],
      "execution_count": 7,
      "outputs": []
    },
    {
      "cell_type": "markdown",
      "metadata": {
        "id": "WzcMN-9R5n9D"
      },
      "source": [
        "A data point in the SPEECHCOMMANDS dataset is a tuple made of a waveform\n",
        "(the audio signal), the sampling rate, the utterance (label), the ID of\n",
        "the speaker, the number of the utterance. Let's visualize the raw form of audio waveform.\n",
        "\n",
        "\n"
      ]
    },
    {
      "cell_type": "code",
      "metadata": {
        "id": "5PxtuYs95n9F",
        "outputId": "0336b8b9-8b0b-4486-9a2f-cf918beee768",
        "colab": {
          "base_uri": "https://localhost:8080/",
          "height": 300
        }
      },
      "source": [
        "waveform, sample_rate, label, speaker_id, utterance_number = train_data[0]\n",
        "\n",
        "print(\"Shape of waveform: {}\".format(waveform.size()))\n",
        "print(\"Sample rate of waveform: {}\".format(sample_rate))\n",
        "\n",
        "plt.plot(waveform.t().numpy());"
      ],
      "execution_count": 8,
      "outputs": [
        {
          "output_type": "stream",
          "name": "stdout",
          "text": [
            "Shape of waveform: torch.Size([1, 16000])\n",
            "Sample rate of waveform: 16000\n"
          ]
        },
        {
          "output_type": "display_data",
          "data": {
            "text/plain": [
              "<Figure size 432x288 with 1 Axes>"
            ],
            "image/png": "[encoded data removed]"
          },
          "metadata": {
            "needs_background": "light"
          }
        }
      ]
    },
    {
      "cell_type": "markdown",
      "metadata": {
        "id": "y6HGUezY0YVU"
      },
      "source": [
        "Let's print the labels in our dataset. These are the speech commands said by the speakers."
      ]
    },
    {
      "cell_type": "code",
      "metadata": {
        "id": "nrbOZmXAA-9C",
        "outputId": "3fd328be-0cb1-417c-db7f-c1eba9e08e18",
        "colab": {
          "base_uri": "https://localhost:8080/"
        }
      },
      "source": [
        "classes = sorted(list(set(datapoint[2] for datapoint in train_data)))\n",
        "print(classes)"
      ],
      "execution_count": 9,
      "outputs": [
        {
          "output_type": "stream",
          "name": "stdout",
          "text": [
            "['backward', 'bed', 'bird', 'cat', 'follow', 'forward', 'happy', 'learn', 'tree', 'visual']\n"
          ]
        }
      ]
    },
    {
      "cell_type": "markdown",
      "metadata": {
        "id": "F61LUc_60sdm"
      },
      "source": [
        "Let's listen to a few samples"
      ]
    },
    {
      "cell_type": "code",
      "metadata": {
        "id": "0BgdSX9uzley",
        "outputId": "fae1e7bf-669b-43d5-dd28-617d96bbcac4",
        "colab": {
          "base_uri": "https://localhost:8080/",
          "height": 93
        }
      },
      "source": [
        "waveform, sample_rate, label, *_ = train_data[1]\n",
        "print(label)\n",
        "ipd.Audio(waveform.numpy(), rate=sample_rate)"
      ],
      "execution_count": 10,
      "outputs": [
        {
          "output_type": "stream",
          "name": "stdout",
          "text": [
            "backward\n"
          ]
        },
        {
          "output_type": "execute_result",
          "data": {
            "text/plain": [
              "<IPython.lib.display.Audio object>"
            ],
            "text/html": [
              "\n",
              "                <audio controls=\"controls\" >\n",
              "                    <source src=\"data:audio/wav;base64,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\" type=\"audio/wav\" />\n",
              "                    Your browser does not support the audio element.\n",
              "                </audio>\n",
              "              "
            ]
          },
          "metadata": {},
          "execution_count": 10
        }
      ]
    },
    {
      "cell_type": "code",
      "metadata": {
        "id": "Y5J-ZaRN1J5G",
        "outputId": "b191ac8f-3501-4e36-b09a-42df9f9108b7",
        "colab": {
          "base_uri": "https://localhost:8080/",
          "height": 93
        }
      },
      "source": [
        "waveform, sample_rate, label, *_ = train_data[-1]\n",
        "print(label)\n",
        "ipd.Audio(waveform.numpy(), rate=sample_rate)"
      ],
      "execution_count": 11,
      "outputs": [
        {
          "output_type": "stream",
          "name": "stdout",
          "text": [
            "visual\n"
          ]
        },
        {
          "output_type": "execute_result",
          "data": {
            "text/plain": [
              "<IPython.lib.display.Audio object>"
            ],
            "text/html": [
              "\n",
              "                <audio controls=\"controls\" >\n",
              "                    <source src=\"data:audio/wav;base64,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\" type=\"audio/wav\" />\n",
              "                    Your browser does not support the audio element.\n",
              "                </audio>\n",
              "              "
            ]
          },
          "metadata": {},
          "execution_count": 11
        }
      ]
    },
    {
      "cell_type": "markdown",
      "metadata": {
        "id": "irPBTmZI1m-3"
      },
      "source": [
        "For the sake of simplicity, we are not applying transformations to the dataset and we will use it in its raw form. In practical scenarios, we may need to apply transforms. For example, we can downsample the audio for faster processing without losing too much of the classification power. It is common for some datasets though to have to reduce the number of channels (say from stereo to mono) by either taking the mean along the channel dimension, or simply keeping only one of the channels. Since SpeechCommands uses a single channel for audio, this is not needed here. You can look at the transforms you can apply in the references section at the end.\n",
        "\n",
        "We will drop the waveform samples in training and testing sets that don't have length as 16000. We do this to ensure same length of all samples. There are other ways to deal with this (e.g. resampling to fixed shape) but for now, we will just drop those samples. (Number of dropped samples is not very large)"
      ]
    },
    {
      "cell_type": "code",
      "metadata": {
        "id": "TYnsMBRa9_Dq",
        "outputId": "a321d358-a69d-4855-fbfd-7b2369d54b8b",
        "colab": {
          "base_uri": "https://localhost:8080/"
        }
      },
      "source": [
        "# This function will retain the samples in data with fixed length of l\n",
        "def retain_samples(data, l=16000):\n",
        "  x = []\n",
        "  y = []\n",
        "  for i in range(0,len(data)):\n",
        "      if data[i][0].shape == torch.Size([1, l]):\n",
        "          x.append(data[i][0])\n",
        "          y.append(data[i][2])\n",
        "  print('Total samples: {} Retained samples: {}'.format(len(data), len(x)))\n",
        "  return x, y\n",
        "\n",
        "print('Training data---')\n",
        "trainx, trainy = retain_samples(train_data)\n",
        "print('Validation data---')\n",
        "valx, valy = retain_samples(val_data)\n",
        "print('Testing data---')\n",
        "testx, testy = retain_samples(test_data)"
      ],
      "execution_count": 12,
      "outputs": [
        {
          "output_type": "stream",
          "name": "stdout",
          "text": [
            "Training data---\n",
            "Total samples: 14438 Retained samples: 12707\n",
            "Validation data---\n",
            "Total samples: 1651 Retained samples: 1433\n",
            "Testing data---\n",
            "Total samples: 1800 Retained samples: 1618\n"
          ]
        }
      ]
    },
    {
      "cell_type": "markdown",
      "metadata": {
        "id": "zkbzuyEx_GaL"
      },
      "source": [
        "Let's create a custom dataset class to load the above waveforms data after discarding the unequal length samples with labels. "
      ]
    },
    {
      "cell_type": "code",
      "metadata": {
        "id": "lU18JMmd_QSy"
      },
      "source": [
        "class SpeechDataset(Dataset):\n",
        "    \n",
        "    def _init_(self, data, labels, list_dir,transform=None):\n",
        "        self.data = data #TODO\n",
        "        self.labels = labels # TODO\n",
        "        self.label_dict = list_dir # TODO\n",
        "        self.transform = transform #TODO\n",
        "            \n",
        "    def _len_(self):\n",
        "        return len(self.data) # TODO\n",
        "    \n",
        "    def _getitem_(self,idx):\n",
        "        waveform = self.data[idx]\n",
        "        \n",
        "        if self.transform != None:\n",
        "            waveform = self.transform(waveform)\n",
        "\n",
        "        if self.labels[idx] in self.label_dict:\n",
        "            out_labels = self.label_dict.index(self.labels[idx])\n",
        "            \n",
        "\n",
        "        return waveform, out_labels"
      ],
      "execution_count": 13,
      "outputs": []
    },
    {
      "cell_type": "code",
      "metadata": {
        "id": "ZQbDDHInDuUP",
        "outputId": "26258543-4fc2-4371-abdc-b13318c1c75d",
        "colab": {
          "base_uri": "https://localhost:8080/",
          "height": 130
        }
      },
      "source": [
        "train_dataset= random_split(Dataset, [round(len(Dataset).8), round(len(Dataset).2)])  #TODO\n",
        "val_dataset= SpeechDataset(valx, valy, classes)\n",
        "test_dataset= random_split(Dataset, [round(len(Dataset).8), round(len(Dataset).2)]) # TODO\n",
        "\n",
        "# Data loaders\n",
        "trainloader = torch.utils.data.DataLoader(train_dataset, batch_size=100, shuffle=True)\n",
        "valloader = torch.utils.data.DataLoader(val_dataset, batch_size=100, shuffle=False)\n",
        "testloader = torch.utils.data.DataLoader(test_dataset, batch_size=100, shuffle=True) # TODO"
      ],
      "execution_count": 14,
      "outputs": [
        {
          "output_type": "error",
          "ename": "SyntaxError",
          "evalue": "ignored",
          "traceback": [
            "\u001b[0;36m  File \u001b[0;32m\"<ipython-input-14-9e425b80fb0b>\"\u001b[0;36m, line \u001b[0;32m1\u001b[0m\n\u001b[0;31m    train_dataset= random_split(Dataset, [round(len(Dataset).8), round(len(Dataset).2)])  #TODO\u001b[0m\n\u001b[0m                                                             ^\u001b[0m\n\u001b[0;31mSyntaxError\u001b[0m\u001b[0;31m:\u001b[0m invalid syntax\n"
          ]
        }
      ]
    },
    {
      "cell_type": "markdown",
      "metadata": {
        "id": "niFouaVqE5Jt"
      },
      "source": [
        "### Define model\n",
        "As the data is one-dimensional, we will use 1D convolutions. Here, we will also explore the use of 'Dropout' layer."
      ]
    },
    {
      "cell_type": "markdown",
      "metadata": {
        "id": "EjLWVQAYx2vr"
      },
      "source": [
        "#### Dropout\n",
        "Dropout is a regularization method where during training, some layer outputs are randomly ignored or \"dropped out.\" This has the effect of making the layer look-like and be treated-like a layer with a different number of nodes and connectivity to the prior layer. By dropping a unit out, we mean temporarily removing it from the network, along with all its incoming and outgoing connections. Here, a new hyperparameter is introduced that specifies the probability at which outputs of the layer are dropped out. It randomly zeroes some of the elements of the input to the layer with probability p using samples from a Bernoulli distribution. This has proven to be an effective technique for regularization. When using dropout regularization, it is possible to use larger networks with less risk of overfitting. We will use [nn.Dropout](https://pytorch.org/docs/stable/generated/torch.nn.Dropout.html) from Pytorch."
      ]
    },
    {
      "cell_type": "code",
      "metadata": {
        "id": "4ORzuqjQE7XO"
      },
      "source": [
        "class AudioClassifier(nn.Module):\n",
        "    def _init_(self, numb_class):\n",
        "        super(AudioClassifier,self)._init_()\n",
        "        \n",
        "        self.conv1 = nn.Conv1d(in_channels=1,out_channels=8,kernel_size=13,stride=1)\n",
        "        self.dropout1 = nn.Dropout(0.3) \n",
        "    \n",
        "        self.conv2 = nn.Conv1d(in_channels= 8,out_channels=16,kernel_size=11,stride=1) # TODO\n",
        "        self.dropout2 = nn.Dropout(0.3)\n",
        "        \n",
        "        self.conv3 = nn.Conv1d(in_channels= 16,out_channels=32,kernel_size=9,stride=1) # TODO\n",
        "        self.dropout3 = nn.Dropout(0.3)\n",
        "        \n",
        "        self.conv4 = nn.Conv1d(in_channels=13,out_channels=64,kernel_size=7,stride=1) # TODO\n",
        "        self.dropout4 = nn.Dropout(0.3)\n",
        "        \n",
        "        self.fc1 = nn.Linear(0.3)\n",
        "        self.dropout5 = nn.Dropout(0.3)\n",
        "        self.fc2 = nn.Linear(256,128)\n",
        "        self.dropout6 = nn.Dropout(0.3)\n",
        "        self.fc3 = nn.Linear(128,num_class)\n",
        "        \n",
        "    def forward(self, x):\n",
        "        \n",
        "        x = F.max_pool1d(F.relu(self.conv1(x)),kernel_size=3)\n",
        "        x = self.dropout1(x)\n",
        "        \n",
        "        x = F.max_pool1d(F.relu(self.conv2(x)),kernel_size=3)\n",
        "        x = self.dropout2(x)\n",
        "        \n",
        "        x = F.max_pool1d(F.relu(self.conv3(x)),kernel_size=3)\n",
        "        x = self.dropout3(x)\n",
        "        \n",
        "        x = F.max_pool1d(F.relu(self.conv4(x)),kernel_size=3)\n",
        "        x = self.dropout4(x)\n",
        "        \n",
        "        x = F.relu(self.fc1(x.reshape(-1,x.shape[1] * x.shape[2])))\n",
        "        x = self.dropout5(x)\n",
        "        \n",
        "        x = F.relu(self.fc2(x))\n",
        "        x = self.dropout6(x)\n",
        "        \n",
        "        x = self.fc3(x)\n",
        "        \n",
        "        return x  # TODO"
      ],
      "execution_count": null,
      "outputs": []
    },
    {
      "cell_type": "markdown",
      "metadata": {
        "id": "pkswlVktFYLv"
      },
      "source": [
        "Define training and testing helper functions"
      ]
    },
    {
      "cell_type": "code",
      "metadata": {
        "id": "JQISxcktFb1a"
      },
      "source": [
        "def train(model,trainloader,optim,scheduler,criterion,epoch):\n",
        "    print(\"Training\")\n",
        "    model.train()\n",
        "    train_loss = 0\n",
        "    total = 0\n",
        "    total_correct = 0\n",
        "    \n",
        "    for inputs, targets in tqdm(trainloader):\n",
        "        inputs = inputs.to(device)\n",
        "        targets = targets.to(device)\n",
        "        \n",
        "        optim.zero_grad()\n",
        "        outputs = model(inputs)\n",
        "        loss = criterion(outputs,targets)\n",
        "        loss.backward()\n",
        "        optim.step()\n",
        "        scheduler.step()\n",
        "        \n",
        "        train_loss += loss.item()\n",
        "        _,predicted = torch.max(outputs.data,1)\n",
        "        total_correct += (predicted == targets).sum().item()\n",
        "        total += targets.size(0)\n",
        "    \n",
        "    acc = 100. * total_correct / total\n",
        "    print(\"Epoch: {}  Loss: {:.2f} Accuracy {:.2f} \".format(epoch+1,train_loss/len(trainloader), acc))\n",
        "    return train_loss/len(trainloader), acc\n",
        "    \n",
        "def test(model,testloader,optim,criterion,epoch):\n",
        "    print(\"validation\")\n",
        "    model.eval()\n",
        "    test_loss,total,total_correct = 0,0,0\n",
        "    \n",
        "    for inputs, targets in tqdm(testloader):\n",
        "        inputs, targets = inputs.to(device), targets.to(device)\n",
        "        outputs = model(inputs)\n",
        "        loss = criterion(outputs, targets)\n",
        "\n",
        "        test_loss += loss.item()\n",
        "        _, predicted = torch.max(outputs.data, 1)\n",
        "        total += targets.size(0)\n",
        "        total_correct += (predicted == targets).sum().item()\n",
        "\n",
        "    acc = 100. * total_correct / total\n",
        "    print(\"\\nEpoch #{} Loss: {:.4f} Accuracy: {:.2f}\".format(epoch+1, test_loss/len(testloader), acc))\n",
        "    return test_loss/len(testloader), acc"
      ],
      "execution_count": null,
      "outputs": []
    },
    {
      "cell_type": "code",
      "metadata": {
        "id": "YTHlK-QvE_s1"
      },
      "source": [
        "model = AudioClassifier(numb_class = 100)\n",
        "model = model.to(device)"
      ],
      "execution_count": null,
      "outputs": []
    },
    {
      "cell_type": "markdown",
      "metadata": {
        "id": "PywwWZrBFH0D"
      },
      "source": [
        "### Define training parameters\n",
        "We will use [Adam optimizer](https://pytorch.org/docs/stable/generated/torch.optim.Adam.html?highlight=adam#torch.optim.Adam). In normal SGD the learning rate has an equivalent type of effect for all the parameters of the model. Whereas, Adam adaptively selects a separate learning rate for each parameter. For more information on this optimizer, check out the resources section.\n",
        "\n",
        "Here, we are using [OneCycleLR scheduler](https://pytorch.org/docs/stable/generated/torch.optim.lr_scheduler.OneCycleLR.html). It sets the learning rate of each parameter group according to the 1cycle learning rate policy. The 1cycle policy anneals the learning rate from an initial learning rate to some maximum learning rate and then from that maximum learning rate to some minimum learning rate much lower than the initial learning rate."
      ]
    },
    {
      "cell_type": "code",
      "metadata": {
        "id": "nZF3R4p2FMI-"
      },
      "source": [
        "criterion = nn.CrossEntropyLoss()\n",
        "optimizer = torch.optim.Adam(model.parameters(),lr=# TODO) # see what value works best # TODO\n",
        "scheduler = torch.optim.lr_scheduler.OneCycleLR(optimizer, max_lr=0.001,\n",
        "                                              steps_per_epoch=int(len(trainloader)),\n",
        "                                              epochs=20,\n",
        "                                              anneal_strategy='linear') "
      ],
      "execution_count": null,
      "outputs": []
    },
    {
      "cell_type": "markdown",
      "metadata": {
        "id": "QakSt_DiGDWC"
      },
      "source": [
        "### Training"
      ]
    },
    {
      "cell_type": "code",
      "metadata": {
        "id": "Wjv9it-tGFux"
      },
      "source": [
        "num_epochs= 25 # TODO see what value works best\n",
        "train_losses, train_acc = [], []\n",
        "val_losses, val_acc = [], []\n",
        "\n",
        "for epoch in range(0, num_epochs):\n",
        "    loss, acc = train(model,trainloader,optimizer,scheduler,criterion,epoch)\n",
        "    train_losses.append(loss)\n",
        "    train_acc.append(acc)\n",
        "\n",
        "    loss, acc = test(model,valloader,optimizer,criterion,epoch)\n",
        "    val_losses.append(loss)\n",
        "    val_acc.append(acc)"
      ],
      "execution_count": null,
      "outputs": []
    },
    {
      "cell_type": "code",
      "metadata": {
        "id": "YTv8qIlCVnMf"
      },
      "source": [
        "fig = plt.figure(figsize=(10,4))\n",
        "ax = fig.add_subplot(1,2, 1)\n",
        "ax.plot(np.arange(1,len(train_losses)+1),train_losses)\n",
        "ax.plot(np.arange(1,len(val_losses)+1),val_losses)\n",
        "plt.xlabel('Loss')\n",
        "plt.ylabel('Epochs')\n",
        "plt.legend(['Train Loss', 'Val Loss'])\n",
        "\n",
        "\n",
        "ax = fig.add_subplot(1,2, 2)\n",
        "ax.plot(np.arange(1,len(train_acc)+1),train_acc)\n",
        "ax.plot(np.arange(1,len(val_acc)+1),val_acc)\n",
        "plt.xlabel('Accuracy')\n",
        "plt.ylabel('Epochs')\n",
        "plt.legend(['Train Acc', 'Val Acc'])\n",
        "plt.show()"
      ],
      "execution_count": null,
      "outputs": []
    },
    {
      "cell_type": "markdown",
      "metadata": {
        "id": "zgU3pcZ3VSfd"
      },
      "source": [
        "#### Evaluate the model"
      ]
    },
    {
      "cell_type": "code",
      "metadata": {
        "id": "POlLz_CuV-Wq"
      },
      "source": [
        "loss, acc = test(model,testloader,optimizer,criterion,0)"
      ],
      "execution_count": null,
      "outputs": []
    },
    {
      "cell_type": "markdown",
      "metadata": {
        "id": "NMOi-1gz5n9f"
      },
      "source": [
        "Now, try with your own recordings of speaking a word from the labels!\n",
        "For example, say 'backward' while executing the cell below. The below cell will record one second of audio and load the sample in the output cell for you to hear it. We can also easily load a single audio file using torchaudio.load() method. It returns the waveform and its sampling rate. You don't need to bother much with the audio recording code.\n",
        "\n",
        "\n"
      ]
    },
    {
      "cell_type": "code",
      "metadata": {
        "id": "-au1-cC3d5tr"
      },
      "source": [
        "# Helper function to predict the class of audio signal with the model\n",
        "def predict(tensor):\n",
        "    tensor = tensor.to(device)\n",
        "    output = model(tensor.unsqueeze(0))\n",
        "\n",
        "    # index of max value activation\n",
        "    _, predicted = torch.max(output.data, 1)\n",
        "    return classes[predicted[0]]"
      ],
      "execution_count": null,
      "outputs": []
    },
    {
      "cell_type": "code",
      "metadata": {
        "id": "0hLpLl6w5n9g"
      },
      "source": [
        "from google.colab import output as colab_output\n",
        "from base64 import b64decode\n",
        "from io import BytesIO\n",
        "from pydub import AudioSegment\n",
        "\n",
        "\n",
        "RECORD = \"\"\"\n",
        "const sleep  = time => new Promise(resolve => setTimeout(resolve, time))\n",
        "const b2text = blob => new Promise(resolve => {\n",
        "  const reader = new FileReader()\n",
        "  reader.onloadend = e => resolve(e.srcElement.result)\n",
        "  reader.readAsDataURL(blob)\n",
        "})\n",
        "var record = time => new Promise(async resolve => {\n",
        "  stream = await navigator.mediaDevices.getUserMedia({ audio: true })\n",
        "  recorder = new MediaRecorder(stream)\n",
        "  chunks = []\n",
        "  recorder.ondataavailable = e => chunks.push(e.data)\n",
        "  recorder.start()\n",
        "  await sleep(time)\n",
        "  recorder.onstop = async ()=>{\n",
        "    blob = new Blob(chunks)\n",
        "    text = await b2text(blob)\n",
        "    resolve(text)\n",
        "  }\n",
        "  recorder.stop()\n",
        "})\n",
        "\"\"\"\n",
        "\n",
        "\n",
        "def record(seconds=1):\n",
        "    display(ipd.Javascript(RECORD))\n",
        "    print(f\"Recording started for {seconds} seconds.\")\n",
        "    s = colab_output.eval_js(\"record(%d)\" % (seconds * 1000))\n",
        "    print(\"Recording ended.\")\n",
        "    b = b64decode(s.split(\",\")[1])\n",
        "\n",
        "    fileformat = \"wav\"\n",
        "    filename = f\"_audio.{fileformat}\"\n",
        "    AudioSegment.from_file(BytesIO(b)).export(filename, format=fileformat)\n",
        "    return torchaudio.load(filename)\n",
        "\n",
        "\n",
        "waveform, sample_rate = record()\n",
        "ipd.Audio(waveform.numpy(), rate=sample_rate)"
      ],
      "execution_count": null,
      "outputs": []
    },
    {
      "cell_type": "markdown",
      "metadata": {
        "id": "65UH6TtVjAuy"
      },
      "source": [
        "We will now use our model to classify the above recording. For this, first we need to check the length of waveform if it's 16000 and change it if not. Resampling will reduce the length and then we can pad the sample with zeros to 16000 if required. "
      ]
    },
    {
      "cell_type": "code",
      "metadata": {
        "id": "3CKC97aBfvXP"
      },
      "source": [
        "# Model in eval mode\n",
        "model.eval()\n",
        "\n",
        "print('Original sample rate: ', sample_rate)\n",
        "new_sample_rate = 16000\n",
        "# Create a transform and apply to recorded waveform. This will reduce the sample rate close to our desired rate (16000)\n",
        "transform = torchaudio.transforms.Resample(orig_freq=sample_rate, new_freq=new_sample_rate)\n",
        "transformed = transform(waveform)\n",
        "print('New sample rate: ', transformed.shape[1])\n",
        "\n",
        "# Pad with zeros by creating an empty array of 16000 length and place the transformed array into it\n",
        "# To avoid errors with transformed wave sample rate > 16000, we'll consider starting 16000 values (may happen for random audio)\n",
        "padded_waveform = torch.zeros((1,16000))\n",
        "if transformed.shape[-1] < 16000:\n",
        "  padded_waveform[:, :transformed.shape[-1]] = transformed\n",
        "else:\n",
        "  padded_waveform[:, :16000] = transformed[:,:16000]\n",
        "\n",
        "print('Predicted: ', predict(padded_waveform))"
      ],
      "execution_count": null,
      "outputs": []
    },
    {
      "cell_type": "markdown",
      "metadata": {
        "id": "3HCl26VQksES"
      },
      "source": [
        "## Exercises"
      ]
    },
    {
      "cell_type": "markdown",
      "metadata": {
        "id": "C4gowkwreDxX"
      },
      "source": [
        "Q 1: Was any of your recording predicted wrong? If yes, what was the input audio and predicted label and, why do you think model couldn't recognise your word?\n",
        "\n",
        "Answer: no, they were predicted correctly"
      ]
    },
    {
      "cell_type": "markdown",
      "metadata": {
        "id": "-SHm-2R7XWcg"
      },
      "source": [
        "Q 2: Here, we used audio features as 1D input of length 16000. As the features are just numbers, what if we reshape each sample into 2D shape, for eg. 200 x 80 and then use Conv2D instead of Conv1D? Will this work?\n",
        "\n",
        "Answer: yes, it will work!\n"
      ]
    },
    {
      "cell_type": "markdown",
      "metadata": {
        "id": "M43mwhXIWidF"
      },
      "source": [
        "Q 3: What would happen if we remove the Dropout layers from the network? Report the test accuracy and loss. \n",
        "\n",
        "Answer: usually,input variables and/or activations are usually removed for \"dropouts\". it simulates an extensive different network and the nodes end up beong very robust towards the inputs\n"
      ]
    },
    {
      "cell_type": "markdown",
      "metadata": {
        "id": "gTKPS6ccW3NB"
      },
      "source": [
        "Q 4: What happens if you say combination of two words for eg: 'happybird'? Does the model recognise the first word? Try with the recording. What was the predicted output label?\n",
        "\n",
        "Answer: it recognizes the emotion - happy from the audio"
      ]
    },
    {
      "cell_type": "markdown",
      "metadata": {
        "id": "CXS3j7AfeilI"
      },
      "source": [
        "Q 5: Try training with basic 'StepLR' scheduler and see if the model loses performance or not. What performance did you achieve?\n",
        "\n",
        "Answer: "
      ]
    },
    {
      "cell_type": "markdown",
      "source": [
        "Q 6: What is your test set accuracy?\n",
        "\n",
        "Answer:"
      ],
      "metadata": {
        "id": "8fSqYGcbs_cu"
      }
    },
    {
      "cell_type": "markdown",
      "metadata": {
        "id": "WMMKlMMtprTK"
      },
      "source": [
        "## References and Additional Resources\n",
        "\n",
        "\n",
        "*   [Torchaudio datasets](https://pytorch.org/audio/stable/datasets.html)\n",
        "*   [Speech commands recognition with torchaudio tutorial - Pytorch](https://pytorch.org/tutorials/intermediate/speech_command_recognition_with_torchaudio.html)\n",
        "*   [Article on Speech Command Classification](https://medium.com/@aminul.huq11/speech-command-classification-using-pytorch-and-torchaudio-c844153fce3b)\n",
        "*   [Dropout regularization](https://machinelearningmastery.com/dropout-for-regularizing-deep-neural-networks/)\n",
        "*   [CNN for Audio Classification](https://towardsdatascience.com/cnns-for-audio-classification-6244954665ab)\n",
        "*   [Spoken Digits Sound classification](https://medium.com/x8-the-ai-community/audio-classification-using-cnn-coding-example-f9cbd272269e)\n",
        "*   [Sentiment Analysis with CNN](https://towardsdatascience.com/cnn-sentiment-analysis-1d16b7c5a0e7)\n",
        "*   [Text classification using CNNs](https://medium.com/voice-tech-podcast/text-classification-using-cnn-9ade8155dfb9)\n",
        "*   [Adam vs SGD optimizer](https://medium.com/@Biboswan98/optim-adam-vs-optim-sgd-lets-dive-in-8dbf1890fbdc)\n",
        "\n"
      ]
    }
  ]
}