{
  "nbformat": 4,
  "nbformat_minor": 0,
  "metadata": {
    "colab": {
      "name": "Unsupervised Project.ipynb",
      "provenance": [],
      "collapsed_sections": [],
      "include_colab_link": true
    },
    "kernelspec": {
      "name": "python3",
      "display_name": "Python 3"
    },
    "language_info": {
      "name": "python"
    }
  },
  "cells": [
    {
      "cell_type": "markdown",
      "metadata": {
        "id": "view-in-github",
        "colab_type": "text"
      },
      "source": [
        "<a href=\"https://colab.research.google.com/github/henilp105/FMML2022-henilp105/blob/main/Unsupervised_Project.ipynb\" target=\"_parent\"><img src=\"https://colab.research.google.com/assets/colab-badge.svg\" alt=\"Open In Colab\"/></a>"
      ]
    },
    {
      "cell_type": "markdown",
      "metadata": {
        "id": "O6WbuhKIaj8v"
      },
      "source": [
        "# Movie Recommendation Engine"
      ]
    },
    {
      "cell_type": "code",
      "metadata": {
        "colab": {
          "base_uri": "https://localhost:8080/"
        },
        "id": "ZMBdXlbjbEf4",
        "outputId": "e6d4dcef-3f8c-43e7-cd28-fa149213f6c5"
      },
      "source": [
        "# dataset download\n",
        "\n",
        "# !wget https://files.grouplens.org/datasets/movielens/ml-100k.zip\n",
        "!wget https://files.grouplens.org/datasets/movielens/ml-latest-small.zip\n",
        "!unzip ml-latest-small.zip"
      ],
      "execution_count": 1,
      "outputs": [
        {
          "output_type": "stream",
          "name": "stdout",
          "text": [
            "--2022-05-01 14:51:25--  https://files.grouplens.org/datasets/movielens/ml-latest-small.zip\n",
            "Resolving files.grouplens.org (files.grouplens.org)... 128.101.65.152\n",
            "Connecting to files.grouplens.org (files.grouplens.org)|128.101.65.152|:443... connected.\n",
            "HTTP request sent, awaiting response... 200 OK\n",
            "Length: 978202 (955K) [application/zip]\n",
            "Saving to: ‘ml-latest-small.zip’\n",
            "\n",
            "ml-latest-small.zip 100%[===================>] 955.28K  3.06MB/s    in 0.3s    \n",
            "\n",
            "2022-05-01 14:51:25 (3.06 MB/s) - ‘ml-latest-small.zip’ saved [978202/978202]\n",
            "\n",
            "Archive:  ml-latest-small.zip\n",
            "   creating: ml-latest-small/\n",
            "  inflating: ml-latest-small/links.csv  \n",
            "  inflating: ml-latest-small/tags.csv  \n",
            "  inflating: ml-latest-small/ratings.csv  \n",
            "  inflating: ml-latest-small/README.txt  \n",
            "  inflating: ml-latest-small/movies.csv  \n"
          ]
        }
      ]
    },
    {
      "cell_type": "markdown",
      "metadata": {
        "id": "ZUjEAuW0eHbZ"
      },
      "source": [
        "## Clustering based recommendation"
      ]
    },
    {
      "cell_type": "code",
      "metadata": {
        "id": "HtuurMa5aeiX"
      },
      "source": [
        "# Import Libraries\n",
        "import pandas as pd\n",
        "import matplotlib.pyplot as plt\n",
        "import numpy as np\n",
        "from scipy.sparse import csr_matrix\n",
        "from mpl_toolkits.axes_grid1 import make_axes_locatable\n",
        "from sklearn.cluster import KMeans\n",
        "from sklearn.metrics import mean_squared_error\n",
        "import itertools\n",
        "from sklearn.metrics import silhouette_samples, silhouette_score"
      ],
      "execution_count": 2,
      "outputs": []
    },
    {
      "cell_type": "code",
      "metadata": {
        "colab": {
          "base_uri": "https://localhost:8080/",
          "height": 206
        },
        "id": "iZ1H-jLmcT49",
        "outputId": "a8b3aec6-73de-4f56-a6cd-cc72c3ea0906"
      },
      "source": [
        "# Import the Movies dataset\n",
        "movies = pd.read_csv('ml-latest-small/movies.csv')\n",
        "movies.head()"
      ],
      "execution_count": 3,
      "outputs": [
        {
          "output_type": "execute_result",
          "data": {
            "text/plain": [
              "   movieId                               title  \\\n",
              "0        1                    Toy Story (1995)   \n",
              "1        2                      Jumanji (1995)   \n",
              "2        3             Grumpier Old Men (1995)   \n",
              "3        4            Waiting to Exhale (1995)   \n",
              "4        5  Father of the Bride Part II (1995)   \n",
              "\n",
              "                                        genres  \n",
              "0  Adventure|Animation|Children|Comedy|Fantasy  \n",
              "1                   Adventure|Children|Fantasy  \n",
              "2                               Comedy|Romance  \n",
              "3                         Comedy|Drama|Romance  \n",
              "4                                       Comedy  "
            ],
            "text/html": [
              "\n",
              "  <div id=\"df-81804a88-9f36-413e-a1a1-08654c4ccff0\">\n",
              "    <div class=\"colab-df-container\">\n",
              "      <div>\n",
              "<style scoped>\n",
              "    .dataframe tbody tr th:only-of-type {\n",
              "        vertical-align: middle;\n",
              "    }\n",
              "\n",
              "    .dataframe tbody tr th {\n",
              "        vertical-align: top;\n",
              "    }\n",
              "\n",
              "    .dataframe thead th {\n",
              "        text-align: right;\n",
              "    }\n",
              "</style>\n",
              "<table border=\"1\" class=\"dataframe\">\n",
              "  <thead>\n",
              "    <tr style=\"text-align: right;\">\n",
              "      <th></th>\n",
              "      <th>movieId</th>\n",
              "      <th>title</th>\n",
              "      <th>genres</th>\n",
              "    </tr>\n",
              "  </thead>\n",
              "  <tbody>\n",
              "    <tr>\n",
              "      <th>0</th>\n",
              "      <td>1</td>\n",
              "      <td>Toy Story (1995)</td>\n",
              "      <td>Adventure|Animation|Children|Comedy|Fantasy</td>\n",
              "    </tr>\n",
              "    <tr>\n",
              "      <th>1</th>\n",
              "      <td>2</td>\n",
              "      <td>Jumanji (1995)</td>\n",
              "      <td>Adventure|Children|Fantasy</td>\n",
              "    </tr>\n",
              "    <tr>\n",
              "      <th>2</th>\n",
              "      <td>3</td>\n",
              "      <td>Grumpier Old Men (1995)</td>\n",
              "      <td>Comedy|Romance</td>\n",
              "    </tr>\n",
              "    <tr>\n",
              "      <th>3</th>\n",
              "      <td>4</td>\n",
              "      <td>Waiting to Exhale (1995)</td>\n",
              "      <td>Comedy|Drama|Romance</td>\n",
              "    </tr>\n",
              "    <tr>\n",
              "      <th>4</th>\n",
              "      <td>5</td>\n",
              "      <td>Father of the Bride Part II (1995)</td>\n",
              "      <td>Comedy</td>\n",
              "    </tr>\n",
              "  </tbody>\n",
              "</table>\n",
              "</div>\n",
              "      <button class=\"colab-df-convert\" onclick=\"convertToInteractive('df-81804a88-9f36-413e-a1a1-08654c4ccff0')\"\n",
              "              title=\"Convert this dataframe to an interactive table.\"\n",
              "              style=\"display:none;\">\n",
              "        \n",
              "  <svg xmlns=\"http://www.w3.org/2000/svg\" height=\"24px\"viewBox=\"0 0 24 24\"\n",
              "       width=\"24px\">\n",
              "    <path d=\"M0 0h24v24H0V0z\" fill=\"none\"/>\n",
              "    <path d=\"M18.56 5.44l.94 2.06.94-2.06 2.06-.94-2.06-.94-.94-2.06-.94 2.06-2.06.94zm-11 1L8.5 8.5l.94-2.06 2.06-.94-2.06-.94L8.5 2.5l-.94 2.06-2.06.94zm10 10l.94 2.06.94-2.06 2.06-.94-2.06-.94-.94-2.06-.94 2.06-2.06.94z\"/><path d=\"M17.41 7.96l-1.37-1.37c-.4-.4-.92-.59-1.43-.59-.52 0-1.04.2-1.43.59L10.3 9.45l-7.72 7.72c-.78.78-.78 2.05 0 2.83L4 21.41c.39.39.9.59 1.41.59.51 0 1.02-.2 1.41-.59l7.78-7.78 2.81-2.81c.8-.78.8-2.07 0-2.86zM5.41 20L4 18.59l7.72-7.72 1.47 1.35L5.41 20z\"/>\n",
              "  </svg>\n",
              "      </button>\n",
              "      \n",
              "  <style>\n",
              "    .colab-df-container {\n",
              "      display:flex;\n",
              "      flex-wrap:wrap;\n",
              "      gap: 12px;\n",
              "    }\n",
              "\n",
              "    .colab-df-convert {\n",
              "      background-color: #E8F0FE;\n",
              "      border: none;\n",
              "      border-radius: 50%;\n",
              "      cursor: pointer;\n",
              "      display: none;\n",
              "      fill: #1967D2;\n",
              "      height: 32px;\n",
              "      padding: 0 0 0 0;\n",
              "      width: 32px;\n",
              "    }\n",
              "\n",
              "    .colab-df-convert:hover {\n",
              "      background-color: #E2EBFA;\n",
              "      box-shadow: 0px 1px 2px rgba(60, 64, 67, 0.3), 0px 1px 3px 1px rgba(60, 64, 67, 0.15);\n",
              "      fill: #174EA6;\n",
              "    }\n",
              "\n",
              "    [theme=dark] .colab-df-convert {\n",
              "      background-color: #3B4455;\n",
              "      fill: #D2E3FC;\n",
              "    }\n",
              "\n",
              "    [theme=dark] .colab-df-convert:hover {\n",
              "      background-color: #434B5C;\n",
              "      box-shadow: 0px 1px 3px 1px rgba(0, 0, 0, 0.15);\n",
              "      filter: drop-shadow(0px 1px 2px rgba(0, 0, 0, 0.3));\n",
              "      fill: #FFFFFF;\n",
              "    }\n",
              "  </style>\n",
              "\n",
              "      <script>\n",
              "        const buttonEl =\n",
              "          document.querySelector('#df-81804a88-9f36-413e-a1a1-08654c4ccff0 button.colab-df-convert');\n",
              "        buttonEl.style.display =\n",
              "          google.colab.kernel.accessAllowed ? 'block' : 'none';\n",
              "\n",
              "        async function convertToInteractive(key) {\n",
              "          const element = document.querySelector('#df-81804a88-9f36-413e-a1a1-08654c4ccff0');\n",
              "          const dataTable =\n",
              "            await google.colab.kernel.invokeFunction('convertToInteractive',\n",
              "                                                     [key], {});\n",
              "          if (!dataTable) return;\n",
              "\n",
              "          const docLinkHtml = 'Like what you see? Visit the ' +\n",
              "            '<a target=\"_blank\" href=https://colab.research.google.com/notebooks/data_table.ipynb>data table notebook</a>'\n",
              "            + ' to learn more about interactive tables.';\n",
              "          element.innerHTML = '';\n",
              "          dataTable['output_type'] = 'display_data';\n",
              "          await google.colab.output.renderOutput(dataTable, element);\n",
              "          const docLink = document.createElement('div');\n",
              "          docLink.innerHTML = docLinkHtml;\n",
              "          element.appendChild(docLink);\n",
              "        }\n",
              "      </script>\n",
              "    </div>\n",
              "  </div>\n",
              "  "
            ]
          },
          "metadata": {},
          "execution_count": 3
        }
      ]
    },
    {
      "cell_type": "code",
      "metadata": {
        "colab": {
          "base_uri": "https://localhost:8080/",
          "height": 206
        },
        "id": "5dBSzAp5cW5w",
        "outputId": "766419ea-6358-41a5-806e-9ef205c8399f"
      },
      "source": [
        "# Import the ratings dataset\n",
        "ratings = pd.read_csv('ml-latest-small/ratings.csv')\n",
        "ratings.head()"
      ],
      "execution_count": 4,
      "outputs": [
        {
          "output_type": "execute_result",
          "data": {
            "text/plain": [
              "   userId  movieId  rating  timestamp\n",
              "0       1        1     4.0  964982703\n",
              "1       1        3     4.0  964981247\n",
              "2       1        6     4.0  964982224\n",
              "3       1       47     5.0  964983815\n",
              "4       1       50     5.0  964982931"
            ],
            "text/html": [
              "\n",
              "  <div id=\"df-16f19663-3876-45af-a2a5-0de7b0e8a3a4\">\n",
              "    <div class=\"colab-df-container\">\n",
              "      <div>\n",
              "<style scoped>\n",
              "    .dataframe tbody tr th:only-of-type {\n",
              "        vertical-align: middle;\n",
              "    }\n",
              "\n",
              "    .dataframe tbody tr th {\n",
              "        vertical-align: top;\n",
              "    }\n",
              "\n",
              "    .dataframe thead th {\n",
              "        text-align: right;\n",
              "    }\n",
              "</style>\n",
              "<table border=\"1\" class=\"dataframe\">\n",
              "  <thead>\n",
              "    <tr style=\"text-align: right;\">\n",
              "      <th></th>\n",
              "      <th>userId</th>\n",
              "      <th>movieId</th>\n",
              "      <th>rating</th>\n",
              "      <th>timestamp</th>\n",
              "    </tr>\n",
              "  </thead>\n",
              "  <tbody>\n",
              "    <tr>\n",
              "      <th>0</th>\n",
              "      <td>1</td>\n",
              "      <td>1</td>\n",
              "      <td>4.0</td>\n",
              "      <td>964982703</td>\n",
              "    </tr>\n",
              "    <tr>\n",
              "      <th>1</th>\n",
              "      <td>1</td>\n",
              "      <td>3</td>\n",
              "      <td>4.0</td>\n",
              "      <td>964981247</td>\n",
              "    </tr>\n",
              "    <tr>\n",
              "      <th>2</th>\n",
              "      <td>1</td>\n",
              "      <td>6</td>\n",
              "      <td>4.0</td>\n",
              "      <td>964982224</td>\n",
              "    </tr>\n",
              "    <tr>\n",
              "      <th>3</th>\n",
              "      <td>1</td>\n",
              "      <td>47</td>\n",
              "      <td>5.0</td>\n",
              "      <td>964983815</td>\n",
              "    </tr>\n",
              "    <tr>\n",
              "      <th>4</th>\n",
              "      <td>1</td>\n",
              "      <td>50</td>\n",
              "      <td>5.0</td>\n",
              "      <td>964982931</td>\n",
              "    </tr>\n",
              "  </tbody>\n",
              "</table>\n",
              "</div>\n",
              "      <button class=\"colab-df-convert\" onclick=\"convertToInteractive('df-16f19663-3876-45af-a2a5-0de7b0e8a3a4')\"\n",
              "              title=\"Convert this dataframe to an interactive table.\"\n",
              "              style=\"display:none;\">\n",
              "        \n",
              "  <svg xmlns=\"http://www.w3.org/2000/svg\" height=\"24px\"viewBox=\"0 0 24 24\"\n",
              "       width=\"24px\">\n",
              "    <path d=\"M0 0h24v24H0V0z\" fill=\"none\"/>\n",
              "    <path d=\"M18.56 5.44l.94 2.06.94-2.06 2.06-.94-2.06-.94-.94-2.06-.94 2.06-2.06.94zm-11 1L8.5 8.5l.94-2.06 2.06-.94-2.06-.94L8.5 2.5l-.94 2.06-2.06.94zm10 10l.94 2.06.94-2.06 2.06-.94-2.06-.94-.94-2.06-.94 2.06-2.06.94z\"/><path d=\"M17.41 7.96l-1.37-1.37c-.4-.4-.92-.59-1.43-.59-.52 0-1.04.2-1.43.59L10.3 9.45l-7.72 7.72c-.78.78-.78 2.05 0 2.83L4 21.41c.39.39.9.59 1.41.59.51 0 1.02-.2 1.41-.59l7.78-7.78 2.81-2.81c.8-.78.8-2.07 0-2.86zM5.41 20L4 18.59l7.72-7.72 1.47 1.35L5.41 20z\"/>\n",
              "  </svg>\n",
              "      </button>\n",
              "      \n",
              "  <style>\n",
              "    .colab-df-container {\n",
              "      display:flex;\n",
              "      flex-wrap:wrap;\n",
              "      gap: 12px;\n",
              "    }\n",
              "\n",
              "    .colab-df-convert {\n",
              "      background-color: #E8F0FE;\n",
              "      border: none;\n",
              "      border-radius: 50%;\n",
              "      cursor: pointer;\n",
              "      display: none;\n",
              "      fill: #1967D2;\n",
              "      height: 32px;\n",
              "      padding: 0 0 0 0;\n",
              "      width: 32px;\n",
              "    }\n",
              "\n",
              "    .colab-df-convert:hover {\n",
              "      background-color: #E2EBFA;\n",
              "      box-shadow: 0px 1px 2px rgba(60, 64, 67, 0.3), 0px 1px 3px 1px rgba(60, 64, 67, 0.15);\n",
              "      fill: #174EA6;\n",
              "    }\n",
              "\n",
              "    [theme=dark] .colab-df-convert {\n",
              "      background-color: #3B4455;\n",
              "      fill: #D2E3FC;\n",
              "    }\n",
              "\n",
              "    [theme=dark] .colab-df-convert:hover {\n",
              "      background-color: #434B5C;\n",
              "      box-shadow: 0px 1px 3px 1px rgba(0, 0, 0, 0.15);\n",
              "      filter: drop-shadow(0px 1px 2px rgba(0, 0, 0, 0.3));\n",
              "      fill: #FFFFFF;\n",
              "    }\n",
              "  </style>\n",
              "\n",
              "      <script>\n",
              "        const buttonEl =\n",
              "          document.querySelector('#df-16f19663-3876-45af-a2a5-0de7b0e8a3a4 button.colab-df-convert');\n",
              "        buttonEl.style.display =\n",
              "          google.colab.kernel.accessAllowed ? 'block' : 'none';\n",
              "\n",
              "        async function convertToInteractive(key) {\n",
              "          const element = document.querySelector('#df-16f19663-3876-45af-a2a5-0de7b0e8a3a4');\n",
              "          const dataTable =\n",
              "            await google.colab.kernel.invokeFunction('convertToInteractive',\n",
              "                                                     [key], {});\n",
              "          if (!dataTable) return;\n",
              "\n",
              "          const docLinkHtml = 'Like what you see? Visit the ' +\n",
              "            '<a target=\"_blank\" href=https://colab.research.google.com/notebooks/data_table.ipynb>data table notebook</a>'\n",
              "            + ' to learn more about interactive tables.';\n",
              "          element.innerHTML = '';\n",
              "          dataTable['output_type'] = 'display_data';\n",
              "          await google.colab.output.renderOutput(dataTable, element);\n",
              "          const docLink = document.createElement('div');\n",
              "          docLink.innerHTML = docLinkHtml;\n",
              "          element.appendChild(docLink);\n",
              "        }\n",
              "      </script>\n",
              "    </div>\n",
              "  </div>\n",
              "  "
            ]
          },
          "metadata": {},
          "execution_count": 4
        }
      ]
    },
    {
      "cell_type": "code",
      "metadata": {
        "colab": {
          "base_uri": "https://localhost:8080/"
        },
        "id": "mRRxx1bVcZAr",
        "outputId": "e50b9831-3c73-4782-e57f-4870c63e09ed"
      },
      "source": [
        "# Print the number of records and the total number of movies\n",
        "print('The dataset contains: ', len(ratings), ' ratings of ', len(movies), ' movies.')"
      ],
      "execution_count": 5,
      "outputs": [
        {
          "output_type": "stream",
          "name": "stdout",
          "text": [
            "The dataset contains:  100836  ratings of  9742  movies.\n"
          ]
        }
      ]
    },
    {
      "cell_type": "markdown",
      "metadata": {
        "id": "Ec8LbfpxcfyB"
      },
      "source": [
        "### Romance versus Science Fiction\n",
        "\n",
        "We will start by considering a subset of users and discovering what are their favourite genre. We will do this by defining a function that will calculate each user’s average rating for all science fiction and romance movies."
      ]
    },
    {
      "cell_type": "code",
      "metadata": {
        "colab": {
          "base_uri": "https://localhost:8080/",
          "height": 206
        },
        "id": "ZEiAml47ca7O",
        "outputId": "d1d1071f-b11e-4608-ad50-c610acf38212"
      },
      "source": [
        "# Function to get the genre ratings\n",
        "def get_genre_ratings(ratings, movies, genres, column_names):\n",
        "    genre_ratings = pd.DataFrame()\n",
        "    for genre in genres:        \n",
        "        genre_movies = movies[movies['genres'].str.contains(genre) ]\n",
        "        avg_genre_votes_per_user = ratings[ratings['movieId'].isin(genre_movies['movieId'])].loc[:, ['userId', 'rating']].groupby(['userId'])['rating'].mean().round(2)\n",
        "        \n",
        "        genre_ratings = pd.concat([genre_ratings, avg_genre_votes_per_user], axis=1)\n",
        "        \n",
        "    genre_ratings.columns = column_names\n",
        "    return genre_ratings# Calculate the average rating of romance and scifi movies\n",
        "genre_ratings = get_genre_ratings(ratings, movies, ['Romance', 'Sci-Fi'], ['avg_romance_rating', 'avg_scifi_rating'])\n",
        "genre_ratings.head()"
      ],
      "execution_count": 6,
      "outputs": [
        {
          "output_type": "execute_result",
          "data": {
            "text/plain": [
              "   avg_romance_rating  avg_scifi_rating\n",
              "1                4.31              4.22\n",
              "2                4.50              3.88\n",
              "3                0.50              4.20\n",
              "4                3.38              2.83\n",
              "5                3.09              2.50"
            ],
            "text/html": [
              "\n",
              "  <div id=\"df-46058409-9633-4719-9275-7c8ce51419f3\">\n",
              "    <div class=\"colab-df-container\">\n",
              "      <div>\n",
              "<style scoped>\n",
              "    .dataframe tbody tr th:only-of-type {\n",
              "        vertical-align: middle;\n",
              "    }\n",
              "\n",
              "    .dataframe tbody tr th {\n",
              "        vertical-align: top;\n",
              "    }\n",
              "\n",
              "    .dataframe thead th {\n",
              "        text-align: right;\n",
              "    }\n",
              "</style>\n",
              "<table border=\"1\" class=\"dataframe\">\n",
              "  <thead>\n",
              "    <tr style=\"text-align: right;\">\n",
              "      <th></th>\n",
              "      <th>avg_romance_rating</th>\n",
              "      <th>avg_scifi_rating</th>\n",
              "    </tr>\n",
              "  </thead>\n",
              "  <tbody>\n",
              "    <tr>\n",
              "      <th>1</th>\n",
              "      <td>4.31</td>\n",
              "      <td>4.22</td>\n",
              "    </tr>\n",
              "    <tr>\n",
              "      <th>2</th>\n",
              "      <td>4.50</td>\n",
              "      <td>3.88</td>\n",
              "    </tr>\n",
              "    <tr>\n",
              "      <th>3</th>\n",
              "      <td>0.50</td>\n",
              "      <td>4.20</td>\n",
              "    </tr>\n",
              "    <tr>\n",
              "      <th>4</th>\n",
              "      <td>3.38</td>\n",
              "      <td>2.83</td>\n",
              "    </tr>\n",
              "    <tr>\n",
              "      <th>5</th>\n",
              "      <td>3.09</td>\n",
              "      <td>2.50</td>\n",
              "    </tr>\n",
              "  </tbody>\n",
              "</table>\n",
              "</div>\n",
              "      <button class=\"colab-df-convert\" onclick=\"convertToInteractive('df-46058409-9633-4719-9275-7c8ce51419f3')\"\n",
              "              title=\"Convert this dataframe to an interactive table.\"\n",
              "              style=\"display:none;\">\n",
              "        \n",
              "  <svg xmlns=\"http://www.w3.org/2000/svg\" height=\"24px\"viewBox=\"0 0 24 24\"\n",
              "       width=\"24px\">\n",
              "    <path d=\"M0 0h24v24H0V0z\" fill=\"none\"/>\n",
              "    <path d=\"M18.56 5.44l.94 2.06.94-2.06 2.06-.94-2.06-.94-.94-2.06-.94 2.06-2.06.94zm-11 1L8.5 8.5l.94-2.06 2.06-.94-2.06-.94L8.5 2.5l-.94 2.06-2.06.94zm10 10l.94 2.06.94-2.06 2.06-.94-2.06-.94-.94-2.06-.94 2.06-2.06.94z\"/><path d=\"M17.41 7.96l-1.37-1.37c-.4-.4-.92-.59-1.43-.59-.52 0-1.04.2-1.43.59L10.3 9.45l-7.72 7.72c-.78.78-.78 2.05 0 2.83L4 21.41c.39.39.9.59 1.41.59.51 0 1.02-.2 1.41-.59l7.78-7.78 2.81-2.81c.8-.78.8-2.07 0-2.86zM5.41 20L4 18.59l7.72-7.72 1.47 1.35L5.41 20z\"/>\n",
              "  </svg>\n",
              "      </button>\n",
              "      \n",
              "  <style>\n",
              "    .colab-df-container {\n",
              "      display:flex;\n",
              "      flex-wrap:wrap;\n",
              "      gap: 12px;\n",
              "    }\n",
              "\n",
              "    .colab-df-convert {\n",
              "      background-color: #E8F0FE;\n",
              "      border: none;\n",
              "      border-radius: 50%;\n",
              "      cursor: pointer;\n",
              "      display: none;\n",
              "      fill: #1967D2;\n",
              "      height: 32px;\n",
              "      padding: 0 0 0 0;\n",
              "      width: 32px;\n",
              "    }\n",
              "\n",
              "    .colab-df-convert:hover {\n",
              "      background-color: #E2EBFA;\n",
              "      box-shadow: 0px 1px 2px rgba(60, 64, 67, 0.3), 0px 1px 3px 1px rgba(60, 64, 67, 0.15);\n",
              "      fill: #174EA6;\n",
              "    }\n",
              "\n",
              "    [theme=dark] .colab-df-convert {\n",
              "      background-color: #3B4455;\n",
              "      fill: #D2E3FC;\n",
              "    }\n",
              "\n",
              "    [theme=dark] .colab-df-convert:hover {\n",
              "      background-color: #434B5C;\n",
              "      box-shadow: 0px 1px 3px 1px rgba(0, 0, 0, 0.15);\n",
              "      filter: drop-shadow(0px 1px 2px rgba(0, 0, 0, 0.3));\n",
              "      fill: #FFFFFF;\n",
              "    }\n",
              "  </style>\n",
              "\n",
              "      <script>\n",
              "        const buttonEl =\n",
              "          document.querySelector('#df-46058409-9633-4719-9275-7c8ce51419f3 button.colab-df-convert');\n",
              "        buttonEl.style.display =\n",
              "          google.colab.kernel.accessAllowed ? 'block' : 'none';\n",
              "\n",
              "        async function convertToInteractive(key) {\n",
              "          const element = document.querySelector('#df-46058409-9633-4719-9275-7c8ce51419f3');\n",
              "          const dataTable =\n",
              "            await google.colab.kernel.invokeFunction('convertToInteractive',\n",
              "                                                     [key], {});\n",
              "          if (!dataTable) return;\n",
              "\n",
              "          const docLinkHtml = 'Like what you see? Visit the ' +\n",
              "            '<a target=\"_blank\" href=https://colab.research.google.com/notebooks/data_table.ipynb>data table notebook</a>'\n",
              "            + ' to learn more about interactive tables.';\n",
              "          element.innerHTML = '';\n",
              "          dataTable['output_type'] = 'display_data';\n",
              "          await google.colab.output.renderOutput(dataTable, element);\n",
              "          const docLink = document.createElement('div');\n",
              "          docLink.innerHTML = docLinkHtml;\n",
              "          element.appendChild(docLink);\n",
              "        }\n",
              "      </script>\n",
              "    </div>\n",
              "  </div>\n",
              "  "
            ]
          },
          "metadata": {},
          "execution_count": 6
        }
      ]
    },
    {
      "cell_type": "markdown",
      "metadata": {
        "id": "79b5Uz3KcmSu"
      },
      "source": [
        "In order to have a more delimited subset of people to study, we are going to bias our grouping to only get ratings from those users that like either romance or science fiction movies."
      ]
    },
    {
      "cell_type": "code",
      "metadata": {
        "colab": {
          "base_uri": "https://localhost:8080/",
          "height": 224
        },
        "id": "AdiswAdbceds",
        "outputId": "547d72fc-faf9-4c70-e6aa-6dc27ce848ef"
      },
      "source": [
        "# Function to get the biased dataset\n",
        "def bias_genre_rating_dataset(genre_ratings, score_limit_1, score_limit_2):\n",
        "    biased_dataset =    genre_ratings[((genre_ratings['avg_romance_rating'] < score_limit_1 - 0.2) & (genre_ratings['avg_scifi_rating'] > score_limit_2)) | ((genre_ratings['avg_scifi_rating'] < score_limit_1) & (genre_ratings['avg_romance_rating'] > score_limit_2))]\n",
        "    biased_dataset = pd.concat([biased_dataset[:300], genre_ratings[:2]])\n",
        "    biased_dataset = pd.DataFrame(biased_dataset.to_records())\n",
        "    return biased_dataset\n",
        "\n",
        "# Bias the dataset\n",
        "biased_dataset = bias_genre_rating_dataset(genre_ratings, 3.2, 2.5)\n",
        "\n",
        "# Printing the resulting number of records & the head of the dataset\n",
        "print( \"Number of records: \", len(biased_dataset))\n",
        "biased_dataset.head()"
      ],
      "execution_count": 7,
      "outputs": [
        {
          "output_type": "stream",
          "name": "stdout",
          "text": [
            "Number of records:  162\n"
          ]
        },
        {
          "output_type": "execute_result",
          "data": {
            "text/plain": [
              "   index  avg_romance_rating  avg_scifi_rating\n",
              "0      3                0.50              4.20\n",
              "1      4                3.38              2.83\n",
              "2      5                3.09              2.50\n",
              "3      7                2.65              3.15\n",
              "4      9                3.17              3.00"
            ],
            "text/html": [
              "\n",
              "  <div id=\"df-8243541d-f874-47c7-bf03-5fd251059f5c\">\n",
              "    <div class=\"colab-df-container\">\n",
              "      <div>\n",
              "<style scoped>\n",
              "    .dataframe tbody tr th:only-of-type {\n",
              "        vertical-align: middle;\n",
              "    }\n",
              "\n",
              "    .dataframe tbody tr th {\n",
              "        vertical-align: top;\n",
              "    }\n",
              "\n",
              "    .dataframe thead th {\n",
              "        text-align: right;\n",
              "    }\n",
              "</style>\n",
              "<table border=\"1\" class=\"dataframe\">\n",
              "  <thead>\n",
              "    <tr style=\"text-align: right;\">\n",
              "      <th></th>\n",
              "      <th>index</th>\n",
              "      <th>avg_romance_rating</th>\n",
              "      <th>avg_scifi_rating</th>\n",
              "    </tr>\n",
              "  </thead>\n",
              "  <tbody>\n",
              "    <tr>\n",
              "      <th>0</th>\n",
              "      <td>3</td>\n",
              "      <td>0.50</td>\n",
              "      <td>4.20</td>\n",
              "    </tr>\n",
              "    <tr>\n",
              "      <th>1</th>\n",
              "      <td>4</td>\n",
              "      <td>3.38</td>\n",
              "      <td>2.83</td>\n",
              "    </tr>\n",
              "    <tr>\n",
              "      <th>2</th>\n",
              "      <td>5</td>\n",
              "      <td>3.09</td>\n",
              "      <td>2.50</td>\n",
              "    </tr>\n",
              "    <tr>\n",
              "      <th>3</th>\n",
              "      <td>7</td>\n",
              "      <td>2.65</td>\n",
              "      <td>3.15</td>\n",
              "    </tr>\n",
              "    <tr>\n",
              "      <th>4</th>\n",
              "      <td>9</td>\n",
              "      <td>3.17</td>\n",
              "      <td>3.00</td>\n",
              "    </tr>\n",
              "  </tbody>\n",
              "</table>\n",
              "</div>\n",
              "      <button class=\"colab-df-convert\" onclick=\"convertToInteractive('df-8243541d-f874-47c7-bf03-5fd251059f5c')\"\n",
              "              title=\"Convert this dataframe to an interactive table.\"\n",
              "              style=\"display:none;\">\n",
              "        \n",
              "  <svg xmlns=\"http://www.w3.org/2000/svg\" height=\"24px\"viewBox=\"0 0 24 24\"\n",
              "       width=\"24px\">\n",
              "    <path d=\"M0 0h24v24H0V0z\" fill=\"none\"/>\n",
              "    <path d=\"M18.56 5.44l.94 2.06.94-2.06 2.06-.94-2.06-.94-.94-2.06-.94 2.06-2.06.94zm-11 1L8.5 8.5l.94-2.06 2.06-.94-2.06-.94L8.5 2.5l-.94 2.06-2.06.94zm10 10l.94 2.06.94-2.06 2.06-.94-2.06-.94-.94-2.06-.94 2.06-2.06.94z\"/><path d=\"M17.41 7.96l-1.37-1.37c-.4-.4-.92-.59-1.43-.59-.52 0-1.04.2-1.43.59L10.3 9.45l-7.72 7.72c-.78.78-.78 2.05 0 2.83L4 21.41c.39.39.9.59 1.41.59.51 0 1.02-.2 1.41-.59l7.78-7.78 2.81-2.81c.8-.78.8-2.07 0-2.86zM5.41 20L4 18.59l7.72-7.72 1.47 1.35L5.41 20z\"/>\n",
              "  </svg>\n",
              "      </button>\n",
              "      \n",
              "  <style>\n",
              "    .colab-df-container {\n",
              "      display:flex;\n",
              "      flex-wrap:wrap;\n",
              "      gap: 12px;\n",
              "    }\n",
              "\n",
              "    .colab-df-convert {\n",
              "      background-color: #E8F0FE;\n",
              "      border: none;\n",
              "      border-radius: 50%;\n",
              "      cursor: pointer;\n",
              "      display: none;\n",
              "      fill: #1967D2;\n",
              "      height: 32px;\n",
              "      padding: 0 0 0 0;\n",
              "      width: 32px;\n",
              "    }\n",
              "\n",
              "    .colab-df-convert:hover {\n",
              "      background-color: #E2EBFA;\n",
              "      box-shadow: 0px 1px 2px rgba(60, 64, 67, 0.3), 0px 1px 3px 1px rgba(60, 64, 67, 0.15);\n",
              "      fill: #174EA6;\n",
              "    }\n",
              "\n",
              "    [theme=dark] .colab-df-convert {\n",
              "      background-color: #3B4455;\n",
              "      fill: #D2E3FC;\n",
              "    }\n",
              "\n",
              "    [theme=dark] .colab-df-convert:hover {\n",
              "      background-color: #434B5C;\n",
              "      box-shadow: 0px 1px 3px 1px rgba(0, 0, 0, 0.15);\n",
              "      filter: drop-shadow(0px 1px 2px rgba(0, 0, 0, 0.3));\n",
              "      fill: #FFFFFF;\n",
              "    }\n",
              "  </style>\n",
              "\n",
              "      <script>\n",
              "        const buttonEl =\n",
              "          document.querySelector('#df-8243541d-f874-47c7-bf03-5fd251059f5c button.colab-df-convert');\n",
              "        buttonEl.style.display =\n",
              "          google.colab.kernel.accessAllowed ? 'block' : 'none';\n",
              "\n",
              "        async function convertToInteractive(key) {\n",
              "          const element = document.querySelector('#df-8243541d-f874-47c7-bf03-5fd251059f5c');\n",
              "          const dataTable =\n",
              "            await google.colab.kernel.invokeFunction('convertToInteractive',\n",
              "                                                     [key], {});\n",
              "          if (!dataTable) return;\n",
              "\n",
              "          const docLinkHtml = 'Like what you see? Visit the ' +\n",
              "            '<a target=\"_blank\" href=https://colab.research.google.com/notebooks/data_table.ipynb>data table notebook</a>'\n",
              "            + ' to learn more about interactive tables.';\n",
              "          element.innerHTML = '';\n",
              "          dataTable['output_type'] = 'display_data';\n",
              "          await google.colab.output.renderOutput(dataTable, element);\n",
              "          const docLink = document.createElement('div');\n",
              "          docLink.innerHTML = docLinkHtml;\n",
              "          element.appendChild(docLink);\n",
              "        }\n",
              "      </script>\n",
              "    </div>\n",
              "  </div>\n",
              "  "
            ]
          },
          "metadata": {},
          "execution_count": 7
        }
      ]
    },
    {
      "cell_type": "code",
      "metadata": {
        "colab": {
          "base_uri": "https://localhost:8080/",
          "height": 501
        },
        "id": "MLCoVvz0ctAh",
        "outputId": "d839d534-d837-4f83-9def-57523db8361d"
      },
      "source": [
        "# Defining the scatterplot drawing function\n",
        "def draw_scatterplot(x_data, x_label, y_data, y_label):\n",
        "    fig = plt.figure(figsize=(8,8))\n",
        "    ax = fig.add_subplot(111)    \n",
        "    plt.xlim(0, 5)\n",
        "    plt.ylim(0, 5)\n",
        "    ax.set_xlabel(x_label)\n",
        "    ax.set_ylabel(y_label)\n",
        "    ax.scatter(x_data, y_data, s=30)\n",
        "    \n",
        "# Plot the scatterplot\n",
        "draw_scatterplot(biased_dataset['avg_scifi_rating'],'Avg scifi rating', biased_dataset['avg_romance_rating'], 'Avg romance rating')"
      ],
      "execution_count": 8,
      "outputs": [
        {
          "output_type": "display_data",
          "data": {
            "text/plain": [
              "<Figure size 576x576 with 1 Axes>"
            ],
            "image/png": "[encoded data removed]"
          },
          "metadata": {
            "needs_background": "light"
          }
        }
      ]
    },
    {
      "cell_type": "code",
      "metadata": {
        "colab": {
          "base_uri": "https://localhost:8080/",
          "height": 501
        },
        "id": "LRfknsM1c1Ur",
        "outputId": "4434325e-498d-4bc8-e9bd-b8e069b966cc"
      },
      "source": [
        "# Let's turn our dataset into a list\n",
        "X = biased_dataset[['avg_scifi_rating','avg_romance_rating']].values\n",
        "\n",
        "# Import KMeans\n",
        "from sklearn.cluster import KMeans\n",
        "\n",
        "# Create an instance of KMeans to find two clusters\n",
        "kmeans_1 = KMeans(n_clusters=2)\n",
        "\n",
        "# Use fit_predict to cluster the dataset\n",
        "predictions = kmeans_1.fit_predict(X)\n",
        "\n",
        "# Defining the cluster plotting function\n",
        "def draw_clusters(biased_dataset, predictions, cmap='viridis'):\n",
        "    fig = plt.figure(figsize=(8,8))\n",
        "    ax = fig.add_subplot(111)\n",
        "    plt.xlim(0, 5)\n",
        "    plt.ylim(0, 5)\n",
        "    ax.set_xlabel('Avg scifi rating')\n",
        "    ax.set_ylabel('Avg romance rating')\n",
        "    clustered = pd.concat([biased_dataset.reset_index(), pd.DataFrame({'group':predictions})], axis=1)\n",
        "    plt.scatter(clustered['avg_scifi_rating'], clustered['avg_romance_rating'], c=clustered['group'], s=20, cmap=cmap)\n",
        "    \n",
        "# Plot\n",
        "draw_clusters(biased_dataset, predictions)"
      ],
      "execution_count": 9,
      "outputs": [
        {
          "output_type": "display_data",
          "data": {
            "text/plain": [
              "<Figure size 576x576 with 1 Axes>"
            ],
            "image/png": "[encoded data removed]"
          },
          "metadata": {
            "needs_background": "light"
          }
        }
      ]
    },
    {
      "cell_type": "code",
      "metadata": {
        "colab": {
          "base_uri": "https://localhost:8080/",
          "height": 501
        },
        "id": "4tVnggzlc-rg",
        "outputId": "07d5eb51-224c-4414-9362-dd34530f509c"
      },
      "source": [
        "# Create an instance of KMeans to find three clusters\n",
        "kmeans_2 = KMeans(n_clusters=3)\n",
        "# Use fit_predict to cluster the dataset\n",
        "predictions_2 = kmeans_2.fit_predict(X)\n",
        "# Plot\n",
        "draw_clusters(biased_dataset, predictions_2)"
      ],
      "execution_count": 10,
      "outputs": [
        {
          "output_type": "display_data",
          "data": {
            "text/plain": [
              "<Figure size 576x576 with 1 Axes>"
            ],
            "image/png": "[encoded data removed]"
          },
          "metadata": {
            "needs_background": "light"
          }
        }
      ]
    },
    {
      "cell_type": "markdown",
      "metadata": {
        "id": "Xi5ObyC0dLle"
      },
      "source": [
        "It is evident now that the science-fiction rating has started to come into play:\n",
        "\n",
        "    People who like sci-fi and romance modeately belong to the green group.\n",
        "    People who like scifi but not romance belong to the yello group.\n",
        "    People who like romance but not sci-fi belong to the purple group."
      ]
    },
    {
      "cell_type": "markdown",
      "metadata": {
        "id": "p5w_-jzld_rM"
      },
      "source": [
        "Finding optimal clusters using silhouette score"
      ]
    },
    {
      "cell_type": "code",
      "metadata": {
        "colab": {
          "base_uri": "https://localhost:8080/",
          "height": 409
        },
        "id": "HyzcralUdFxj",
        "outputId": "707b1e3c-b833-489a-f7ab-efe96e2b539c"
      },
      "source": [
        "# Selecting our dataset to study\n",
        "df = biased_dataset[['avg_scifi_rating','avg_romance_rating']]\n",
        "\n",
        "# Choose the range of k values to test.\n",
        "# We added a stride of 5 to improve performance. We don't need to calculate the error for every k value\n",
        "possible_k_values = range(2, len(X)+1, 5)\n",
        "\n",
        "# Define function to calculate the clustering errors\n",
        "def clustering_errors(k, data):\n",
        "    kmeans = KMeans(n_clusters=k).fit(data)\n",
        "    predictions = kmeans.predict(data)\n",
        "    #cluster_centers = kmeans.cluster_centers_\n",
        "    # errors = [mean_squared_error(row, cluster_centers[cluster]) for row, cluster in zip(data.values, predictions)]\n",
        "    # return sum(errors)\n",
        "    silhouette_avg = silhouette_score(data, predictions)\n",
        "    return silhouette_avg\n",
        "\n",
        "# Calculate error values for all k values we're interested in\n",
        "errors_per_k = [clustering_errors(k, X) for k in possible_k_values]\n",
        "\n",
        "# Plot the each value of K vs. the silhouette score at that value\n",
        "fig, ax = plt.subplots(figsize=(16, 6))\n",
        "plt.plot(possible_k_values, errors_per_k)\n",
        "\n",
        "# Ticks and grid\n",
        "xticks = np.arange(min(possible_k_values), max(possible_k_values)+1, 5.0)\n",
        "ax.set_xticks(xticks, minor=False)\n",
        "ax.set_xticks(xticks, minor=True)\n",
        "ax.xaxis.grid(True, which='both')\n",
        "yticks = np.arange(round(min(errors_per_k), 2), max(errors_per_k), .05)\n",
        "ax.set_yticks(yticks, minor=False)\n",
        "ax.set_yticks(yticks, minor=True)\n",
        "ax.yaxis.grid(True, which='both')"
      ],
      "execution_count": 11,
      "outputs": [
        {
          "output_type": "stream",
          "name": "stderr",
          "text": [
            "/usr/local/lib/python3.7/dist-packages/ipykernel_launcher.py:10: ConvergenceWarning: Number of distinct clusters (157) found smaller than n_clusters (162). Possibly due to duplicate points in X.\n",
            "  # Remove the CWD from sys.path while we load stuff.\n"
          ]
        },
        {
          "output_type": "display_data",
          "data": {
            "text/plain": [
              "<Figure size 1152x432 with 1 Axes>"
            ],
            "image/png": "[encoded data removed]"
          },
          "metadata": {
            "needs_background": "light"
          }
        }
      ]
    },
    {
      "cell_type": "markdown",
      "metadata": {
        "id": "j02Q87YjepyP"
      },
      "source": [
        "We will chose the K = 7 as it is the one that yields the best score and will be easier to visualize.\n",
        "\n"
      ]
    },
    {
      "cell_type": "code",
      "metadata": {
        "colab": {
          "base_uri": "https://localhost:8080/",
          "height": 501
        },
        "id": "lV1yJyAbeWHC",
        "outputId": "ab1eb3be-28dd-49bb-a3a3-d2b2e75747c1"
      },
      "source": [
        "# Create an instance of KMeans to find seven clusters\n",
        "kmeans_4 = KMeans(n_clusters=7)\n",
        "# Use fit_predict to cluster the dataset\n",
        "predictions_4 = kmeans_4.fit_predict(X)\n",
        "# Plot\n",
        "draw_clusters(biased_dataset, predictions_4, cmap='Accent')"
      ],
      "execution_count": 12,
      "outputs": [
        {
          "output_type": "display_data",
          "data": {
            "text/plain": [
              "<Figure size 576x576 with 1 Axes>"
            ],
            "image/png": "[encoded data removed]"
          },
          "metadata": {
            "needs_background": "light"
          }
        }
      ]
    },
    {
      "cell_type": "markdown",
      "metadata": {
        "id": "Bqqi2h3FfaXs"
      },
      "source": [
        "Up to now, we have only analyzed romance and science-fiction movies. Let us see what happens when adding other genre to our analysis by adding Action movies."
      ]
    },
    {
      "cell_type": "code",
      "metadata": {
        "colab": {
          "base_uri": "https://localhost:8080/",
          "height": 224
        },
        "id": "Wv4ykXxweyrf",
        "outputId": "462a1b03-6e90-4733-84b0-4a1ce068c8fa"
      },
      "source": [
        "# Select our biased dataset and add action genre\n",
        "biased_dataset_3_genres = get_genre_ratings(ratings, movies, ['Romance','Sci-Fi', 'Action'],                                          \n",
        "['avg_romance_rating', 'avg_scifi_rating', 'avg_action_rating'])\n",
        "# Drop null values\n",
        "biased_dataset_3_genres = bias_genre_rating_dataset(biased_dataset_3_genres, 3.2, 2.5).dropna()\n",
        "# Print the number of records and the head of our dataset\n",
        "print( \"Number of records: \", len(biased_dataset_3_genres))\n",
        "biased_dataset_3_genres.head()"
      ],
      "execution_count": 13,
      "outputs": [
        {
          "output_type": "stream",
          "name": "stdout",
          "text": [
            "Number of records:  161\n"
          ]
        },
        {
          "output_type": "execute_result",
          "data": {
            "text/plain": [
              "   index  avg_romance_rating  avg_scifi_rating  avg_action_rating\n",
              "0      3                0.50              4.20               3.57\n",
              "1      4                3.38              2.83               3.32\n",
              "2      5                3.09              2.50               3.11\n",
              "3      7                2.65              3.15               3.26\n",
              "4      9                3.17              3.00               3.12"
            ],
            "text/html": [
              "\n",
              "  <div id=\"df-9b6f29ff-a321-44fd-955d-b4a560f26c56\">\n",
              "    <div class=\"colab-df-container\">\n",
              "      <div>\n",
              "<style scoped>\n",
              "    .dataframe tbody tr th:only-of-type {\n",
              "        vertical-align: middle;\n",
              "    }\n",
              "\n",
              "    .dataframe tbody tr th {\n",
              "        vertical-align: top;\n",
              "    }\n",
              "\n",
              "    .dataframe thead th {\n",
              "        text-align: right;\n",
              "    }\n",
              "</style>\n",
              "<table border=\"1\" class=\"dataframe\">\n",
              "  <thead>\n",
              "    <tr style=\"text-align: right;\">\n",
              "      <th></th>\n",
              "      <th>index</th>\n",
              "      <th>avg_romance_rating</th>\n",
              "      <th>avg_scifi_rating</th>\n",
              "      <th>avg_action_rating</th>\n",
              "    </tr>\n",
              "  </thead>\n",
              "  <tbody>\n",
              "    <tr>\n",
              "      <th>0</th>\n",
              "      <td>3</td>\n",
              "      <td>0.50</td>\n",
              "      <td>4.20</td>\n",
              "      <td>3.57</td>\n",
              "    </tr>\n",
              "    <tr>\n",
              "      <th>1</th>\n",
              "      <td>4</td>\n",
              "      <td>3.38</td>\n",
              "      <td>2.83</td>\n",
              "      <td>3.32</td>\n",
              "    </tr>\n",
              "    <tr>\n",
              "      <th>2</th>\n",
              "      <td>5</td>\n",
              "      <td>3.09</td>\n",
              "      <td>2.50</td>\n",
              "      <td>3.11</td>\n",
              "    </tr>\n",
              "    <tr>\n",
              "      <th>3</th>\n",
              "      <td>7</td>\n",
              "      <td>2.65</td>\n",
              "      <td>3.15</td>\n",
              "      <td>3.26</td>\n",
              "    </tr>\n",
              "    <tr>\n",
              "      <th>4</th>\n",
              "      <td>9</td>\n",
              "      <td>3.17</td>\n",
              "      <td>3.00</td>\n",
              "      <td>3.12</td>\n",
              "    </tr>\n",
              "  </tbody>\n",
              "</table>\n",
              "</div>\n",
              "      <button class=\"colab-df-convert\" onclick=\"convertToInteractive('df-9b6f29ff-a321-44fd-955d-b4a560f26c56')\"\n",
              "              title=\"Convert this dataframe to an interactive table.\"\n",
              "              style=\"display:none;\">\n",
              "        \n",
              "  <svg xmlns=\"http://www.w3.org/2000/svg\" height=\"24px\"viewBox=\"0 0 24 24\"\n",
              "       width=\"24px\">\n",
              "    <path d=\"M0 0h24v24H0V0z\" fill=\"none\"/>\n",
              "    <path d=\"M18.56 5.44l.94 2.06.94-2.06 2.06-.94-2.06-.94-.94-2.06-.94 2.06-2.06.94zm-11 1L8.5 8.5l.94-2.06 2.06-.94-2.06-.94L8.5 2.5l-.94 2.06-2.06.94zm10 10l.94 2.06.94-2.06 2.06-.94-2.06-.94-.94-2.06-.94 2.06-2.06.94z\"/><path d=\"M17.41 7.96l-1.37-1.37c-.4-.4-.92-.59-1.43-.59-.52 0-1.04.2-1.43.59L10.3 9.45l-7.72 7.72c-.78.78-.78 2.05 0 2.83L4 21.41c.39.39.9.59 1.41.59.51 0 1.02-.2 1.41-.59l7.78-7.78 2.81-2.81c.8-.78.8-2.07 0-2.86zM5.41 20L4 18.59l7.72-7.72 1.47 1.35L5.41 20z\"/>\n",
              "  </svg>\n",
              "      </button>\n",
              "      \n",
              "  <style>\n",
              "    .colab-df-container {\n",
              "      display:flex;\n",
              "      flex-wrap:wrap;\n",
              "      gap: 12px;\n",
              "    }\n",
              "\n",
              "    .colab-df-convert {\n",
              "      background-color: #E8F0FE;\n",
              "      border: none;\n",
              "      border-radius: 50%;\n",
              "      cursor: pointer;\n",
              "      display: none;\n",
              "      fill: #1967D2;\n",
              "      height: 32px;\n",
              "      padding: 0 0 0 0;\n",
              "      width: 32px;\n",
              "    }\n",
              "\n",
              "    .colab-df-convert:hover {\n",
              "      background-color: #E2EBFA;\n",
              "      box-shadow: 0px 1px 2px rgba(60, 64, 67, 0.3), 0px 1px 3px 1px rgba(60, 64, 67, 0.15);\n",
              "      fill: #174EA6;\n",
              "    }\n",
              "\n",
              "    [theme=dark] .colab-df-convert {\n",
              "      background-color: #3B4455;\n",
              "      fill: #D2E3FC;\n",
              "    }\n",
              "\n",
              "    [theme=dark] .colab-df-convert:hover {\n",
              "      background-color: #434B5C;\n",
              "      box-shadow: 0px 1px 3px 1px rgba(0, 0, 0, 0.15);\n",
              "      filter: drop-shadow(0px 1px 2px rgba(0, 0, 0, 0.3));\n",
              "      fill: #FFFFFF;\n",
              "    }\n",
              "  </style>\n",
              "\n",
              "      <script>\n",
              "        const buttonEl =\n",
              "          document.querySelector('#df-9b6f29ff-a321-44fd-955d-b4a560f26c56 button.colab-df-convert');\n",
              "        buttonEl.style.display =\n",
              "          google.colab.kernel.accessAllowed ? 'block' : 'none';\n",
              "\n",
              "        async function convertToInteractive(key) {\n",
              "          const element = document.querySelector('#df-9b6f29ff-a321-44fd-955d-b4a560f26c56');\n",
              "          const dataTable =\n",
              "            await google.colab.kernel.invokeFunction('convertToInteractive',\n",
              "                                                     [key], {});\n",
              "          if (!dataTable) return;\n",
              "\n",
              "          const docLinkHtml = 'Like what you see? Visit the ' +\n",
              "            '<a target=\"_blank\" href=https://colab.research.google.com/notebooks/data_table.ipynb>data table notebook</a>'\n",
              "            + ' to learn more about interactive tables.';\n",
              "          element.innerHTML = '';\n",
              "          dataTable['output_type'] = 'display_data';\n",
              "          await google.colab.output.renderOutput(dataTable, element);\n",
              "          const docLink = document.createElement('div');\n",
              "          docLink.innerHTML = docLinkHtml;\n",
              "          element.appendChild(docLink);\n",
              "        }\n",
              "      </script>\n",
              "    </div>\n",
              "  </div>\n",
              "  "
            ]
          },
          "metadata": {},
          "execution_count": 13
        }
      ]
    },
    {
      "cell_type": "code",
      "metadata": {
        "colab": {
          "base_uri": "https://localhost:8080/",
          "height": 501
        },
        "id": "bmxE7OEbfjgH",
        "outputId": "c8381f86-721b-4878-ae7c-0fa7c11fcc3c"
      },
      "source": [
        "# Turn dataset into a list\n",
        "X_with_action = biased_dataset_3_genres[['avg_scifi_rating','avg_romance_rating','avg_action_rating']].values# Create an instance of KMeans to find seven clusters\n",
        "kmeans_5 = KMeans(n_clusters=7)\n",
        "# Use fit_predict to cluster the dataset\n",
        "predictions_5 = kmeans_5.fit_predict(X_with_action)\n",
        "# Define 3d plotting function\n",
        "def draw_clusters_3d(biased_dataset_3, predictions):\n",
        "    fig = plt.figure(figsize=(8,8))\n",
        "    ax = fig.add_subplot(111)\n",
        "    plt.xlim(0, 5)\n",
        "    plt.ylim(0, 5)\n",
        "    ax.set_xlabel('Avg scifi rating')\n",
        "    ax.set_ylabel('Avg romance rating')\n",
        "    clustered = pd.concat([biased_dataset_3.reset_index(), pd.DataFrame({'group':predictions})], axis=1)\n",
        "    colors = itertools.cycle(plt.rcParams[\"axes.prop_cycle\"].by_key()[\"color\"])\n",
        "    for g in clustered.group.unique():\n",
        "        color = next(colors)\n",
        "        for index, point in clustered[clustered.group == g].iterrows():\n",
        "            if point['avg_action_rating'].astype(float) > 3: \n",
        "                size = 50\n",
        "            else:\n",
        "                size = 15\n",
        "            plt.scatter(point['avg_scifi_rating'], \n",
        "                        point['avg_romance_rating'], \n",
        "                        s=size, \n",
        "                        color=color)# Plot\n",
        "draw_clusters_3d(biased_dataset_3_genres, predictions_5)"
      ],
      "execution_count": 14,
      "outputs": [
        {
          "output_type": "display_data",
          "data": {
            "text/plain": [
              "<Figure size 576x576 with 1 Axes>"
            ],
            "image/png": "[encoded data removed]"
          },
          "metadata": {
            "needs_background": "light"
          }
        }
      ]
    },
    {
      "cell_type": "markdown",
      "metadata": {
        "id": "2Upy7G0Ta5MH"
      },
      "source": [
        "The size of the dots represent the ratings of the action movies."
      ]
    },
    {
      "cell_type": "markdown",
      "metadata": {
        "id": "gzfFJTMJbGCk"
      },
      "source": [
        "### Taking users into consideration"
      ]
    },
    {
      "cell_type": "markdown",
      "metadata": {
        "id": "JahmtB_0f5fd"
      },
      "source": [
        "Once we have seen and understood how the K-Means algorithm group the users by their movie genre preferences, we are going to take a bigger picture of the dataset and explore how users rate individual movies.\n",
        "\n",
        "To do so, we will subset the dataset by ‘userid’ vs ‘user rating’ as follows."
      ]
    },
    {
      "cell_type": "code",
      "metadata": {
        "colab": {
          "base_uri": "https://localhost:8080/",
          "height": 382
        },
        "id": "oy6yk-kxfuxC",
        "outputId": "7b1923fb-21b3-4056-a64d-e91cf0244f94"
      },
      "source": [
        "# Merge the two tables then pivot so we have Users X Movies dataframe\n",
        "ratings_title = pd.merge(ratings, movies[['movieId', 'title']], on='movieId' )\n",
        "user_movie_ratings = pd.pivot_table(ratings_title, index='userId', columns= 'title', values='rating')\n",
        "\n",
        "# Print he number of dimensions and a subset of the dataset\n",
        "print('dataset dimensions: ', user_movie_ratings.shape, '\\n\\nSubset example:')\n",
        "user_movie_ratings.iloc[:6, :10]"
      ],
      "execution_count": 15,
      "outputs": [
        {
          "output_type": "stream",
          "name": "stdout",
          "text": [
            "dataset dimensions:  (610, 9719) \n",
            "\n",
            "Subset example:\n"
          ]
        },
        {
          "output_type": "execute_result",
          "data": {
            "text/plain": [
              "title   '71 (2014)  'Hellboy': The Seeds of Creation (2004)  \\\n",
              "userId                                                        \n",
              "1              NaN                                      NaN   \n",
              "2              NaN                                      NaN   \n",
              "3              NaN                                      NaN   \n",
              "4              NaN                                      NaN   \n",
              "5              NaN                                      NaN   \n",
              "6              NaN                                      NaN   \n",
              "\n",
              "title   'Round Midnight (1986)  'Salem's Lot (2004)  \\\n",
              "userId                                                \n",
              "1                          NaN                  NaN   \n",
              "2                          NaN                  NaN   \n",
              "3                          NaN                  NaN   \n",
              "4                          NaN                  NaN   \n",
              "5                          NaN                  NaN   \n",
              "6                          NaN                  NaN   \n",
              "\n",
              "title   'Til There Was You (1997)  'Tis the Season for Love (2015)  \\\n",
              "userId                                                               \n",
              "1                             NaN                              NaN   \n",
              "2                             NaN                              NaN   \n",
              "3                             NaN                              NaN   \n",
              "4                             NaN                              NaN   \n",
              "5                             NaN                              NaN   \n",
              "6                             NaN                              NaN   \n",
              "\n",
              "title   'burbs, The (1989)  'night Mother (1986)  (500) Days of Summer (2009)  \\\n",
              "userId                                                                          \n",
              "1                      NaN                   NaN                          NaN   \n",
              "2                      NaN                   NaN                          NaN   \n",
              "3                      NaN                   NaN                          NaN   \n",
              "4                      NaN                   NaN                          NaN   \n",
              "5                      NaN                   NaN                          NaN   \n",
              "6                      NaN                   NaN                          NaN   \n",
              "\n",
              "title   *batteries not included (1987)  \n",
              "userId                                  \n",
              "1                                  NaN  \n",
              "2                                  NaN  \n",
              "3                                  NaN  \n",
              "4                                  NaN  \n",
              "5                                  NaN  \n",
              "6                                  NaN  "
            ],
            "text/html": [
              "\n",
              "  <div id=\"df-8772acb7-9150-4189-b0a0-9e7d09d7546b\">\n",
              "    <div class=\"colab-df-container\">\n",
              "      <div>\n",
              "<style scoped>\n",
              "    .dataframe tbody tr th:only-of-type {\n",
              "        vertical-align: middle;\n",
              "    }\n",
              "\n",
              "    .dataframe tbody tr th {\n",
              "        vertical-align: top;\n",
              "    }\n",
              "\n",
              "    .dataframe thead th {\n",
              "        text-align: right;\n",
              "    }\n",
              "</style>\n",
              "<table border=\"1\" class=\"dataframe\">\n",
              "  <thead>\n",
              "    <tr style=\"text-align: right;\">\n",
              "      <th>title</th>\n",
              "      <th>'71 (2014)</th>\n",
              "      <th>'Hellboy': The Seeds of Creation (2004)</th>\n",
              "      <th>'Round Midnight (1986)</th>\n",
              "      <th>'Salem's Lot (2004)</th>\n",
              "      <th>'Til There Was You (1997)</th>\n",
              "      <th>'Tis the Season for Love (2015)</th>\n",
              "      <th>'burbs, The (1989)</th>\n",
              "      <th>'night Mother (1986)</th>\n",
              "      <th>(500) Days of Summer (2009)</th>\n",
              "      <th>*batteries not included (1987)</th>\n",
              "    </tr>\n",
              "    <tr>\n",
              "      <th>userId</th>\n",
              "      <th></th>\n",
              "      <th></th>\n",
              "      <th></th>\n",
              "      <th></th>\n",
              "      <th></th>\n",
              "      <th></th>\n",
              "      <th></th>\n",
              "      <th></th>\n",
              "      <th></th>\n",
              "      <th></th>\n",
              "    </tr>\n",
              "  </thead>\n",
              "  <tbody>\n",
              "    <tr>\n",
              "      <th>1</th>\n",
              "      <td>NaN</td>\n",
              "      <td>NaN</td>\n",
              "      <td>NaN</td>\n",
              "      <td>NaN</td>\n",
              "      <td>NaN</td>\n",
              "      <td>NaN</td>\n",
              "      <td>NaN</td>\n",
              "      <td>NaN</td>\n",
              "      <td>NaN</td>\n",
              "      <td>NaN</td>\n",
              "    </tr>\n",
              "    <tr>\n",
              "      <th>2</th>\n",
              "      <td>NaN</td>\n",
              "      <td>NaN</td>\n",
              "      <td>NaN</td>\n",
              "      <td>NaN</td>\n",
              "      <td>NaN</td>\n",
              "      <td>NaN</td>\n",
              "      <td>NaN</td>\n",
              "      <td>NaN</td>\n",
              "      <td>NaN</td>\n",
              "      <td>NaN</td>\n",
              "    </tr>\n",
              "    <tr>\n",
              "      <th>3</th>\n",
              "      <td>NaN</td>\n",
              "      <td>NaN</td>\n",
              "      <td>NaN</td>\n",
              "      <td>NaN</td>\n",
              "      <td>NaN</td>\n",
              "      <td>NaN</td>\n",
              "      <td>NaN</td>\n",
              "      <td>NaN</td>\n",
              "      <td>NaN</td>\n",
              "      <td>NaN</td>\n",
              "    </tr>\n",
              "    <tr>\n",
              "      <th>4</th>\n",
              "      <td>NaN</td>\n",
              "      <td>NaN</td>\n",
              "      <td>NaN</td>\n",
              "      <td>NaN</td>\n",
              "      <td>NaN</td>\n",
              "      <td>NaN</td>\n",
              "      <td>NaN</td>\n",
              "      <td>NaN</td>\n",
              "      <td>NaN</td>\n",
              "      <td>NaN</td>\n",
              "    </tr>\n",
              "    <tr>\n",
              "      <th>5</th>\n",
              "      <td>NaN</td>\n",
              "      <td>NaN</td>\n",
              "      <td>NaN</td>\n",
              "      <td>NaN</td>\n",
              "      <td>NaN</td>\n",
              "      <td>NaN</td>\n",
              "      <td>NaN</td>\n",
              "      <td>NaN</td>\n",
              "      <td>NaN</td>\n",
              "      <td>NaN</td>\n",
              "    </tr>\n",
              "    <tr>\n",
              "      <th>6</th>\n",
              "      <td>NaN</td>\n",
              "      <td>NaN</td>\n",
              "      <td>NaN</td>\n",
              "      <td>NaN</td>\n",
              "      <td>NaN</td>\n",
              "      <td>NaN</td>\n",
              "      <td>NaN</td>\n",
              "      <td>NaN</td>\n",
              "      <td>NaN</td>\n",
              "      <td>NaN</td>\n",
              "    </tr>\n",
              "  </tbody>\n",
              "</table>\n",
              "</div>\n",
              "      <button class=\"colab-df-convert\" onclick=\"convertToInteractive('df-8772acb7-9150-4189-b0a0-9e7d09d7546b')\"\n",
              "              title=\"Convert this dataframe to an interactive table.\"\n",
              "              style=\"display:none;\">\n",
              "        \n",
              "  <svg xmlns=\"http://www.w3.org/2000/svg\" height=\"24px\"viewBox=\"0 0 24 24\"\n",
              "       width=\"24px\">\n",
              "    <path d=\"M0 0h24v24H0V0z\" fill=\"none\"/>\n",
              "    <path d=\"M18.56 5.44l.94 2.06.94-2.06 2.06-.94-2.06-.94-.94-2.06-.94 2.06-2.06.94zm-11 1L8.5 8.5l.94-2.06 2.06-.94-2.06-.94L8.5 2.5l-.94 2.06-2.06.94zm10 10l.94 2.06.94-2.06 2.06-.94-2.06-.94-.94-2.06-.94 2.06-2.06.94z\"/><path d=\"M17.41 7.96l-1.37-1.37c-.4-.4-.92-.59-1.43-.59-.52 0-1.04.2-1.43.59L10.3 9.45l-7.72 7.72c-.78.78-.78 2.05 0 2.83L4 21.41c.39.39.9.59 1.41.59.51 0 1.02-.2 1.41-.59l7.78-7.78 2.81-2.81c.8-.78.8-2.07 0-2.86zM5.41 20L4 18.59l7.72-7.72 1.47 1.35L5.41 20z\"/>\n",
              "  </svg>\n",
              "      </button>\n",
              "      \n",
              "  <style>\n",
              "    .colab-df-container {\n",
              "      display:flex;\n",
              "      flex-wrap:wrap;\n",
              "      gap: 12px;\n",
              "    }\n",
              "\n",
              "    .colab-df-convert {\n",
              "      background-color: #E8F0FE;\n",
              "      border: none;\n",
              "      border-radius: 50%;\n",
              "      cursor: pointer;\n",
              "      display: none;\n",
              "      fill: #1967D2;\n",
              "      height: 32px;\n",
              "      padding: 0 0 0 0;\n",
              "      width: 32px;\n",
              "    }\n",
              "\n",
              "    .colab-df-convert:hover {\n",
              "      background-color: #E2EBFA;\n",
              "      box-shadow: 0px 1px 2px rgba(60, 64, 67, 0.3), 0px 1px 3px 1px rgba(60, 64, 67, 0.15);\n",
              "      fill: #174EA6;\n",
              "    }\n",
              "\n",
              "    [theme=dark] .colab-df-convert {\n",
              "      background-color: #3B4455;\n",
              "      fill: #D2E3FC;\n",
              "    }\n",
              "\n",
              "    [theme=dark] .colab-df-convert:hover {\n",
              "      background-color: #434B5C;\n",
              "      box-shadow: 0px 1px 3px 1px rgba(0, 0, 0, 0.15);\n",
              "      filter: drop-shadow(0px 1px 2px rgba(0, 0, 0, 0.3));\n",
              "      fill: #FFFFFF;\n",
              "    }\n",
              "  </style>\n",
              "\n",
              "      <script>\n",
              "        const buttonEl =\n",
              "          document.querySelector('#df-8772acb7-9150-4189-b0a0-9e7d09d7546b button.colab-df-convert');\n",
              "        buttonEl.style.display =\n",
              "          google.colab.kernel.accessAllowed ? 'block' : 'none';\n",
              "\n",
              "        async function convertToInteractive(key) {\n",
              "          const element = document.querySelector('#df-8772acb7-9150-4189-b0a0-9e7d09d7546b');\n",
              "          const dataTable =\n",
              "            await google.colab.kernel.invokeFunction('convertToInteractive',\n",
              "                                                     [key], {});\n",
              "          if (!dataTable) return;\n",
              "\n",
              "          const docLinkHtml = 'Like what you see? Visit the ' +\n",
              "            '<a target=\"_blank\" href=https://colab.research.google.com/notebooks/data_table.ipynb>data table notebook</a>'\n",
              "            + ' to learn more about interactive tables.';\n",
              "          element.innerHTML = '';\n",
              "          dataTable['output_type'] = 'display_data';\n",
              "          await google.colab.output.renderOutput(dataTable, element);\n",
              "          const docLink = document.createElement('div');\n",
              "          docLink.innerHTML = docLinkHtml;\n",
              "          element.appendChild(docLink);\n",
              "        }\n",
              "      </script>\n",
              "    </div>\n",
              "  </div>\n",
              "  "
            ]
          },
          "metadata": {},
          "execution_count": 15
        }
      ]
    },
    {
      "cell_type": "code",
      "metadata": {
        "colab": {
          "base_uri": "https://localhost:8080/"
        },
        "id": "iSB8eHPqf-Xc",
        "outputId": "554dfb23-8852-4b75-8452-7f984a3113be"
      },
      "source": [
        "# Define Function to get the most rated movies\n",
        "def get_most_rated_movies(user_movie_ratings, max_number_of_movies):\n",
        "    # 1- Count\n",
        "    user_movie_ratings = user_movie_ratings.append(user_movie_ratings.count(), ignore_index=True)\n",
        "    # 2- sort\n",
        "    user_movie_ratings_sorted = user_movie_ratings.sort_values(len(user_movie_ratings)-1, axis=1, ascending=False)\n",
        "    user_movie_ratings_sorted = user_movie_ratings_sorted.drop(user_movie_ratings_sorted.tail(1).index)\n",
        "    # 3- slice\n",
        "    most_rated_movies = user_movie_ratings_sorted.iloc[:, :max_number_of_movies]\n",
        "    return most_rated_movies\n",
        "\n",
        "# Define function to get the user who rate a movie the most\n",
        "def get_users_who_rate_the_most(most_rated_movies, n_users):\n",
        "    most_rated_movies['num_ratings'] = - most_rated_movies.isnull().sum(axis=1)\n",
        "    most_rated_movies = most_rated_movies.sort_values(by=['num_ratings'], ascending=False)\n",
        "    most_rated_movies = most_rated_movies.iloc[:n_users, :]\n",
        "    most_rated_movies = most_rated_movies.drop('num_ratings', axis=1)\n",
        "    return most_rated_movies\n",
        "\n",
        "# Define the sorting by rating function\n",
        "def sort_by_rating_density(user_movie_ratings, n_movies, n_users):\n",
        "    most_rated_movies = get_most_rated_movies(user_movie_ratings, n_movies)\n",
        "    most_rated_movies = get_users_who_rate_the_most(most_rated_movies, n_users)\n",
        "    return most_rated_movies\n",
        "    \n",
        "# choose the number of movies and users and sort\n",
        "n_movies = 30\n",
        "n_users = 18\n",
        "most_rated_movies_users_selection = sort_by_rating_density(user_movie_ratings, n_movies, n_users)\n",
        "\n",
        "# Print the result\n",
        "# print(most_rated_movies_users_selection)\n",
        "print('dataset dimensions: ', most_rated_movies_users_selection.shape)\n",
        "print(most_rated_movies_users_selection.head())"
      ],
      "execution_count": 16,
      "outputs": [
        {
          "output_type": "stream",
          "name": "stdout",
          "text": [
            "dataset dimensions:  (18, 30)\n",
            "title  Forrest Gump (1994)  Shawshank Redemption, The (1994)  \\\n",
            "413                    5.0                               5.0   \n",
            "589                    5.0                               4.5   \n",
            "473                    3.0                               5.0   \n",
            "479                    5.0                               5.0   \n",
            "67                     3.5                               3.0   \n",
            "\n",
            "title  Pulp Fiction (1994)  Silence of the Lambs, The (1991)  \\\n",
            "413                    5.0                               4.0   \n",
            "589                    4.5                               3.5   \n",
            "473                    4.0                               4.5   \n",
            "479                    4.0                               4.5   \n",
            "67                     2.0                               3.5   \n",
            "\n",
            "title  Matrix, The (1999)  Star Wars: Episode IV - A New Hope (1977)  \\\n",
            "413                   5.0                                        5.0   \n",
            "589                   4.0                                        5.0   \n",
            "473                   4.5                                        4.0   \n",
            "479                   5.0                                        4.5   \n",
            "67                    4.5                                        5.0   \n",
            "\n",
            "title  Jurassic Park (1993)  Braveheart (1995)  \\\n",
            "413                     4.0                5.0   \n",
            "589                     4.0                4.0   \n",
            "473                     4.5                3.0   \n",
            "479                     5.0                5.0   \n",
            "67                      3.5                2.5   \n",
            "\n",
            "title  Terminator 2: Judgment Day (1991)  Schindler's List (1993)  ...  \\\n",
            "413                                  5.0                      4.0  ...   \n",
            "589                                  4.5                      5.0  ...   \n",
            "473                                  4.0                      5.0  ...   \n",
            "479                                  4.5                      5.0  ...   \n",
            "67                                   3.5                      4.0  ...   \n",
            "\n",
            "title  Star Wars: Episode VI - Return of the Jedi (1983)  \\\n",
            "413                                                  5.0   \n",
            "589                                                  4.5   \n",
            "473                                                  4.0   \n",
            "479                                                  3.5   \n",
            "67                                                   5.0   \n",
            "\n",
            "title  Godfather, The (1972)  Fugitive, The (1993)  Batman (1989)  \\\n",
            "413                      5.0                   5.0            4.0   \n",
            "589                      5.0                   4.0            3.5   \n",
            "473                      5.0                   5.0            4.0   \n",
            "479                      5.0                   3.5            4.5   \n",
            "67                       4.0                   4.5            4.0   \n",
            "\n",
            "title  Saving Private Ryan (1998)  \\\n",
            "413                           5.0   \n",
            "589                           4.0   \n",
            "473                           3.0   \n",
            "479                           4.5   \n",
            "67                            4.0   \n",
            "\n",
            "title  Lord of the Rings: The Two Towers, The (2002)  \\\n",
            "413                                              5.0   \n",
            "589                                              5.0   \n",
            "473                                              5.0   \n",
            "479                                              4.5   \n",
            "67                                               4.0   \n",
            "\n",
            "title  Lord of the Rings: The Return of the King, The (2003)  Aladdin (1992)  \\\n",
            "413                                                  4.0                 4.0   \n",
            "589                                                  4.5                 4.0   \n",
            "473                                                  5.0                 4.0   \n",
            "479                                                  4.0                 4.0   \n",
            "67                                                   4.5                 3.5   \n",
            "\n",
            "title  Fargo (1996)  Sixth Sense, The (1999)  \n",
            "413             5.0                      3.0  \n",
            "589             4.0                      3.5  \n",
            "473             4.0                      5.0  \n",
            "479             4.0                      4.0  \n",
            "67              2.5                      2.5  \n",
            "\n",
            "[5 rows x 30 columns]\n"
          ]
        }
      ]
    },
    {
      "cell_type": "code",
      "metadata": {
        "id": "tMmuIqVxgGAN",
        "colab": {
          "base_uri": "https://localhost:8080/",
          "height": 471
        },
        "outputId": "5e6773a4-407c-46e2-99ce-6b94c6bc8c48"
      },
      "source": [
        "# Define the plotting heatmap function\n",
        "def draw_movies_heatmap(most_rated_movies_users_selection, axis_labels=True):\n",
        "    \n",
        "    fig = plt.figure(figsize=(15,4))\n",
        "    ax = plt.gca()\n",
        "    \n",
        "    # Draw heatmap\n",
        "    heatmap = ax.imshow(most_rated_movies_users_selection,  interpolation='nearest', vmin=0, vmax=5, aspect='auto')\n",
        "    if axis_labels:\n",
        "        ax.set_yticks(np.arange(most_rated_movies_users_selection.shape[0]) , minor=False)\n",
        "        ax.set_xticks(np.arange(most_rated_movies_users_selection.shape[1]) , minor=False)\n",
        "        ax.invert_yaxis()\n",
        "        ax.xaxis.tick_top()\n",
        "        labels = most_rated_movies_users_selection.columns.str[:40]\n",
        "        ax.set_xticklabels(labels, minor=False)\n",
        "        ax.set_yticklabels(most_rated_movies_users_selection.index, minor=False)\n",
        "        plt.setp(ax.get_xticklabels(), rotation=90)\n",
        "    else:\n",
        "        ax.get_xaxis().set_visible(False)\n",
        "        ax.get_yaxis().set_visible(False)\n",
        "    \n",
        "    ax.grid(False)\n",
        "    ax.set_ylabel('User id')# Separate heatmap from color bar\n",
        "    divider = make_axes_locatable(ax)\n",
        "    cax = divider.append_axes(\"right\", size=\"5%\", pad=0.05)# Color bar\n",
        "    cbar = fig.colorbar(heatmap, ticks=[5, 4, 3, 2, 1, 0], cax=cax)\n",
        "    cbar.ax.set_yticklabels(['5 stars', '4 stars','3 stars','2 stars','1 stars','0 stars'])\n",
        "    plt.show()# Print the heatmap\n",
        "draw_movies_heatmap(most_rated_movies_users_selection)"
      ],
      "execution_count": 17,
      "outputs": [
        {
          "output_type": "display_data",
          "data": {
            "text/plain": [
              "<Figure size 1080x288 with 2 Axes>"
            ],
            "image/png": "[encoded data removed]"
          },
          "metadata": {
            "needs_background": "light"
          }
        }
      ]
    },
    {
      "cell_type": "code",
      "metadata": {
        "id": "nTdEC1i5hS-M"
      },
      "source": [
        "# Pivot the dataset and choose the first 1000 movies\n",
        "user_movie_ratings =  pd.pivot_table(ratings_title, index='userId', columns= 'title', values='rating')\n",
        "most_rated_movies_1k = get_most_rated_movies(user_movie_ratings, 1000).replace(np.nan, 0)"
      ],
      "execution_count": 18,
      "outputs": []
    },
    {
      "cell_type": "code",
      "metadata": {
        "id": "YMGpCM8SikyB"
      },
      "source": [
        "from scipy import sparse\n",
        "\n",
        "# Conversion to sparse csr matrix\n",
        "sparse_ratings = sparse.csr_matrix(most_rated_movies_1k.values)"
      ],
      "execution_count": 19,
      "outputs": []
    },
    {
      "cell_type": "markdown",
      "metadata": {
        "id": "5j6M6TL7j5B7"
      },
      "source": [
        "### Large Scale Clustering"
      ]
    },
    {
      "cell_type": "code",
      "metadata": {
        "id": "pcvHmGnZipva"
      },
      "source": [
        "# 20 clusters\n",
        "predictions = KMeans(n_clusters=20, algorithm='full').fit_predict(sparse_ratings)\n",
        "# Select the mas number of users and movies heatmap cluster\n",
        "# Cluster and print some of them\n",
        "clustered = pd.concat([get_most_rated_movies(user_movie_ratings, 1000).reset_index(), pd.DataFrame({'group':predictions})], axis=1)\n",
        "# draw_movie_clusters(clustered, max_users, max_movies)"
      ],
      "execution_count": 20,
      "outputs": []
    },
    {
      "cell_type": "markdown",
      "metadata": {
        "id": "wr82U3hYo7gg"
      },
      "source": [
        "### Predictions and Recommendation "
      ]
    },
    {
      "cell_type": "code",
      "metadata": {
        "colab": {
          "base_uri": "https://localhost:8080/",
          "height": 1000
        },
        "id": "KSx-kAa2j9rJ",
        "outputId": "84ec3a69-d093-4e9c-b318-d4ecf6d9a270"
      },
      "source": [
        "# Pick a cluster ID from the clusters above\n",
        "cluster_number = 11\n",
        "# Let's filter to only see the region of the dataset with the most number of values \n",
        "n_users = 75\n",
        "n_movies = 300\n",
        "cluster = clustered[clustered.group == cluster_number].drop(['index', 'group'], axis=1)\n",
        "print(cluster)\n",
        "# Sort and print the cluster\n",
        "cluster = sort_by_rating_density(cluster, n_movies, n_users)\n",
        "draw_movies_heatmap(cluster, axis_labels=False)"
      ],
      "execution_count": 21,
      "outputs": [
        {
          "output_type": "stream",
          "name": "stdout",
          "text": [
            "     Forrest Gump (1994)  Shawshank Redemption, The (1994)  \\\n",
            "0                    4.0                               NaN   \n",
            "26                   5.0                               NaN   \n",
            "38                   NaN                               NaN   \n",
            "58                   NaN                               NaN   \n",
            "78                   NaN                               NaN   \n",
            "81                   4.5                               NaN   \n",
            "94                   NaN                               NaN   \n",
            "95                   NaN                               NaN   \n",
            "114                  NaN                               NaN   \n",
            "115                  4.0                               NaN   \n",
            "163                  NaN                               NaN   \n",
            "170                  NaN                               5.0   \n",
            "182                  NaN                               NaN   \n",
            "185                  NaN                               NaN   \n",
            "194                  NaN                               5.0   \n",
            "197                  5.0                               5.0   \n",
            "200                  5.0                               NaN   \n",
            "233                  NaN                               NaN   \n",
            "243                  5.0                               NaN   \n",
            "264                  NaN                               4.0   \n",
            "265                  4.0                               NaN   \n",
            "266                  NaN                               NaN   \n",
            "302                  NaN                               NaN   \n",
            "303                  5.0                               4.0   \n",
            "311                  4.0                               NaN   \n",
            "312                  NaN                               3.0   \n",
            "367                  4.0                               NaN   \n",
            "371                  3.0                               5.0   \n",
            "384                  4.0                               5.0   \n",
            "464                  5.0                               NaN   \n",
            "492                  NaN                               NaN   \n",
            "523                  NaN                               1.0   \n",
            "526                  NaN                               NaN   \n",
            "531                  NaN                               4.0   \n",
            "576                  5.0                               5.0   \n",
            "593                  NaN                               NaN   \n",
            "606                  NaN                               5.0   \n",
            "\n",
            "     Pulp Fiction (1994)  Silence of the Lambs, The (1991)  \\\n",
            "0                    3.0                               4.0   \n",
            "26                   NaN                               NaN   \n",
            "38                   5.0                               5.0   \n",
            "58                   NaN                               5.0   \n",
            "78                   NaN                               NaN   \n",
            "81                   NaN                               NaN   \n",
            "94                   NaN                               NaN   \n",
            "95                   5.0                               NaN   \n",
            "114                  5.0                               5.0   \n",
            "115                  NaN                               2.0   \n",
            "163                  NaN                               NaN   \n",
            "170                  5.0                               5.0   \n",
            "182                  NaN                               NaN   \n",
            "185                  NaN                               5.0   \n",
            "194                  5.0                               NaN   \n",
            "197                  5.0                               4.0   \n",
            "200                  5.0                               5.0   \n",
            "233                  NaN                               NaN   \n",
            "243                  NaN                               4.0   \n",
            "264                  NaN                               5.0   \n",
            "265                  5.0                               NaN   \n",
            "266                  NaN                               5.0   \n",
            "302                  NaN                               NaN   \n",
            "303                  5.0                               4.0   \n",
            "311                  NaN                               NaN   \n",
            "312                  5.0                               5.0   \n",
            "367                  5.0                               4.0   \n",
            "371                  4.0                               4.0   \n",
            "384                  4.0                               3.0   \n",
            "464                  NaN                               5.0   \n",
            "492                  NaN                               NaN   \n",
            "523                  NaN                               4.0   \n",
            "526                  NaN                               5.0   \n",
            "531                  NaN                               4.0   \n",
            "576                  NaN                               4.0   \n",
            "593                  NaN                               5.0   \n",
            "606                  3.0                               5.0   \n",
            "\n",
            "     Matrix, The (1999)  Star Wars: Episode IV - A New Hope (1977)  \\\n",
            "0                   5.0                                        5.0   \n",
            "26                  NaN                                        4.0   \n",
            "38                  5.0                                        5.0   \n",
            "58                  1.0                                        4.0   \n",
            "78                  4.0                                        5.0   \n",
            "81                  4.0                                        3.5   \n",
            "94                  5.0                                        5.0   \n",
            "95                  4.0                                        5.0   \n",
            "114                 3.0                                        5.0   \n",
            "115                 NaN                                        NaN   \n",
            "163                 NaN                                        NaN   \n",
            "170                 NaN                                        4.0   \n",
            "182                 NaN                                        NaN   \n",
            "185                 3.0                                        4.0   \n",
            "194                 3.0                                        4.0   \n",
            "197                 5.0                                        5.0   \n",
            "200                 NaN                                        5.0   \n",
            "233                 5.0                                        5.0   \n",
            "243                 4.0                                        NaN   \n",
            "264                 5.0                                        5.0   \n",
            "265                 5.0                                        4.0   \n",
            "266                 5.0                                        5.0   \n",
            "302                 5.0                                        3.5   \n",
            "303                 4.0                                        5.0   \n",
            "311                 3.0                                        5.0   \n",
            "312                 5.0                                        3.0   \n",
            "367                 4.0                                        4.0   \n",
            "371                 NaN                                        4.0   \n",
            "384                 NaN                                        4.0   \n",
            "464                 4.0                                        NaN   \n",
            "492                 5.0                                        5.0   \n",
            "523                 NaN                                        5.0   \n",
            "526                 NaN                                        5.0   \n",
            "531                 5.0                                        NaN   \n",
            "576                 NaN                                        5.0   \n",
            "593                 5.0                                        NaN   \n",
            "606                 5.0                                        3.0   \n",
            "\n",
            "     Jurassic Park (1993)  Braveheart (1995)  \\\n",
            "0                     4.0                4.0   \n",
            "26                    4.0                NaN   \n",
            "38                    NaN                NaN   \n",
            "58                    3.0                2.0   \n",
            "78                    5.0                NaN   \n",
            "81                    4.0                4.5   \n",
            "94                    3.5                NaN   \n",
            "95                    5.0                5.0   \n",
            "114                   5.0                3.0   \n",
            "115                   4.0                NaN   \n",
            "163                   5.0                5.0   \n",
            "170                   NaN                NaN   \n",
            "182                   4.0                5.0   \n",
            "185                   4.0                NaN   \n",
            "194                   NaN                NaN   \n",
            "197                   3.0                3.0   \n",
            "200                   5.0                NaN   \n",
            "233                   5.0                NaN   \n",
            "243                   NaN                5.0   \n",
            "264                   4.0                3.0   \n",
            "265                   4.0                5.0   \n",
            "266                   5.0                4.0   \n",
            "302                   3.5                NaN   \n",
            "303                   4.0                5.0   \n",
            "311                   3.0                4.0   \n",
            "312                   3.0                NaN   \n",
            "367                   4.0                4.0   \n",
            "371                   NaN                4.0   \n",
            "384                   4.0                NaN   \n",
            "464                   NaN                NaN   \n",
            "492                   NaN                5.0   \n",
            "523                   4.0                3.0   \n",
            "526                   5.0                NaN   \n",
            "531                   4.0                5.0   \n",
            "576                   5.0                4.0   \n",
            "593                   5.0                5.0   \n",
            "606                   4.0                5.0   \n",
            "\n",
            "     Terminator 2: Judgment Day (1991)  Schindler's List (1993)  ...  \\\n",
            "0                                  NaN                      5.0  ...   \n",
            "26                                 NaN                      NaN  ...   \n",
            "38                                 4.0                      NaN  ...   \n",
            "58                                 4.0                      5.0  ...   \n",
            "78                                 5.0                      NaN  ...   \n",
            "81                                 4.5                      NaN  ...   \n",
            "94                                 4.0                      NaN  ...   \n",
            "95                                 5.0                      5.0  ...   \n",
            "114                                5.0                      NaN  ...   \n",
            "115                                4.0                      2.0  ...   \n",
            "163                                5.0                      NaN  ...   \n",
            "170                                NaN                      NaN  ...   \n",
            "182                                5.0                      NaN  ...   \n",
            "185                                5.0                      NaN  ...   \n",
            "194                                3.0                      4.0  ...   \n",
            "197                                3.0                      NaN  ...   \n",
            "200                                5.0                      NaN  ...   \n",
            "233                                NaN                      NaN  ...   \n",
            "243                                4.0                      NaN  ...   \n",
            "264                                4.0                      NaN  ...   \n",
            "265                                4.0                      NaN  ...   \n",
            "266                                5.0                      NaN  ...   \n",
            "302                                5.0                      NaN  ...   \n",
            "303                                5.0                      5.0  ...   \n",
            "311                                4.0                      5.0  ...   \n",
            "312                                5.0                      NaN  ...   \n",
            "367                                3.0                      5.0  ...   \n",
            "371                                4.0                      5.0  ...   \n",
            "384                                5.0                      NaN  ...   \n",
            "464                                NaN                      5.0  ...   \n",
            "492                                4.0                      NaN  ...   \n",
            "523                                5.0                      NaN  ...   \n",
            "526                                NaN                      1.0  ...   \n",
            "531                                4.0                      5.0  ...   \n",
            "576                                NaN                      5.0  ...   \n",
            "593                                5.0                      NaN  ...   \n",
            "606                                4.0                      5.0  ...   \n",
            "\n",
            "     Scary Movie 2 (2001)  About Schmidt (2002)  21 Jump Street (2012)  \\\n",
            "0                     NaN                   NaN                    NaN   \n",
            "26                    NaN                   NaN                    NaN   \n",
            "38                    NaN                   NaN                    NaN   \n",
            "58                    NaN                   NaN                    NaN   \n",
            "78                    NaN                   NaN                    NaN   \n",
            "81                    4.0                   NaN                    NaN   \n",
            "94                    NaN                   NaN                    NaN   \n",
            "95                    NaN                   NaN                    NaN   \n",
            "114                   NaN                   NaN                    NaN   \n",
            "115                   NaN                   NaN                    NaN   \n",
            "163                   NaN                   NaN                    NaN   \n",
            "170                   NaN                   NaN                    NaN   \n",
            "182                   NaN                   NaN                    NaN   \n",
            "185                   NaN                   NaN                    NaN   \n",
            "194                   NaN                   NaN                    NaN   \n",
            "197                   1.0                   NaN                    NaN   \n",
            "200                   NaN                   NaN                    NaN   \n",
            "233                   NaN                   NaN                    NaN   \n",
            "243                   NaN                   NaN                    NaN   \n",
            "264                   NaN                   NaN                    NaN   \n",
            "265                   NaN                   NaN                    NaN   \n",
            "266                   NaN                   NaN                    NaN   \n",
            "302                   NaN                   NaN                    NaN   \n",
            "303                   NaN                   NaN                    NaN   \n",
            "311                   NaN                   4.0                    NaN   \n",
            "312                   NaN                   NaN                    NaN   \n",
            "367                   NaN                   NaN                    NaN   \n",
            "371                   NaN                   NaN                    NaN   \n",
            "384                   NaN                   NaN                    NaN   \n",
            "464                   NaN                   NaN                    NaN   \n",
            "492                   NaN                   NaN                    NaN   \n",
            "523                   NaN                   NaN                    NaN   \n",
            "526                   NaN                   NaN                    NaN   \n",
            "531                   NaN                   NaN                    NaN   \n",
            "576                   NaN                   NaN                    NaN   \n",
            "593                   NaN                   NaN                    NaN   \n",
            "606                   NaN                   NaN                    NaN   \n",
            "\n",
            "     Cider House Rules, The (1999)  Death Proof (2007)  Moonraker (1979)  \\\n",
            "0                              NaN                 NaN               NaN   \n",
            "26                             NaN                 NaN               NaN   \n",
            "38                             NaN                 NaN               NaN   \n",
            "58                             NaN                 NaN               NaN   \n",
            "78                             NaN                 NaN               NaN   \n",
            "81                             NaN                 NaN               3.5   \n",
            "94                             NaN                 NaN               NaN   \n",
            "95                             NaN                 NaN               NaN   \n",
            "114                            NaN                 NaN               NaN   \n",
            "115                            NaN                 NaN               NaN   \n",
            "163                            NaN                 NaN               NaN   \n",
            "170                            NaN                 NaN               NaN   \n",
            "182                            NaN                 NaN               NaN   \n",
            "185                            NaN                 NaN               4.0   \n",
            "194                            4.0                 NaN               NaN   \n",
            "197                            NaN                 NaN               NaN   \n",
            "200                            NaN                 NaN               NaN   \n",
            "233                            NaN                 NaN               NaN   \n",
            "243                            NaN                 NaN               NaN   \n",
            "264                            3.0                 NaN               NaN   \n",
            "265                            NaN                 NaN               NaN   \n",
            "266                            NaN                 NaN               NaN   \n",
            "302                            NaN                 NaN               NaN   \n",
            "303                            NaN                 NaN               NaN   \n",
            "311                            NaN                 NaN               NaN   \n",
            "312                            NaN                 NaN               4.0   \n",
            "367                            4.0                 NaN               2.0   \n",
            "371                            NaN                 NaN               NaN   \n",
            "384                            NaN                 NaN               NaN   \n",
            "464                            NaN                 NaN               NaN   \n",
            "492                            NaN                 NaN               NaN   \n",
            "523                            NaN                 NaN               NaN   \n",
            "526                            NaN                 NaN               NaN   \n",
            "531                            NaN                 NaN               NaN   \n",
            "576                            NaN                 NaN               NaN   \n",
            "593                            NaN                 NaN               NaN   \n",
            "606                            NaN                 NaN               NaN   \n",
            "\n",
            "     Virgin Suicides, The (1999)  ¡Three Amigos! (1986)  \\\n",
            "0                            NaN                    4.0   \n",
            "26                           NaN                    5.0   \n",
            "38                           NaN                    NaN   \n",
            "58                           NaN                    NaN   \n",
            "78                           NaN                    NaN   \n",
            "81                           NaN                    NaN   \n",
            "94                           NaN                    NaN   \n",
            "95                           NaN                    NaN   \n",
            "114                          NaN                    NaN   \n",
            "115                          NaN                    NaN   \n",
            "163                          NaN                    NaN   \n",
            "170                          NaN                    NaN   \n",
            "182                          NaN                    NaN   \n",
            "185                          NaN                    NaN   \n",
            "194                          NaN                    NaN   \n",
            "197                          NaN                    2.0   \n",
            "200                          NaN                    NaN   \n",
            "233                          NaN                    NaN   \n",
            "243                          NaN                    NaN   \n",
            "264                          NaN                    NaN   \n",
            "265                          NaN                    NaN   \n",
            "266                          NaN                    NaN   \n",
            "302                          NaN                    NaN   \n",
            "303                          NaN                    NaN   \n",
            "311                          NaN                    NaN   \n",
            "312                          NaN                    1.0   \n",
            "367                          NaN                    NaN   \n",
            "371                          NaN                    NaN   \n",
            "384                          NaN                    NaN   \n",
            "464                          NaN                    NaN   \n",
            "492                          NaN                    NaN   \n",
            "523                          NaN                    NaN   \n",
            "526                          NaN                    NaN   \n",
            "531                          NaN                    NaN   \n",
            "576                          NaN                    NaN   \n",
            "593                          NaN                    NaN   \n",
            "606                          NaN                    NaN   \n",
            "\n",
            "     Waking Ned Devine (a.k.a. Waking Ned) (1998)  Jacob's Ladder (1990)  \n",
            "0                                             NaN                    NaN  \n",
            "26                                            NaN                    NaN  \n",
            "38                                            NaN                    NaN  \n",
            "58                                            NaN                    NaN  \n",
            "78                                            NaN                    NaN  \n",
            "81                                            NaN                    NaN  \n",
            "94                                            NaN                    NaN  \n",
            "95                                            NaN                    NaN  \n",
            "114                                           NaN                    NaN  \n",
            "115                                           NaN                    NaN  \n",
            "163                                           NaN                    NaN  \n",
            "170                                           NaN                    NaN  \n",
            "182                                           NaN                    NaN  \n",
            "185                                           NaN                    NaN  \n",
            "194                                           NaN                    NaN  \n",
            "197                                           NaN                    NaN  \n",
            "200                                           NaN                    NaN  \n",
            "233                                           NaN                    NaN  \n",
            "243                                           NaN                    NaN  \n",
            "264                                           NaN                    NaN  \n",
            "265                                           NaN                    NaN  \n",
            "266                                           NaN                    NaN  \n",
            "302                                           NaN                    NaN  \n",
            "303                                           NaN                    NaN  \n",
            "311                                           NaN                    4.0  \n",
            "312                                           NaN                    NaN  \n",
            "367                                           NaN                    3.0  \n",
            "371                                           NaN                    NaN  \n",
            "384                                           NaN                    NaN  \n",
            "464                                           NaN                    NaN  \n",
            "492                                           NaN                    NaN  \n",
            "523                                           NaN                    NaN  \n",
            "526                                           NaN                    NaN  \n",
            "531                                           NaN                    NaN  \n",
            "576                                           NaN                    NaN  \n",
            "593                                           NaN                    NaN  \n",
            "606                                           NaN                    5.0  \n",
            "\n",
            "[37 rows x 1000 columns]\n"
          ]
        },
        {
          "output_type": "display_data",
          "data": {
            "text/plain": [
              "<Figure size 1080x288 with 2 Axes>"
            ],
            "image/png": "[encoded data removed]"
          },
          "metadata": {
            "needs_background": "light"
          }
        }
      ]
    },
    {
      "cell_type": "code",
      "metadata": {
        "colab": {
          "base_uri": "https://localhost:8080/"
        },
        "id": "K1H3vAespxSf",
        "outputId": "356c6f86-efe4-4329-fed2-da2af107abb7"
      },
      "source": [
        "# Fill in the name of the column/movie. e.g. 'Forrest Gump (1994)'\n",
        "movie_name = \"Matrix, The (1999)\"\n",
        "cluster[movie_name].mean()"
      ],
      "execution_count": 22,
      "outputs": [
        {
          "output_type": "execute_result",
          "data": {
            "text/plain": [
              "4.269230769230769"
            ]
          },
          "metadata": {},
          "execution_count": 22
        }
      ]
    },
    {
      "cell_type": "code",
      "metadata": {
        "colab": {
          "base_uri": "https://localhost:8080/"
        },
        "id": "4eaBbILNpsWA",
        "outputId": "a42c3bdf-663c-46df-9142-d526790282d4"
      },
      "source": [
        "# The average rating of 20 movies as rated by the users in the cluster\n",
        "cluster.mean().head(20)"
      ],
      "execution_count": 23,
      "outputs": [
        {
          "output_type": "execute_result",
          "data": {
            "text/plain": [
              "Star Wars: Episode V - The Empire Strikes Back (1980)                             4.454545\n",
              "Star Wars: Episode VI - Return of the Jedi (1983)                                 4.338710\n",
              "Star Wars: Episode IV - A New Hope (1977)                                         4.466667\n",
              "Jurassic Park (1993)                                                              4.166667\n",
              "Terminator 2: Judgment Day (1991)                                                 4.383333\n",
              "Aliens (1986)                                                                     4.407407\n",
              "Raiders of the Lost Ark (Indiana Jones and the Raiders of the Lost Ark) (1981)    4.685185\n",
              "Matrix, The (1999)                                                                4.269231\n",
              "Terminator, The (1984)                                                            4.400000\n",
              "Indiana Jones and the Last Crusade (1989)                                         4.320000\n",
              "Saving Private Ryan (1998)                                                        4.460000\n",
              "Alien (1979)                                                                      4.020000\n",
              "Independence Day (a.k.a. ID4) (1996)                                              3.250000\n",
              "Silence of the Lambs, The (1991)                                                  4.416667\n",
              "E.T. the Extra-Terrestrial (1982)                                                 4.000000\n",
              "Men in Black (a.k.a. MIB) (1997)                                                  3.847826\n",
              "Back to the Future (1985)                                                         4.478261\n",
              "Braveheart (1995)                                                                 4.204545\n",
              "Batman (1989)                                                                     3.590909\n",
              "Fugitive, The (1993)                                                              4.214286\n",
              "dtype: float64"
            ]
          },
          "metadata": {},
          "execution_count": 23
        }
      ]
    },
    {
      "cell_type": "code",
      "metadata": {
        "colab": {
          "base_uri": "https://localhost:8080/"
        },
        "id": "4VKa3_ZiyeGg",
        "outputId": "24aac8ee-1b6b-4e62-d47d-615647827493"
      },
      "source": [
        "# Predict for a specific user\n",
        "\n",
        "# Pick a user ID from the dataset\n",
        "user_id = 19\n",
        "# Get all this user's ratings\n",
        "user_2_ratings  = cluster.loc[user_id, :]\n",
        "# Which movies did they not rate? \n",
        "user_2_unrated_movies =  user_2_ratings[user_2_ratings.isnull()]\n",
        "# What are the ratings of these movies the user did not rate?\n",
        "avg_ratings = pd.concat([user_2_unrated_movies, cluster.mean()], axis=1, join='inner').loc[:,0]\n",
        "# Let's sort by rating so the highest rated movies are presented first\n",
        "avg_ratings.sort_values(ascending=False)[:20]"
      ],
      "execution_count": 24,
      "outputs": [
        {
          "output_type": "execute_result",
          "data": {
            "text/plain": [
              "Fight Club (1999)                                                              5.000000\n",
              "Good Morning, Vietnam (1987)                                                   4.833333\n",
              "Chinatown (1974)                                                               4.800000\n",
              "Reservoir Dogs (1992)                                                          4.750000\n",
              "Green Mile, The (1999)                                                         4.714286\n",
              "Glory (1989)                                                                   4.666667\n",
              "Pulp Fiction (1994)                                                            4.600000\n",
              "Dr. Strangelove or: How I Learned to Stop Worrying and Love the Bomb (1964)    4.571429\n",
              "Goodfellas (1990)                                                              4.538462\n",
              "Run Lola Run (Lola rennt) (1998)                                               4.500000\n",
              "Untouchables, The (1987)                                                       4.500000\n",
              "Hunt for Red October, The (1990)                                               4.466667\n",
              "Apocalypse Now (1979)                                                          4.466667\n",
              "Forrest Gump (1994)                                                            4.433333\n",
              "Schindler's List (1993)                                                        4.428571\n",
              "Princess Bride, The (1987)                                                     4.421053\n",
              "Aliens (1986)                                                                  4.407407\n",
              "Brazil (1985)                                                                  4.400000\n",
              "Seven (a.k.a. Se7en) (1995)                                                    4.400000\n",
              "Ben-Hur (1959)                                                                 4.375000\n",
              "Name: 0, dtype: float64"
            ]
          },
          "metadata": {},
          "execution_count": 24
        }
      ]
    },
    {
      "cell_type": "markdown",
      "metadata": {
        "id": "w4SISKyey5rb"
      },
      "source": [
        "## Using Collaborative Filtering (With fast.ai)"
      ]
    },
    {
      "cell_type": "code",
      "metadata": {
        "id": "Eh_wLcmh4nFi",
        "outputId": "0e5f31c3-9279-468a-eacf-be810ac5412f",
        "colab": {
          "base_uri": "https://localhost:8080/"
        }
      },
      "source": [
        "! [ -e /content ] && pip install -Uqq fastai"
      ],
      "execution_count": 25,
      "outputs": [
        {
          "output_type": "stream",
          "name": "stdout",
          "text": [
            "\u001b[K     |████████████████████████████████| 197 kB 9.9 MB/s \n",
            "\u001b[K     |████████████████████████████████| 60 kB 4.9 MB/s \n",
            "\u001b[?25h"
          ]
        }
      ]
    },
    {
      "cell_type": "code",
      "metadata": {
        "id": "_GQhuh1QzBO-"
      },
      "source": [
        "from fastai.tabular.all import *\n",
        "from fastai.collab import *"
      ],
      "execution_count": 26,
      "outputs": []
    },
    {
      "cell_type": "markdown",
      "metadata": {
        "id": "_C6VqNfy5KGG"
      },
      "source": [
        "### Training a model"
      ]
    },
    {
      "cell_type": "markdown",
      "metadata": {
        "id": "vVnoQsA25KGH"
      },
      "source": [
        "For this, we will use the [Movielens 100k data dataset](https://grouplens.org/datasets/movielens/100k/). We can download it easily and decompress it with the following function:"
      ]
    },
    {
      "cell_type": "code",
      "metadata": {
        "id": "WSpPNWVo5KGI",
        "outputId": "50ab2185-f811-435c-b765-5b1d060378a4",
        "colab": {
          "base_uri": "https://localhost:8080/",
          "height": 37
        }
      },
      "source": [
        "path = untar_data(URLs.ML_100k)"
      ],
      "execution_count": 27,
      "outputs": [
        {
          "output_type": "display_data",
          "data": {
            "text/plain": [
              "<IPython.core.display.HTML object>"
            ],
            "text/html": [
              "\n",
              "<style>\n",
              "    /* Turns off some styling */\n",
              "    progress {\n",
              "        /* gets rid of default border in Firefox and Opera. */\n",
              "        border: none;\n",
              "        /* Needs to be in here for Safari polyfill so background images work as expected. */\n",
              "        background-size: auto;\n",
              "    }\n",
              "    .progress-bar-interrupted, .progress-bar-interrupted::-webkit-progress-bar {\n",
              "        background: #F44336;\n",
              "    }\n",
              "</style>\n"
            ]
          },
          "metadata": {}
        },
        {
          "output_type": "display_data",
          "data": {
            "text/plain": [
              "<IPython.core.display.HTML object>"
            ],
            "text/html": [
              "\n",
              "    <div>\n",
              "      <progress value='4931584' class='' max='4924029' style='width:300px; height:20px; vertical-align: middle;'></progress>\n",
              "      100.15% [4931584/4924029 00:00<00:00]\n",
              "    </div>\n",
              "    "
            ]
          },
          "metadata": {}
        }
      ]
    },
    {
      "cell_type": "markdown",
      "metadata": {
        "id": "_ryXnRG55KGJ"
      },
      "source": [
        "The main table is in `u.data`. Since it's not a proper csv, we have to specify a few things while opening it: the tab delimiter, the columns we want to keep and their names."
      ]
    },
    {
      "cell_type": "code",
      "metadata": {
        "id": "9aIeuyeJ5KGL",
        "colab": {
          "base_uri": "https://localhost:8080/",
          "height": 206
        },
        "outputId": "3c8357c3-7610-41ee-8d4c-15938240ae75"
      },
      "source": [
        "ratings = pd.read_csv(path/'u.data', delimiter='\\t', header=None,\n",
        "                      usecols=(0,1,2), names=['user','movie','rating'])\n",
        "ratings.head()"
      ],
      "execution_count": 28,
      "outputs": [
        {
          "output_type": "execute_result",
          "data": {
            "text/plain": [
              "   user  movie  rating\n",
              "0   196    242       3\n",
              "1   186    302       3\n",
              "2    22    377       1\n",
              "3   244     51       2\n",
              "4   166    346       1"
            ],
            "text/html": [
              "\n",
              "  <div id=\"df-9bbb9e0a-13a3-485b-b32a-dcdf0a7073e7\">\n",
              "    <div class=\"colab-df-container\">\n",
              "      <div>\n",
              "<style scoped>\n",
              "    .dataframe tbody tr th:only-of-type {\n",
              "        vertical-align: middle;\n",
              "    }\n",
              "\n",
              "    .dataframe tbody tr th {\n",
              "        vertical-align: top;\n",
              "    }\n",
              "\n",
              "    .dataframe thead th {\n",
              "        text-align: right;\n",
              "    }\n",
              "</style>\n",
              "<table border=\"1\" class=\"dataframe\">\n",
              "  <thead>\n",
              "    <tr style=\"text-align: right;\">\n",
              "      <th></th>\n",
              "      <th>user</th>\n",
              "      <th>movie</th>\n",
              "      <th>rating</th>\n",
              "    </tr>\n",
              "  </thead>\n",
              "  <tbody>\n",
              "    <tr>\n",
              "      <th>0</th>\n",
              "      <td>196</td>\n",
              "      <td>242</td>\n",
              "      <td>3</td>\n",
              "    </tr>\n",
              "    <tr>\n",
              "      <th>1</th>\n",
              "      <td>186</td>\n",
              "      <td>302</td>\n",
              "      <td>3</td>\n",
              "    </tr>\n",
              "    <tr>\n",
              "      <th>2</th>\n",
              "      <td>22</td>\n",
              "      <td>377</td>\n",
              "      <td>1</td>\n",
              "    </tr>\n",
              "    <tr>\n",
              "      <th>3</th>\n",
              "      <td>244</td>\n",
              "      <td>51</td>\n",
              "      <td>2</td>\n",
              "    </tr>\n",
              "    <tr>\n",
              "      <th>4</th>\n",
              "      <td>166</td>\n",
              "      <td>346</td>\n",
              "      <td>1</td>\n",
              "    </tr>\n",
              "  </tbody>\n",
              "</table>\n",
              "</div>\n",
              "      <button class=\"colab-df-convert\" onclick=\"convertToInteractive('df-9bbb9e0a-13a3-485b-b32a-dcdf0a7073e7')\"\n",
              "              title=\"Convert this dataframe to an interactive table.\"\n",
              "              style=\"display:none;\">\n",
              "        \n",
              "  <svg xmlns=\"http://www.w3.org/2000/svg\" height=\"24px\"viewBox=\"0 0 24 24\"\n",
              "       width=\"24px\">\n",
              "    <path d=\"M0 0h24v24H0V0z\" fill=\"none\"/>\n",
              "    <path d=\"M18.56 5.44l.94 2.06.94-2.06 2.06-.94-2.06-.94-.94-2.06-.94 2.06-2.06.94zm-11 1L8.5 8.5l.94-2.06 2.06-.94-2.06-.94L8.5 2.5l-.94 2.06-2.06.94zm10 10l.94 2.06.94-2.06 2.06-.94-2.06-.94-.94-2.06-.94 2.06-2.06.94z\"/><path d=\"M17.41 7.96l-1.37-1.37c-.4-.4-.92-.59-1.43-.59-.52 0-1.04.2-1.43.59L10.3 9.45l-7.72 7.72c-.78.78-.78 2.05 0 2.83L4 21.41c.39.39.9.59 1.41.59.51 0 1.02-.2 1.41-.59l7.78-7.78 2.81-2.81c.8-.78.8-2.07 0-2.86zM5.41 20L4 18.59l7.72-7.72 1.47 1.35L5.41 20z\"/>\n",
              "  </svg>\n",
              "      </button>\n",
              "      \n",
              "  <style>\n",
              "    .colab-df-container {\n",
              "      display:flex;\n",
              "      flex-wrap:wrap;\n",
              "      gap: 12px;\n",
              "    }\n",
              "\n",
              "    .colab-df-convert {\n",
              "      background-color: #E8F0FE;\n",
              "      border: none;\n",
              "      border-radius: 50%;\n",
              "      cursor: pointer;\n",
              "      display: none;\n",
              "      fill: #1967D2;\n",
              "      height: 32px;\n",
              "      padding: 0 0 0 0;\n",
              "      width: 32px;\n",
              "    }\n",
              "\n",
              "    .colab-df-convert:hover {\n",
              "      background-color: #E2EBFA;\n",
              "      box-shadow: 0px 1px 2px rgba(60, 64, 67, 0.3), 0px 1px 3px 1px rgba(60, 64, 67, 0.15);\n",
              "      fill: #174EA6;\n",
              "    }\n",
              "\n",
              "    [theme=dark] .colab-df-convert {\n",
              "      background-color: #3B4455;\n",
              "      fill: #D2E3FC;\n",
              "    }\n",
              "\n",
              "    [theme=dark] .colab-df-convert:hover {\n",
              "      background-color: #434B5C;\n",
              "      box-shadow: 0px 1px 3px 1px rgba(0, 0, 0, 0.15);\n",
              "      filter: drop-shadow(0px 1px 2px rgba(0, 0, 0, 0.3));\n",
              "      fill: #FFFFFF;\n",
              "    }\n",
              "  </style>\n",
              "\n",
              "      <script>\n",
              "        const buttonEl =\n",
              "          document.querySelector('#df-9bbb9e0a-13a3-485b-b32a-dcdf0a7073e7 button.colab-df-convert');\n",
              "        buttonEl.style.display =\n",
              "          google.colab.kernel.accessAllowed ? 'block' : 'none';\n",
              "\n",
              "        async function convertToInteractive(key) {\n",
              "          const element = document.querySelector('#df-9bbb9e0a-13a3-485b-b32a-dcdf0a7073e7');\n",
              "          const dataTable =\n",
              "            await google.colab.kernel.invokeFunction('convertToInteractive',\n",
              "                                                     [key], {});\n",
              "          if (!dataTable) return;\n",
              "\n",
              "          const docLinkHtml = 'Like what you see? Visit the ' +\n",
              "            '<a target=\"_blank\" href=https://colab.research.google.com/notebooks/data_table.ipynb>data table notebook</a>'\n",
              "            + ' to learn more about interactive tables.';\n",
              "          element.innerHTML = '';\n",
              "          dataTable['output_type'] = 'display_data';\n",
              "          await google.colab.output.renderOutput(dataTable, element);\n",
              "          const docLink = document.createElement('div');\n",
              "          docLink.innerHTML = docLinkHtml;\n",
              "          element.appendChild(docLink);\n",
              "        }\n",
              "      </script>\n",
              "    </div>\n",
              "  </div>\n",
              "  "
            ]
          },
          "metadata": {},
          "execution_count": 28
        }
      ]
    },
    {
      "cell_type": "markdown",
      "metadata": {
        "id": "g0FSMvM05KGP"
      },
      "source": [
        "Movie ids are not ideal to look at things, so we load the corresponding movie id to the title that is in the table `u.item`:"
      ]
    },
    {
      "cell_type": "code",
      "metadata": {
        "id": "y3y_V-da5KGQ",
        "colab": {
          "base_uri": "https://localhost:8080/",
          "height": 206
        },
        "outputId": "9c1dc508-711c-4057-ec56-2d112efb8db0"
      },
      "source": [
        "movies = pd.read_csv(path/'u.item',  delimiter='|', encoding='latin-1',\n",
        "                     usecols=(0,1), names=('movie','title'), header=None)\n",
        "movies.head()"
      ],
      "execution_count": 29,
      "outputs": [
        {
          "output_type": "execute_result",
          "data": {
            "text/plain": [
              "   movie              title\n",
              "0      1   Toy Story (1995)\n",
              "1      2   GoldenEye (1995)\n",
              "2      3  Four Rooms (1995)\n",
              "3      4  Get Shorty (1995)\n",
              "4      5     Copycat (1995)"
            ],
            "text/html": [
              "\n",
              "  <div id=\"df-8c9a09d3-2139-4c39-98eb-6ba485c5186b\">\n",
              "    <div class=\"colab-df-container\">\n",
              "      <div>\n",
              "<style scoped>\n",
              "    .dataframe tbody tr th:only-of-type {\n",
              "        vertical-align: middle;\n",
              "    }\n",
              "\n",
              "    .dataframe tbody tr th {\n",
              "        vertical-align: top;\n",
              "    }\n",
              "\n",
              "    .dataframe thead th {\n",
              "        text-align: right;\n",
              "    }\n",
              "</style>\n",
              "<table border=\"1\" class=\"dataframe\">\n",
              "  <thead>\n",
              "    <tr style=\"text-align: right;\">\n",
              "      <th></th>\n",
              "      <th>movie</th>\n",
              "      <th>title</th>\n",
              "    </tr>\n",
              "  </thead>\n",
              "  <tbody>\n",
              "    <tr>\n",
              "      <th>0</th>\n",
              "      <td>1</td>\n",
              "      <td>Toy Story (1995)</td>\n",
              "    </tr>\n",
              "    <tr>\n",
              "      <th>1</th>\n",
              "      <td>2</td>\n",
              "      <td>GoldenEye (1995)</td>\n",
              "    </tr>\n",
              "    <tr>\n",
              "      <th>2</th>\n",
              "      <td>3</td>\n",
              "      <td>Four Rooms (1995)</td>\n",
              "    </tr>\n",
              "    <tr>\n",
              "      <th>3</th>\n",
              "      <td>4</td>\n",
              "      <td>Get Shorty (1995)</td>\n",
              "    </tr>\n",
              "    <tr>\n",
              "      <th>4</th>\n",
              "      <td>5</td>\n",
              "      <td>Copycat (1995)</td>\n",
              "    </tr>\n",
              "  </tbody>\n",
              "</table>\n",
              "</div>\n",
              "      <button class=\"colab-df-convert\" onclick=\"convertToInteractive('df-8c9a09d3-2139-4c39-98eb-6ba485c5186b')\"\n",
              "              title=\"Convert this dataframe to an interactive table.\"\n",
              "              style=\"display:none;\">\n",
              "        \n",
              "  <svg xmlns=\"http://www.w3.org/2000/svg\" height=\"24px\"viewBox=\"0 0 24 24\"\n",
              "       width=\"24px\">\n",
              "    <path d=\"M0 0h24v24H0V0z\" fill=\"none\"/>\n",
              "    <path d=\"M18.56 5.44l.94 2.06.94-2.06 2.06-.94-2.06-.94-.94-2.06-.94 2.06-2.06.94zm-11 1L8.5 8.5l.94-2.06 2.06-.94-2.06-.94L8.5 2.5l-.94 2.06-2.06.94zm10 10l.94 2.06.94-2.06 2.06-.94-2.06-.94-.94-2.06-.94 2.06-2.06.94z\"/><path d=\"M17.41 7.96l-1.37-1.37c-.4-.4-.92-.59-1.43-.59-.52 0-1.04.2-1.43.59L10.3 9.45l-7.72 7.72c-.78.78-.78 2.05 0 2.83L4 21.41c.39.39.9.59 1.41.59.51 0 1.02-.2 1.41-.59l7.78-7.78 2.81-2.81c.8-.78.8-2.07 0-2.86zM5.41 20L4 18.59l7.72-7.72 1.47 1.35L5.41 20z\"/>\n",
              "  </svg>\n",
              "      </button>\n",
              "      \n",
              "  <style>\n",
              "    .colab-df-container {\n",
              "      display:flex;\n",
              "      flex-wrap:wrap;\n",
              "      gap: 12px;\n",
              "    }\n",
              "\n",
              "    .colab-df-convert {\n",
              "      background-color: #E8F0FE;\n",
              "      border: none;\n",
              "      border-radius: 50%;\n",
              "      cursor: pointer;\n",
              "      display: none;\n",
              "      fill: #1967D2;\n",
              "      height: 32px;\n",
              "      padding: 0 0 0 0;\n",
              "      width: 32px;\n",
              "    }\n",
              "\n",
              "    .colab-df-convert:hover {\n",
              "      background-color: #E2EBFA;\n",
              "      box-shadow: 0px 1px 2px rgba(60, 64, 67, 0.3), 0px 1px 3px 1px rgba(60, 64, 67, 0.15);\n",
              "      fill: #174EA6;\n",
              "    }\n",
              "\n",
              "    [theme=dark] .colab-df-convert {\n",
              "      background-color: #3B4455;\n",
              "      fill: #D2E3FC;\n",
              "    }\n",
              "\n",
              "    [theme=dark] .colab-df-convert:hover {\n",
              "      background-color: #434B5C;\n",
              "      box-shadow: 0px 1px 3px 1px rgba(0, 0, 0, 0.15);\n",
              "      filter: drop-shadow(0px 1px 2px rgba(0, 0, 0, 0.3));\n",
              "      fill: #FFFFFF;\n",
              "    }\n",
              "  </style>\n",
              "\n",
              "      <script>\n",
              "        const buttonEl =\n",
              "          document.querySelector('#df-8c9a09d3-2139-4c39-98eb-6ba485c5186b button.colab-df-convert');\n",
              "        buttonEl.style.display =\n",
              "          google.colab.kernel.accessAllowed ? 'block' : 'none';\n",
              "\n",
              "        async function convertToInteractive(key) {\n",
              "          const element = document.querySelector('#df-8c9a09d3-2139-4c39-98eb-6ba485c5186b');\n",
              "          const dataTable =\n",
              "            await google.colab.kernel.invokeFunction('convertToInteractive',\n",
              "                                                     [key], {});\n",
              "          if (!dataTable) return;\n",
              "\n",
              "          const docLinkHtml = 'Like what you see? Visit the ' +\n",
              "            '<a target=\"_blank\" href=https://colab.research.google.com/notebooks/data_table.ipynb>data table notebook</a>'\n",
              "            + ' to learn more about interactive tables.';\n",
              "          element.innerHTML = '';\n",
              "          dataTable['output_type'] = 'display_data';\n",
              "          await google.colab.output.renderOutput(dataTable, element);\n",
              "          const docLink = document.createElement('div');\n",
              "          docLink.innerHTML = docLinkHtml;\n",
              "          element.appendChild(docLink);\n",
              "        }\n",
              "      </script>\n",
              "    </div>\n",
              "  </div>\n",
              "  "
            ]
          },
          "metadata": {},
          "execution_count": 29
        }
      ]
    },
    {
      "cell_type": "markdown",
      "metadata": {
        "id": "g11IQqmd5KGR"
      },
      "source": [
        "Next we merge it to our ratings table:"
      ]
    },
    {
      "cell_type": "code",
      "metadata": {
        "id": "eZmPTq285KGT",
        "colab": {
          "base_uri": "https://localhost:8080/",
          "height": 206
        },
        "outputId": "2712fbd5-d6d1-4fbc-bf99-82a65b61e995"
      },
      "source": [
        "ratings = ratings.merge(movies)\n",
        "ratings.head()"
      ],
      "execution_count": 30,
      "outputs": [
        {
          "output_type": "execute_result",
          "data": {
            "text/plain": [
              "   user  movie  rating         title\n",
              "0   196    242       3  Kolya (1996)\n",
              "1    63    242       3  Kolya (1996)\n",
              "2   226    242       5  Kolya (1996)\n",
              "3   154    242       3  Kolya (1996)\n",
              "4   306    242       5  Kolya (1996)"
            ],
            "text/html": [
              "\n",
              "  <div id=\"df-244c3051-8113-4f59-b9d1-49626af32459\">\n",
              "    <div class=\"colab-df-container\">\n",
              "      <div>\n",
              "<style scoped>\n",
              "    .dataframe tbody tr th:only-of-type {\n",
              "        vertical-align: middle;\n",
              "    }\n",
              "\n",
              "    .dataframe tbody tr th {\n",
              "        vertical-align: top;\n",
              "    }\n",
              "\n",
              "    .dataframe thead th {\n",
              "        text-align: right;\n",
              "    }\n",
              "</style>\n",
              "<table border=\"1\" class=\"dataframe\">\n",
              "  <thead>\n",
              "    <tr style=\"text-align: right;\">\n",
              "      <th></th>\n",
              "      <th>user</th>\n",
              "      <th>movie</th>\n",
              "      <th>rating</th>\n",
              "      <th>title</th>\n",
              "    </tr>\n",
              "  </thead>\n",
              "  <tbody>\n",
              "    <tr>\n",
              "      <th>0</th>\n",
              "      <td>196</td>\n",
              "      <td>242</td>\n",
              "      <td>3</td>\n",
              "      <td>Kolya (1996)</td>\n",
              "    </tr>\n",
              "    <tr>\n",
              "      <th>1</th>\n",
              "      <td>63</td>\n",
              "      <td>242</td>\n",
              "      <td>3</td>\n",
              "      <td>Kolya (1996)</td>\n",
              "    </tr>\n",
              "    <tr>\n",
              "      <th>2</th>\n",
              "      <td>226</td>\n",
              "      <td>242</td>\n",
              "      <td>5</td>\n",
              "      <td>Kolya (1996)</td>\n",
              "    </tr>\n",
              "    <tr>\n",
              "      <th>3</th>\n",
              "      <td>154</td>\n",
              "      <td>242</td>\n",
              "      <td>3</td>\n",
              "      <td>Kolya (1996)</td>\n",
              "    </tr>\n",
              "    <tr>\n",
              "      <th>4</th>\n",
              "      <td>306</td>\n",
              "      <td>242</td>\n",
              "      <td>5</td>\n",
              "      <td>Kolya (1996)</td>\n",
              "    </tr>\n",
              "  </tbody>\n",
              "</table>\n",
              "</div>\n",
              "      <button class=\"colab-df-convert\" onclick=\"convertToInteractive('df-244c3051-8113-4f59-b9d1-49626af32459')\"\n",
              "              title=\"Convert this dataframe to an interactive table.\"\n",
              "              style=\"display:none;\">\n",
              "        \n",
              "  <svg xmlns=\"http://www.w3.org/2000/svg\" height=\"24px\"viewBox=\"0 0 24 24\"\n",
              "       width=\"24px\">\n",
              "    <path d=\"M0 0h24v24H0V0z\" fill=\"none\"/>\n",
              "    <path d=\"M18.56 5.44l.94 2.06.94-2.06 2.06-.94-2.06-.94-.94-2.06-.94 2.06-2.06.94zm-11 1L8.5 8.5l.94-2.06 2.06-.94-2.06-.94L8.5 2.5l-.94 2.06-2.06.94zm10 10l.94 2.06.94-2.06 2.06-.94-2.06-.94-.94-2.06-.94 2.06-2.06.94z\"/><path d=\"M17.41 7.96l-1.37-1.37c-.4-.4-.92-.59-1.43-.59-.52 0-1.04.2-1.43.59L10.3 9.45l-7.72 7.72c-.78.78-.78 2.05 0 2.83L4 21.41c.39.39.9.59 1.41.59.51 0 1.02-.2 1.41-.59l7.78-7.78 2.81-2.81c.8-.78.8-2.07 0-2.86zM5.41 20L4 18.59l7.72-7.72 1.47 1.35L5.41 20z\"/>\n",
              "  </svg>\n",
              "      </button>\n",
              "      \n",
              "  <style>\n",
              "    .colab-df-container {\n",
              "      display:flex;\n",
              "      flex-wrap:wrap;\n",
              "      gap: 12px;\n",
              "    }\n",
              "\n",
              "    .colab-df-convert {\n",
              "      background-color: #E8F0FE;\n",
              "      border: none;\n",
              "      border-radius: 50%;\n",
              "      cursor: pointer;\n",
              "      display: none;\n",
              "      fill: #1967D2;\n",
              "      height: 32px;\n",
              "      padding: 0 0 0 0;\n",
              "      width: 32px;\n",
              "    }\n",
              "\n",
              "    .colab-df-convert:hover {\n",
              "      background-color: #E2EBFA;\n",
              "      box-shadow: 0px 1px 2px rgba(60, 64, 67, 0.3), 0px 1px 3px 1px rgba(60, 64, 67, 0.15);\n",
              "      fill: #174EA6;\n",
              "    }\n",
              "\n",
              "    [theme=dark] .colab-df-convert {\n",
              "      background-color: #3B4455;\n",
              "      fill: #D2E3FC;\n",
              "    }\n",
              "\n",
              "    [theme=dark] .colab-df-convert:hover {\n",
              "      background-color: #434B5C;\n",
              "      box-shadow: 0px 1px 3px 1px rgba(0, 0, 0, 0.15);\n",
              "      filter: drop-shadow(0px 1px 2px rgba(0, 0, 0, 0.3));\n",
              "      fill: #FFFFFF;\n",
              "    }\n",
              "  </style>\n",
              "\n",
              "      <script>\n",
              "        const buttonEl =\n",
              "          document.querySelector('#df-244c3051-8113-4f59-b9d1-49626af32459 button.colab-df-convert');\n",
              "        buttonEl.style.display =\n",
              "          google.colab.kernel.accessAllowed ? 'block' : 'none';\n",
              "\n",
              "        async function convertToInteractive(key) {\n",
              "          const element = document.querySelector('#df-244c3051-8113-4f59-b9d1-49626af32459');\n",
              "          const dataTable =\n",
              "            await google.colab.kernel.invokeFunction('convertToInteractive',\n",
              "                                                     [key], {});\n",
              "          if (!dataTable) return;\n",
              "\n",
              "          const docLinkHtml = 'Like what you see? Visit the ' +\n",
              "            '<a target=\"_blank\" href=https://colab.research.google.com/notebooks/data_table.ipynb>data table notebook</a>'\n",
              "            + ' to learn more about interactive tables.';\n",
              "          element.innerHTML = '';\n",
              "          dataTable['output_type'] = 'display_data';\n",
              "          await google.colab.output.renderOutput(dataTable, element);\n",
              "          const docLink = document.createElement('div');\n",
              "          docLink.innerHTML = docLinkHtml;\n",
              "          element.appendChild(docLink);\n",
              "        }\n",
              "      </script>\n",
              "    </div>\n",
              "  </div>\n",
              "  "
            ]
          },
          "metadata": {},
          "execution_count": 30
        }
      ]
    },
    {
      "cell_type": "markdown",
      "metadata": {
        "id": "PksImdkw5KGV"
      },
      "source": [
        "We can then build a `DataLoaders` object from this table. By default, it takes the first column for user, the second column for the item (here our movies) and the third column for the ratings. We need to change the value of `item_name` in our case, to use the titles instead of the ids:"
      ]
    },
    {
      "cell_type": "code",
      "metadata": {
        "id": "OV-H74uh5KGV"
      },
      "source": [
        "dls = CollabDataLoaders.from_df(ratings, item_name='title', bs=64)"
      ],
      "execution_count": 31,
      "outputs": []
    },
    {
      "cell_type": "markdown",
      "metadata": {
        "id": "nyK3Sy9L5KGW"
      },
      "source": [
        "In all applications, when the data has been assembled in a `DataLoaders`, you can have a look at it with the `show_batch` method:"
      ]
    },
    {
      "cell_type": "code",
      "metadata": {
        "id": "U07N7Tue5KGW",
        "colab": {
          "base_uri": "https://localhost:8080/",
          "height": 363
        },
        "outputId": "21a891b3-3fd3-4811-c685-e188459d63f7"
      },
      "source": [
        "dls.show_batch()"
      ],
      "execution_count": 32,
      "outputs": [
        {
          "output_type": "display_data",
          "data": {
            "text/plain": [
              "<IPython.core.display.HTML object>"
            ],
            "text/html": [
              "<table border=\"1\" class=\"dataframe\">\n",
              "  <thead>\n",
              "    <tr style=\"text-align: right;\">\n",
              "      <th></th>\n",
              "      <th>user</th>\n",
              "      <th>title</th>\n",
              "      <th>rating</th>\n",
              "    </tr>\n",
              "  </thead>\n",
              "  <tbody>\n",
              "    <tr>\n",
              "      <th>0</th>\n",
              "      <td>798</td>\n",
              "      <td>Only You (1994)</td>\n",
              "      <td>3</td>\n",
              "    </tr>\n",
              "    <tr>\n",
              "      <th>1</th>\n",
              "      <td>468</td>\n",
              "      <td>This Is Spinal Tap (1984)</td>\n",
              "      <td>5</td>\n",
              "    </tr>\n",
              "    <tr>\n",
              "      <th>2</th>\n",
              "      <td>891</td>\n",
              "      <td>Ghost and the Darkness, The (1996)</td>\n",
              "      <td>5</td>\n",
              "    </tr>\n",
              "    <tr>\n",
              "      <th>3</th>\n",
              "      <td>709</td>\n",
              "      <td>Phenomenon (1996)</td>\n",
              "      <td>4</td>\n",
              "    </tr>\n",
              "    <tr>\n",
              "      <th>4</th>\n",
              "      <td>59</td>\n",
              "      <td>Star Wars (1977)</td>\n",
              "      <td>5</td>\n",
              "    </tr>\n",
              "    <tr>\n",
              "      <th>5</th>\n",
              "      <td>413</td>\n",
              "      <td>Men in Black (1997)</td>\n",
              "      <td>4</td>\n",
              "    </tr>\n",
              "    <tr>\n",
              "      <th>6</th>\n",
              "      <td>660</td>\n",
              "      <td>Nightmare Before Christmas, The (1993)</td>\n",
              "      <td>4</td>\n",
              "    </tr>\n",
              "    <tr>\n",
              "      <th>7</th>\n",
              "      <td>56</td>\n",
              "      <td>Silence of the Lambs, The (1991)</td>\n",
              "      <td>4</td>\n",
              "    </tr>\n",
              "    <tr>\n",
              "      <th>8</th>\n",
              "      <td>788</td>\n",
              "      <td>Sting, The (1973)</td>\n",
              "      <td>4</td>\n",
              "    </tr>\n",
              "    <tr>\n",
              "      <th>9</th>\n",
              "      <td>813</td>\n",
              "      <td>Starship Troopers (1997)</td>\n",
              "      <td>4</td>\n",
              "    </tr>\n",
              "  </tbody>\n",
              "</table>"
            ]
          },
          "metadata": {}
        }
      ]
    },
    {
      "cell_type": "markdown",
      "metadata": {
        "id": "cMiAsrvW5KGY"
      },
      "source": [
        "fastai can create and train a collaborative filtering model by using `collab_learner`:"
      ]
    },
    {
      "cell_type": "code",
      "metadata": {
        "id": "0rXePHqS5KGY"
      },
      "source": [
        "learn = collab_learner(dls, n_factors=50, y_range=(0, 5.5))"
      ],
      "execution_count": 33,
      "outputs": []
    },
    {
      "cell_type": "markdown",
      "metadata": {
        "id": "58blYToq5KGY"
      },
      "source": [
        "It uses a simple dot product model with 50 latent factors. To train it using the 1cycle policy, we just run this command:"
      ]
    },
    {
      "cell_type": "code",
      "metadata": {
        "id": "ze2sG7Pd5KGZ",
        "colab": {
          "base_uri": "https://localhost:8080/",
          "height": 127
        },
        "outputId": "a57ca9a3-ac1e-4d04-d63b-bdf09bbe0dfc"
      },
      "source": [
        "learn.fit_one_cycle(5, 5e-3, wd=0.1)"
      ],
      "execution_count": null,
      "outputs": [
        {
          "output_type": "display_data",
          "data": {
            "text/plain": [
              "<IPython.core.display.HTML object>"
            ],
            "text/html": [
              "\n",
              "<style>\n",
              "    /* Turns off some styling */\n",
              "    progress {\n",
              "        /* gets rid of default border in Firefox and Opera. */\n",
              "        border: none;\n",
              "        /* Needs to be in here for Safari polyfill so background images work as expected. */\n",
              "        background-size: auto;\n",
              "    }\n",
              "    .progress-bar-interrupted, .progress-bar-interrupted::-webkit-progress-bar {\n",
              "        background: #F44336;\n",
              "    }\n",
              "</style>\n"
            ]
          },
          "metadata": {}
        },
        {
          "output_type": "display_data",
          "data": {
            "text/plain": [
              "<IPython.core.display.HTML object>"
            ],
            "text/html": [
              "\n",
              "    <div>\n",
              "      <progress value='1' class='' max='5' style='width:300px; height:20px; vertical-align: middle;'></progress>\n",
              "      20.00% [1/5 00:19<01:19]\n",
              "    </div>\n",
              "    \n",
              "<table border=\"1\" class=\"dataframe\">\n",
              "  <thead>\n",
              "    <tr style=\"text-align: left;\">\n",
              "      <th>epoch</th>\n",
              "      <th>train_loss</th>\n",
              "      <th>valid_loss</th>\n",
              "      <th>time</th>\n",
              "    </tr>\n",
              "  </thead>\n",
              "  <tbody>\n",
              "    <tr>\n",
              "      <td>0</td>\n",
              "      <td>0.920056</td>\n",
              "      <td>0.949461</td>\n",
              "      <td>00:19</td>\n",
              "    </tr>\n",
              "  </tbody>\n",
              "</table><p>\n",
              "\n",
              "    <div>\n",
              "      <progress value='254' class='' max='1250' style='width:300px; height:20px; vertical-align: middle;'></progress>\n",
              "      20.32% [254/1250 00:06<00:25 0.8886]\n",
              "    </div>\n",
              "    "
            ]
          },
          "metadata": {}
        }
      ]
    },
    {
      "cell_type": "markdown",
      "metadata": {
        "id": "uXpc4wrh5KGZ"
      },
      "source": [
        "Here's [some benchmarks](https://www.librec.net/release/v1.3/example.html) on the same dataset for the popular Librec system for collaborative filtering. They show best results based on RMSE of 0.91 (scroll down to the 100k dataset), which corresponds to an MSE of `0.91**2 = 0.83`. So in less than a minute, we got pretty good results!"
      ]
    },
    {
      "cell_type": "markdown",
      "metadata": {
        "id": "GNlR8PdV5KGa"
      },
      "source": [
        "### Interpretation"
      ]
    },
    {
      "cell_type": "markdown",
      "metadata": {
        "id": "-Kp8v39y5KGa"
      },
      "source": [
        "Let's analyze the results of our previous model. We will keep the 1000 most rated movies for this:"
      ]
    },
    {
      "cell_type": "code",
      "metadata": {
        "id": "dOBM1Dmn5KGa"
      },
      "source": [
        "g = ratings.groupby('title')['rating'].count()\n",
        "top_movies = g.sort_values(ascending=False).index.values[:1000]\n",
        "top_movies[:10]"
      ],
      "execution_count": null,
      "outputs": []
    },
    {
      "cell_type": "markdown",
      "metadata": {
        "id": "iT0TUZeV5KGa"
      },
      "source": [
        "### Movie bias"
      ]
    },
    {
      "cell_type": "markdown",
      "metadata": {
        "id": "QTfd24Ce5KGb"
      },
      "source": [
        "Our model has learned one bias per movie, a unique number independent of users that can be interpreted as the intrinsic \"value\" of the movie. We can grab the bias of each movie in our `top_movies` list with the following command:"
      ]
    },
    {
      "cell_type": "code",
      "metadata": {
        "id": "Q6_3vygf5KGb"
      },
      "source": [
        "movie_bias = learn.model.bias(top_movies, is_item=True)\n",
        "movie_bias.shape"
      ],
      "execution_count": null,
      "outputs": []
    },
    {
      "cell_type": "markdown",
      "metadata": {
        "id": "4LWSBSXB5KGb"
      },
      "source": [
        "Let's compare those biases with the average ratings:"
      ]
    },
    {
      "cell_type": "code",
      "metadata": {
        "id": "b-cmUxrz5KGc"
      },
      "source": [
        "mean_ratings = ratings.groupby('title')['rating'].mean()\n",
        "movie_ratings = [(b, i, mean_ratings.loc[i]) for i,b in zip(top_movies,movie_bias)]"
      ],
      "execution_count": null,
      "outputs": []
    },
    {
      "cell_type": "markdown",
      "metadata": {
        "id": "nQ9NpRIY5KGd"
      },
      "source": [
        "Now let's have a look at the movies with the worst bias:"
      ]
    },
    {
      "cell_type": "code",
      "metadata": {
        "id": "sPK_3uoL5KGe"
      },
      "source": [
        "item0 = lambda o:o[0]\n",
        "sorted(movie_ratings, key=item0)[:15]"
      ],
      "execution_count": null,
      "outputs": []
    },
    {
      "cell_type": "markdown",
      "metadata": {
        "id": "hyZduCwf5KGf"
      },
      "source": [
        "Or the ones with the best bias:"
      ]
    },
    {
      "cell_type": "code",
      "metadata": {
        "id": "la5TBDHx5KGg"
      },
      "source": [
        "sorted(movie_ratings, key=lambda o: o[0], reverse=True)[:15]"
      ],
      "execution_count": null,
      "outputs": []
    },
    {
      "cell_type": "markdown",
      "metadata": {
        "id": "6evHscZk5KGh"
      },
      "source": [
        "There is certainly a strong correlation!"
      ]
    },
    {
      "cell_type": "markdown",
      "metadata": {
        "id": "_eVUbKjL5KGi"
      },
      "source": [
        "### Movie weights"
      ]
    },
    {
      "cell_type": "markdown",
      "metadata": {
        "id": "rfpKAgSC5KGi"
      },
      "source": [
        "Now let's try to analyze the latent factors our model has learned. We can grab the weights for each movie in `top_movies` the same way as we did for the bias before."
      ]
    },
    {
      "cell_type": "code",
      "metadata": {
        "id": "deDn2gcH5KGj"
      },
      "source": [
        "movie_w = learn.model.weight(top_movies, is_item=True)\n",
        "movie_w.shape"
      ],
      "execution_count": null,
      "outputs": []
    },
    {
      "cell_type": "markdown",
      "metadata": {
        "id": "NMKR-0Um5KGj"
      },
      "source": [
        "Let's try a PCA to reduce the dimensions and see if we can see what the model learned:"
      ]
    },
    {
      "cell_type": "code",
      "metadata": {
        "id": "7eaYCuVt5KGk"
      },
      "source": [
        "movie_pca = movie_w.pca(3)\n",
        "movie_pca.shape"
      ],
      "execution_count": null,
      "outputs": []
    },
    {
      "cell_type": "code",
      "metadata": {
        "id": "gP8YQMM55KGl"
      },
      "source": [
        "fac0,fac1,fac2 = movie_pca.t()\n",
        "movie_comp = [(f, i) for f,i in zip(fac0, top_movies)]"
      ],
      "execution_count": null,
      "outputs": []
    },
    {
      "cell_type": "markdown",
      "metadata": {
        "id": "MRscjh3K5KGl"
      },
      "source": [
        "Here are the highest score on the first dimension:"
      ]
    },
    {
      "cell_type": "code",
      "metadata": {
        "id": "L74WWxjA5KGl"
      },
      "source": [
        "sorted(movie_comp, key=itemgetter(0), reverse=True)[:10]"
      ],
      "execution_count": null,
      "outputs": []
    },
    {
      "cell_type": "markdown",
      "metadata": {
        "id": "XMS1ASOm5KGm"
      },
      "source": [
        "And the worst:"
      ]
    },
    {
      "cell_type": "code",
      "metadata": {
        "id": "kDxgTWUW5KGm"
      },
      "source": [
        "sorted(movie_comp, key=itemgetter(0))[:10]"
      ],
      "execution_count": null,
      "outputs": []
    },
    {
      "cell_type": "markdown",
      "metadata": {
        "id": "JXZyCaJL5KGn"
      },
      "source": [
        "Same thing for our second dimension:"
      ]
    },
    {
      "cell_type": "code",
      "metadata": {
        "id": "0JR6BnTn5KGn"
      },
      "source": [
        "movie_comp = [(f, i) for f,i in zip(fac1, top_movies)]"
      ],
      "execution_count": null,
      "outputs": []
    },
    {
      "cell_type": "code",
      "metadata": {
        "id": "xj4_P5dS5KGn"
      },
      "source": [
        "sorted(movie_comp, key=itemgetter(0), reverse=True)[:10]"
      ],
      "execution_count": null,
      "outputs": []
    },
    {
      "cell_type": "code",
      "metadata": {
        "id": "28K9s9Rp5KGo"
      },
      "source": [
        "sorted(movie_comp, key=itemgetter(0))[:10]"
      ],
      "execution_count": null,
      "outputs": []
    },
    {
      "cell_type": "markdown",
      "metadata": {
        "id": "eZAynsWP5KGo"
      },
      "source": [
        "And we can even plot the movies according to their scores on those dimensions:"
      ]
    },
    {
      "cell_type": "code",
      "metadata": {
        "id": "fHtORCAp5KGp"
      },
      "source": [
        "idxs = np.random.choice(len(top_movies), 50, replace=False)\n",
        "idxs = list(range(50))\n",
        "X = fac0[idxs]\n",
        "Y = fac2[idxs]\n",
        "plt.figure(figsize=(15,15))\n",
        "plt.scatter(X, Y)\n",
        "for i, x, y in zip(top_movies[idxs], X, Y):\n",
        "    plt.text(x,y,i, color=np.random.rand(3)*0.7, fontsize=11)\n",
        "plt.show()"
      ],
      "execution_count": null,
      "outputs": []
    }
  ]
}